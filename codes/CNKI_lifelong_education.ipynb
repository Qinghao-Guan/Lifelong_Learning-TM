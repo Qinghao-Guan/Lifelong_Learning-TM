{
  "nbformat": 4,
  "nbformat_minor": 0,
  "metadata": {
    "colab": {
      "provenance": []
    },
    "kernelspec": {
      "name": "python3",
      "display_name": "Python 3"
    },
    "language_info": {
      "name": "python"
    }
  },
  "cells": [
    {
      "cell_type": "code",
      "source": [
        "!pip install bertopic"
      ],
      "metadata": {
        "colab": {
          "base_uri": "https://localhost:8080/"
        },
        "id": "FPXhZuIyS_xU",
        "outputId": "994764fa-25aa-42b8-fdd2-fec523434509"
      },
      "execution_count": null,
      "outputs": [
        {
          "output_type": "stream",
          "name": "stdout",
          "text": [
            "Collecting bertopic\n",
            "  Downloading bertopic-0.15.0-py2.py3-none-any.whl (143 kB)\n",
            "\u001b[2K     \u001b[90m━━━━━━━━━━━━━━━━━━━━━━━━━━━━━━━━━━━━━━━\u001b[0m \u001b[32m143.4/143.4 kB\u001b[0m \u001b[31m2.2 MB/s\u001b[0m eta \u001b[36m0:00:00\u001b[0m\n",
            "\u001b[?25hRequirement already satisfied: numpy>=1.20.0 in /usr/local/lib/python3.10/dist-packages (from bertopic) (1.22.4)\n",
            "Collecting hdbscan>=0.8.29 (from bertopic)\n",
            "  Downloading hdbscan-0.8.33.tar.gz (5.2 MB)\n",
            "\u001b[2K     \u001b[90m━━━━━━━━━━━━━━━━━━━━━━━━━━━━━━━━━━━━━━━━\u001b[0m \u001b[32m5.2/5.2 MB\u001b[0m \u001b[31m48.8 MB/s\u001b[0m eta \u001b[36m0:00:00\u001b[0m\n",
            "\u001b[?25h  Installing build dependencies ... \u001b[?25l\u001b[?25hdone\n",
            "  Getting requirements to build wheel ... \u001b[?25l\u001b[?25hdone\n",
            "  Preparing metadata (pyproject.toml) ... \u001b[?25l\u001b[?25hdone\n",
            "Collecting umap-learn>=0.5.0 (from bertopic)\n",
            "  Downloading umap-learn-0.5.3.tar.gz (88 kB)\n",
            "\u001b[2K     \u001b[90m━━━━━━━━━━━━━━━━━━━━━━━━━━━━━━━━━━━━━━━━\u001b[0m \u001b[32m88.2/88.2 kB\u001b[0m \u001b[31m8.7 MB/s\u001b[0m eta \u001b[36m0:00:00\u001b[0m\n",
            "\u001b[?25h  Preparing metadata (setup.py) ... \u001b[?25l\u001b[?25hdone\n",
            "Requirement already satisfied: pandas>=1.1.5 in /usr/local/lib/python3.10/dist-packages (from bertopic) (1.5.3)\n",
            "Requirement already satisfied: scikit-learn>=0.22.2.post1 in /usr/local/lib/python3.10/dist-packages (from bertopic) (1.2.2)\n",
            "Requirement already satisfied: tqdm>=4.41.1 in /usr/local/lib/python3.10/dist-packages (from bertopic) (4.65.0)\n",
            "Collecting sentence-transformers>=0.4.1 (from bertopic)\n",
            "  Downloading sentence-transformers-2.2.2.tar.gz (85 kB)\n",
            "\u001b[2K     \u001b[90m━━━━━━━━━━━━━━━━━━━━━━━━━━━━━━━━━━━━━━━━\u001b[0m \u001b[32m86.0/86.0 kB\u001b[0m \u001b[31m8.1 MB/s\u001b[0m eta \u001b[36m0:00:00\u001b[0m\n",
            "\u001b[?25h  Preparing metadata (setup.py) ... \u001b[?25l\u001b[?25hdone\n",
            "Requirement already satisfied: plotly>=4.7.0 in /usr/local/lib/python3.10/dist-packages (from bertopic) (5.13.1)\n",
            "Requirement already satisfied: cython<3,>=0.27 in /usr/local/lib/python3.10/dist-packages (from hdbscan>=0.8.29->bertopic) (0.29.36)\n",
            "Requirement already satisfied: scipy>=1.0 in /usr/local/lib/python3.10/dist-packages (from hdbscan>=0.8.29->bertopic) (1.10.1)\n",
            "Requirement already satisfied: joblib>=1.0 in /usr/local/lib/python3.10/dist-packages (from hdbscan>=0.8.29->bertopic) (1.3.1)\n",
            "Requirement already satisfied: python-dateutil>=2.8.1 in /usr/local/lib/python3.10/dist-packages (from pandas>=1.1.5->bertopic) (2.8.2)\n",
            "Requirement already satisfied: pytz>=2020.1 in /usr/local/lib/python3.10/dist-packages (from pandas>=1.1.5->bertopic) (2022.7.1)\n",
            "Requirement already satisfied: tenacity>=6.2.0 in /usr/local/lib/python3.10/dist-packages (from plotly>=4.7.0->bertopic) (8.2.2)\n",
            "Requirement already satisfied: threadpoolctl>=2.0.0 in /usr/local/lib/python3.10/dist-packages (from scikit-learn>=0.22.2.post1->bertopic) (3.2.0)\n",
            "Collecting transformers<5.0.0,>=4.6.0 (from sentence-transformers>=0.4.1->bertopic)\n",
            "  Downloading transformers-4.31.0-py3-none-any.whl (7.4 MB)\n",
            "\u001b[2K     \u001b[90m━━━━━━━━━━━━━━━━━━━━━━━━━━━━━━━━━━━━━━━━\u001b[0m \u001b[32m7.4/7.4 MB\u001b[0m \u001b[31m65.1 MB/s\u001b[0m eta \u001b[36m0:00:00\u001b[0m\n",
            "\u001b[?25hRequirement already satisfied: torch>=1.6.0 in /usr/local/lib/python3.10/dist-packages (from sentence-transformers>=0.4.1->bertopic) (2.0.1+cu118)\n",
            "Requirement already satisfied: torchvision in /usr/local/lib/python3.10/dist-packages (from sentence-transformers>=0.4.1->bertopic) (0.15.2+cu118)\n",
            "Requirement already satisfied: nltk in /usr/local/lib/python3.10/dist-packages (from sentence-transformers>=0.4.1->bertopic) (3.8.1)\n",
            "Collecting sentencepiece (from sentence-transformers>=0.4.1->bertopic)\n",
            "  Downloading sentencepiece-0.1.99-cp310-cp310-manylinux_2_17_x86_64.manylinux2014_x86_64.whl (1.3 MB)\n",
            "\u001b[2K     \u001b[90m━━━━━━━━━━━━━━━━━━━━━━━━━━━━━━━━━━━━━━━━\u001b[0m \u001b[32m1.3/1.3 MB\u001b[0m \u001b[31m58.4 MB/s\u001b[0m eta \u001b[36m0:00:00\u001b[0m\n",
            "\u001b[?25hCollecting huggingface-hub>=0.4.0 (from sentence-transformers>=0.4.1->bertopic)\n",
            "  Downloading huggingface_hub-0.16.4-py3-none-any.whl (268 kB)\n",
            "\u001b[2K     \u001b[90m━━━━━━━━━━━━━━━━━━━━━━━━━━━━━━━━━━━━━━\u001b[0m \u001b[32m268.8/268.8 kB\u001b[0m \u001b[31m21.0 MB/s\u001b[0m eta \u001b[36m0:00:00\u001b[0m\n",
            "\u001b[?25hRequirement already satisfied: numba>=0.49 in /usr/local/lib/python3.10/dist-packages (from umap-learn>=0.5.0->bertopic) (0.56.4)\n",
            "Collecting pynndescent>=0.5 (from umap-learn>=0.5.0->bertopic)\n",
            "  Downloading pynndescent-0.5.10.tar.gz (1.1 MB)\n",
            "\u001b[2K     \u001b[90m━━━━━━━━━━━━━━━━━━━━━━━━━━━━━━━━━━━━━━━━\u001b[0m \u001b[32m1.1/1.1 MB\u001b[0m \u001b[31m59.3 MB/s\u001b[0m eta \u001b[36m0:00:00\u001b[0m\n",
            "\u001b[?25h  Preparing metadata (setup.py) ... \u001b[?25l\u001b[?25hdone\n",
            "Requirement already satisfied: filelock in /usr/local/lib/python3.10/dist-packages (from huggingface-hub>=0.4.0->sentence-transformers>=0.4.1->bertopic) (3.12.2)\n",
            "Requirement already satisfied: fsspec in /usr/local/lib/python3.10/dist-packages (from huggingface-hub>=0.4.0->sentence-transformers>=0.4.1->bertopic) (2023.6.0)\n",
            "Requirement already satisfied: requests in /usr/local/lib/python3.10/dist-packages (from huggingface-hub>=0.4.0->sentence-transformers>=0.4.1->bertopic) (2.27.1)\n",
            "Requirement already satisfied: pyyaml>=5.1 in /usr/local/lib/python3.10/dist-packages (from huggingface-hub>=0.4.0->sentence-transformers>=0.4.1->bertopic) (6.0.1)\n",
            "Requirement already satisfied: typing-extensions>=3.7.4.3 in /usr/local/lib/python3.10/dist-packages (from huggingface-hub>=0.4.0->sentence-transformers>=0.4.1->bertopic) (4.7.1)\n",
            "Requirement already satisfied: packaging>=20.9 in /usr/local/lib/python3.10/dist-packages (from huggingface-hub>=0.4.0->sentence-transformers>=0.4.1->bertopic) (23.1)\n",
            "Requirement already satisfied: llvmlite<0.40,>=0.39.0dev0 in /usr/local/lib/python3.10/dist-packages (from numba>=0.49->umap-learn>=0.5.0->bertopic) (0.39.1)\n",
            "Requirement already satisfied: setuptools in /usr/local/lib/python3.10/dist-packages (from numba>=0.49->umap-learn>=0.5.0->bertopic) (67.7.2)\n",
            "Requirement already satisfied: six>=1.5 in /usr/local/lib/python3.10/dist-packages (from python-dateutil>=2.8.1->pandas>=1.1.5->bertopic) (1.16.0)\n",
            "Requirement already satisfied: sympy in /usr/local/lib/python3.10/dist-packages (from torch>=1.6.0->sentence-transformers>=0.4.1->bertopic) (1.11.1)\n",
            "Requirement already satisfied: networkx in /usr/local/lib/python3.10/dist-packages (from torch>=1.6.0->sentence-transformers>=0.4.1->bertopic) (3.1)\n",
            "Requirement already satisfied: jinja2 in /usr/local/lib/python3.10/dist-packages (from torch>=1.6.0->sentence-transformers>=0.4.1->bertopic) (3.1.2)\n",
            "Requirement already satisfied: triton==2.0.0 in /usr/local/lib/python3.10/dist-packages (from torch>=1.6.0->sentence-transformers>=0.4.1->bertopic) (2.0.0)\n",
            "Requirement already satisfied: cmake in /usr/local/lib/python3.10/dist-packages (from triton==2.0.0->torch>=1.6.0->sentence-transformers>=0.4.1->bertopic) (3.25.2)\n",
            "Requirement already satisfied: lit in /usr/local/lib/python3.10/dist-packages (from triton==2.0.0->torch>=1.6.0->sentence-transformers>=0.4.1->bertopic) (16.0.6)\n",
            "Requirement already satisfied: regex!=2019.12.17 in /usr/local/lib/python3.10/dist-packages (from transformers<5.0.0,>=4.6.0->sentence-transformers>=0.4.1->bertopic) (2022.10.31)\n",
            "Collecting tokenizers!=0.11.3,<0.14,>=0.11.1 (from transformers<5.0.0,>=4.6.0->sentence-transformers>=0.4.1->bertopic)\n",
            "  Downloading tokenizers-0.13.3-cp310-cp310-manylinux_2_17_x86_64.manylinux2014_x86_64.whl (7.8 MB)\n",
            "\u001b[2K     \u001b[90m━━━━━━━━━━━━━━━━━━━━━━━━━━━━━━━━━━━━━━━━\u001b[0m \u001b[32m7.8/7.8 MB\u001b[0m \u001b[31m88.2 MB/s\u001b[0m eta \u001b[36m0:00:00\u001b[0m\n",
            "\u001b[?25hCollecting safetensors>=0.3.1 (from transformers<5.0.0,>=4.6.0->sentence-transformers>=0.4.1->bertopic)\n",
            "  Downloading safetensors-0.3.1-cp310-cp310-manylinux_2_17_x86_64.manylinux2014_x86_64.whl (1.3 MB)\n",
            "\u001b[2K     \u001b[90m━━━━━━━━━━━━━━━━━━━━━━━━━━━━━━━━━━━━━━━━\u001b[0m \u001b[32m1.3/1.3 MB\u001b[0m \u001b[31m68.2 MB/s\u001b[0m eta \u001b[36m0:00:00\u001b[0m\n",
            "\u001b[?25hRequirement already satisfied: click in /usr/local/lib/python3.10/dist-packages (from nltk->sentence-transformers>=0.4.1->bertopic) (8.1.6)\n",
            "Requirement already satisfied: pillow!=8.3.*,>=5.3.0 in /usr/local/lib/python3.10/dist-packages (from torchvision->sentence-transformers>=0.4.1->bertopic) (9.4.0)\n",
            "Requirement already satisfied: MarkupSafe>=2.0 in /usr/local/lib/python3.10/dist-packages (from jinja2->torch>=1.6.0->sentence-transformers>=0.4.1->bertopic) (2.1.3)\n",
            "Requirement already satisfied: urllib3<1.27,>=1.21.1 in /usr/local/lib/python3.10/dist-packages (from requests->huggingface-hub>=0.4.0->sentence-transformers>=0.4.1->bertopic) (1.26.16)\n",
            "Requirement already satisfied: certifi>=2017.4.17 in /usr/local/lib/python3.10/dist-packages (from requests->huggingface-hub>=0.4.0->sentence-transformers>=0.4.1->bertopic) (2023.7.22)\n",
            "Requirement already satisfied: charset-normalizer~=2.0.0 in /usr/local/lib/python3.10/dist-packages (from requests->huggingface-hub>=0.4.0->sentence-transformers>=0.4.1->bertopic) (2.0.12)\n",
            "Requirement already satisfied: idna<4,>=2.5 in /usr/local/lib/python3.10/dist-packages (from requests->huggingface-hub>=0.4.0->sentence-transformers>=0.4.1->bertopic) (3.4)\n",
            "Requirement already satisfied: mpmath>=0.19 in /usr/local/lib/python3.10/dist-packages (from sympy->torch>=1.6.0->sentence-transformers>=0.4.1->bertopic) (1.3.0)\n",
            "Building wheels for collected packages: hdbscan, sentence-transformers, umap-learn, pynndescent\n",
            "  Building wheel for hdbscan (pyproject.toml) ... \u001b[?25l\u001b[?25hdone\n",
            "  Created wheel for hdbscan: filename=hdbscan-0.8.33-cp310-cp310-linux_x86_64.whl size=3039175 sha256=71121ad909f1f4821c397a7d441a6e59df3f3d1972fd5c7990fa5a351a9c366d\n",
            "  Stored in directory: /root/.cache/pip/wheels/75/0b/3b/dc4f60b7cc455efaefb62883a7483e76f09d06ca81cf87d610\n",
            "  Building wheel for sentence-transformers (setup.py) ... \u001b[?25l\u001b[?25hdone\n",
            "  Created wheel for sentence-transformers: filename=sentence_transformers-2.2.2-py3-none-any.whl size=125925 sha256=e06f554e4712aae805808ef474c62b1afff484fed91c92687701a9b7e3da67ae\n",
            "  Stored in directory: /root/.cache/pip/wheels/62/f2/10/1e606fd5f02395388f74e7462910fe851042f97238cbbd902f\n",
            "  Building wheel for umap-learn (setup.py) ... \u001b[?25l\u001b[?25hdone\n",
            "  Created wheel for umap-learn: filename=umap_learn-0.5.3-py3-none-any.whl size=82813 sha256=9e9f3dd651fc3adae3ff0269e77ee9bd88d745ee402dc1dc03282fca18962460\n",
            "  Stored in directory: /root/.cache/pip/wheels/a0/e8/c6/a37ea663620bd5200ea1ba0907ab3c217042c1d035ef606acc\n",
            "  Building wheel for pynndescent (setup.py) ... \u001b[?25l\u001b[?25hdone\n",
            "  Created wheel for pynndescent: filename=pynndescent-0.5.10-py3-none-any.whl size=55621 sha256=aa06c2044df23e8ec2e483c5d88df1dff31c097f030ad4520ca4717c6b5129b1\n",
            "  Stored in directory: /root/.cache/pip/wheels/4a/38/5d/f60a40a66a9512b7e5e83517ebc2d1b42d857be97d135f1096\n",
            "Successfully built hdbscan sentence-transformers umap-learn pynndescent\n",
            "Installing collected packages: tokenizers, sentencepiece, safetensors, huggingface-hub, transformers, pynndescent, hdbscan, umap-learn, sentence-transformers, bertopic\n",
            "Successfully installed bertopic-0.15.0 hdbscan-0.8.33 huggingface-hub-0.16.4 pynndescent-0.5.10 safetensors-0.3.1 sentence-transformers-2.2.2 sentencepiece-0.1.99 tokenizers-0.13.3 transformers-4.31.0 umap-learn-0.5.3\n"
          ]
        }
      ]
    },
    {
      "cell_type": "code",
      "execution_count": null,
      "metadata": {
        "id": "pIplgQmB7zMX"
      },
      "outputs": [],
      "source": [
        "import os\n",
        "import pandas as pd\n",
        "import re\n",
        "import jieba\n",
        "import jieba.posseg as psg\n",
        "from gensim.models import KeyedVectors\n",
        "from matplotlib import pyplot as plt\n",
        "from bertopic import BERTopic\n",
        "import numpy as np"
      ]
    },
    {
      "cell_type": "code",
      "source": [
        "!pip install gdown"
      ],
      "metadata": {
        "colab": {
          "base_uri": "https://localhost:8080/"
        },
        "id": "wGnrHL2QO--M",
        "outputId": "15bb78e8-09de-452d-ddba-bc9e5dfb1efa"
      },
      "execution_count": null,
      "outputs": [
        {
          "output_type": "stream",
          "name": "stdout",
          "text": [
            "Requirement already satisfied: gdown in /usr/local/lib/python3.10/dist-packages (4.6.6)\n",
            "Requirement already satisfied: filelock in /usr/local/lib/python3.10/dist-packages (from gdown) (3.12.2)\n",
            "Requirement already satisfied: requests[socks] in /usr/local/lib/python3.10/dist-packages (from gdown) (2.27.1)\n",
            "Requirement already satisfied: six in /usr/local/lib/python3.10/dist-packages (from gdown) (1.16.0)\n",
            "Requirement already satisfied: tqdm in /usr/local/lib/python3.10/dist-packages (from gdown) (4.65.0)\n",
            "Requirement already satisfied: beautifulsoup4 in /usr/local/lib/python3.10/dist-packages (from gdown) (4.11.2)\n",
            "Requirement already satisfied: soupsieve>1.2 in /usr/local/lib/python3.10/dist-packages (from beautifulsoup4->gdown) (2.4.1)\n",
            "Requirement already satisfied: urllib3<1.27,>=1.21.1 in /usr/local/lib/python3.10/dist-packages (from requests[socks]->gdown) (1.26.16)\n",
            "Requirement already satisfied: certifi>=2017.4.17 in /usr/local/lib/python3.10/dist-packages (from requests[socks]->gdown) (2023.7.22)\n",
            "Requirement already satisfied: charset-normalizer~=2.0.0 in /usr/local/lib/python3.10/dist-packages (from requests[socks]->gdown) (2.0.12)\n",
            "Requirement already satisfied: idna<4,>=2.5 in /usr/local/lib/python3.10/dist-packages (from requests[socks]->gdown) (3.4)\n",
            "Requirement already satisfied: PySocks!=1.5.7,>=1.5.6 in /usr/local/lib/python3.10/dist-packages (from requests[socks]->gdown) (1.7.1)\n"
          ]
        }
      ]
    },
    {
      "cell_type": "code",
      "source": [
        "!gdown --folder https://drive.google.com/drive/folders/1i48SXwA2-KR_uyA1EaIy9Teo-zpnrhdE"
      ],
      "metadata": {
        "colab": {
          "base_uri": "https://localhost:8080/"
        },
        "id": "YX4UT0JMKIR9",
        "outputId": "121d3647-f20b-4eab-ec6c-3fc61e2a10ec"
      },
      "execution_count": null,
      "outputs": [
        {
          "output_type": "stream",
          "name": "stdout",
          "text": [
            "Retrieving folder list\n",
            "Processing file 1xsfIi_E8VJFKz_W27MjSJmAVXS3g5DoP sgns.wiki.bigram\n",
            "Retrieving folder list completed\n",
            "Building directory structure\n",
            "Building directory structure completed\n",
            "Downloading...\n",
            "From: https://drive.google.com/uc?id=1xsfIi_E8VJFKz_W27MjSJmAVXS3g5DoP\n",
            "To: /content/Chinese-Wiki-Pretrained/sgns.wiki.bigram\n",
            "100% 1.01G/1.01G [00:15<00:00, 63.8MB/s]\n",
            "Download completed\n"
          ]
        }
      ]
    },
    {
      "cell_type": "markdown",
      "source": [
        "## **BERTopic for Chinese data**"
      ],
      "metadata": {
        "id": "UENRcX9W72lc"
      }
    },
    {
      "cell_type": "code",
      "source": [
        "Chinese_df = pd.read_excel(\"/content/lifelong learning_Chinese.xlsx\")\n",
        "\n",
        "# delate the NA abstracts\n",
        "Chinese_df.dropna(subset=['摘要'], inplace=True)\n",
        "\n",
        "# delete rows where the character numbers are less than 15.\n",
        "for index, row in Chinese_df.iterrows():\n",
        "    if len(row[\"摘要\"]) < 15:\n",
        "        Chinese_df.drop(index, inplace=True)\n",
        "\n",
        "# reset the index\n",
        "Chinese_df.reset_index(drop=True, inplace=True)\n",
        "\n",
        "Chinese_df.head(5)"
      ],
      "metadata": {
        "colab": {
          "base_uri": "https://localhost:8080/",
          "height": 545
        },
        "id": "tbD3z7GM72KL",
        "outputId": "e84de9ad-698a-4b79-bfe2-23b94203d5f5"
      },
      "execution_count": null,
      "outputs": [
        {
          "output_type": "execute_result",
          "data": {
            "text/plain": [
              "  来源库                                                 题名  \\\n",
              "0  期刊          教育未来发展新趋势：迈向新人文主义的终身教育——基于联合国教科文组织前瞻性教育报告   \n",
              "1  期刊                           5G+AI:终身学习发展的新动力、新范式和新实践   \n",
              "2  期刊  欧盟成人终身学习的现状、路径与镜鉴——《欧洲成人教育和培训：构建通往技能和资格的包容性途径》...   \n",
              "3  期刊                       数字化转型助推欧盟公民终身学习能力框架：要素、实践与思考   \n",
              "4  期刊                      OECD参与全球终身学习治理：时代轨迹、行动路径与现实影响   \n",
              "\n",
              "                         作者                                     单位      文献来源  \\\n",
              "0               李兴洲;徐莉;姬冰澌;                 北京师范大学教育学部;河北师范大学教育学院;  清华大学教育研究   \n",
              "1                  钱小龙;张奕潇;                            南通大学教育科学学院;      成人教育   \n",
              "2                  张雪翠;卢俊林;                         南宁师范大学;广西物资学校;      成人教育   \n",
              "3  兰国帅;黄春雨;杜水莲;李晴文;郭天雯;蔡帆帆;  河南大学教育学部;河南省教育信息化发展研究中心;温州职业技术学院瑞安学院;    开放教育研究   \n",
              "4                      刘海燕;                        华东师范大学教育学部教育学系;  现代远程教育研究   \n",
              "\n",
              "                                                  摘要       发表时间    年份  \n",
              "0  有“思想实验室”之美誉的联合国教科文组织向来以积极探索和引领人类教育前瞻性发展为己任，自20... 2023-06-20  2023  \n",
              "1  面对党和国家完善全民终身学习体系的迫切要求，5G+AI能够扮演至关重要的角色。AI能够让提供... 2023-06-05  2023  \n",
              "2  终身学习是助力社会和经济进步的直接动力。欧洲联盟委员会于2021年8月发布的《欧洲成人教育和... 2023-06-05  2023  \n",
              "3  探明高等教育数字化转型中公民终身学习能力框架及其实践，有助于丰富高等教育数字化转型理论，促进... 2023-05-25  2023  \n",
              "4  在经济全球化和科学技术快速发展的交叠影响下，终身学习成为一种迎接挑战的全球共识和有力举措。O... 2023-05-24  2023  "
            ],
            "text/html": [
              "\n",
              "\n",
              "  <div id=\"df-e915432b-58ea-4877-b2c9-53738bba4ce8\">\n",
              "    <div class=\"colab-df-container\">\n",
              "      <div>\n",
              "<style scoped>\n",
              "    .dataframe tbody tr th:only-of-type {\n",
              "        vertical-align: middle;\n",
              "    }\n",
              "\n",
              "    .dataframe tbody tr th {\n",
              "        vertical-align: top;\n",
              "    }\n",
              "\n",
              "    .dataframe thead th {\n",
              "        text-align: right;\n",
              "    }\n",
              "</style>\n",
              "<table border=\"1\" class=\"dataframe\">\n",
              "  <thead>\n",
              "    <tr style=\"text-align: right;\">\n",
              "      <th></th>\n",
              "      <th>来源库</th>\n",
              "      <th>题名</th>\n",
              "      <th>作者</th>\n",
              "      <th>单位</th>\n",
              "      <th>文献来源</th>\n",
              "      <th>摘要</th>\n",
              "      <th>发表时间</th>\n",
              "      <th>年份</th>\n",
              "    </tr>\n",
              "  </thead>\n",
              "  <tbody>\n",
              "    <tr>\n",
              "      <th>0</th>\n",
              "      <td>期刊</td>\n",
              "      <td>教育未来发展新趋势：迈向新人文主义的终身教育——基于联合国教科文组织前瞻性教育报告</td>\n",
              "      <td>李兴洲;徐莉;姬冰澌;</td>\n",
              "      <td>北京师范大学教育学部;河北师范大学教育学院;</td>\n",
              "      <td>清华大学教育研究</td>\n",
              "      <td>有“思想实验室”之美誉的联合国教科文组织向来以积极探索和引领人类教育前瞻性发展为己任，自20...</td>\n",
              "      <td>2023-06-20</td>\n",
              "      <td>2023</td>\n",
              "    </tr>\n",
              "    <tr>\n",
              "      <th>1</th>\n",
              "      <td>期刊</td>\n",
              "      <td>5G+AI:终身学习发展的新动力、新范式和新实践</td>\n",
              "      <td>钱小龙;张奕潇;</td>\n",
              "      <td>南通大学教育科学学院;</td>\n",
              "      <td>成人教育</td>\n",
              "      <td>面对党和国家完善全民终身学习体系的迫切要求，5G+AI能够扮演至关重要的角色。AI能够让提供...</td>\n",
              "      <td>2023-06-05</td>\n",
              "      <td>2023</td>\n",
              "    </tr>\n",
              "    <tr>\n",
              "      <th>2</th>\n",
              "      <td>期刊</td>\n",
              "      <td>欧盟成人终身学习的现状、路径与镜鉴——《欧洲成人教育和培训：构建通往技能和资格的包容性途径》...</td>\n",
              "      <td>张雪翠;卢俊林;</td>\n",
              "      <td>南宁师范大学;广西物资学校;</td>\n",
              "      <td>成人教育</td>\n",
              "      <td>终身学习是助力社会和经济进步的直接动力。欧洲联盟委员会于2021年8月发布的《欧洲成人教育和...</td>\n",
              "      <td>2023-06-05</td>\n",
              "      <td>2023</td>\n",
              "    </tr>\n",
              "    <tr>\n",
              "      <th>3</th>\n",
              "      <td>期刊</td>\n",
              "      <td>数字化转型助推欧盟公民终身学习能力框架：要素、实践与思考</td>\n",
              "      <td>兰国帅;黄春雨;杜水莲;李晴文;郭天雯;蔡帆帆;</td>\n",
              "      <td>河南大学教育学部;河南省教育信息化发展研究中心;温州职业技术学院瑞安学院;</td>\n",
              "      <td>开放教育研究</td>\n",
              "      <td>探明高等教育数字化转型中公民终身学习能力框架及其实践，有助于丰富高等教育数字化转型理论，促进...</td>\n",
              "      <td>2023-05-25</td>\n",
              "      <td>2023</td>\n",
              "    </tr>\n",
              "    <tr>\n",
              "      <th>4</th>\n",
              "      <td>期刊</td>\n",
              "      <td>OECD参与全球终身学习治理：时代轨迹、行动路径与现实影响</td>\n",
              "      <td>刘海燕;</td>\n",
              "      <td>华东师范大学教育学部教育学系;</td>\n",
              "      <td>现代远程教育研究</td>\n",
              "      <td>在经济全球化和科学技术快速发展的交叠影响下，终身学习成为一种迎接挑战的全球共识和有力举措。O...</td>\n",
              "      <td>2023-05-24</td>\n",
              "      <td>2023</td>\n",
              "    </tr>\n",
              "  </tbody>\n",
              "</table>\n",
              "</div>\n",
              "      <button class=\"colab-df-convert\" onclick=\"convertToInteractive('df-e915432b-58ea-4877-b2c9-53738bba4ce8')\"\n",
              "              title=\"Convert this dataframe to an interactive table.\"\n",
              "              style=\"display:none;\">\n",
              "\n",
              "  <svg xmlns=\"http://www.w3.org/2000/svg\" height=\"24px\"viewBox=\"0 0 24 24\"\n",
              "       width=\"24px\">\n",
              "    <path d=\"M0 0h24v24H0V0z\" fill=\"none\"/>\n",
              "    <path d=\"M18.56 5.44l.94 2.06.94-2.06 2.06-.94-2.06-.94-.94-2.06-.94 2.06-2.06.94zm-11 1L8.5 8.5l.94-2.06 2.06-.94-2.06-.94L8.5 2.5l-.94 2.06-2.06.94zm10 10l.94 2.06.94-2.06 2.06-.94-2.06-.94-.94-2.06-.94 2.06-2.06.94z\"/><path d=\"M17.41 7.96l-1.37-1.37c-.4-.4-.92-.59-1.43-.59-.52 0-1.04.2-1.43.59L10.3 9.45l-7.72 7.72c-.78.78-.78 2.05 0 2.83L4 21.41c.39.39.9.59 1.41.59.51 0 1.02-.2 1.41-.59l7.78-7.78 2.81-2.81c.8-.78.8-2.07 0-2.86zM5.41 20L4 18.59l7.72-7.72 1.47 1.35L5.41 20z\"/>\n",
              "  </svg>\n",
              "      </button>\n",
              "\n",
              "\n",
              "\n",
              "    <div id=\"df-9da0c6cf-e401-41d7-ba26-739f0dffff63\">\n",
              "      <button class=\"colab-df-quickchart\" onclick=\"quickchart('df-9da0c6cf-e401-41d7-ba26-739f0dffff63')\"\n",
              "              title=\"Suggest charts.\"\n",
              "              style=\"display:none;\">\n",
              "\n",
              "<svg xmlns=\"http://www.w3.org/2000/svg\" height=\"24px\"viewBox=\"0 0 24 24\"\n",
              "     width=\"24px\">\n",
              "    <g>\n",
              "        <path d=\"M19 3H5c-1.1 0-2 .9-2 2v14c0 1.1.9 2 2 2h14c1.1 0 2-.9 2-2V5c0-1.1-.9-2-2-2zM9 17H7v-7h2v7zm4 0h-2V7h2v10zm4 0h-2v-4h2v4z\"/>\n",
              "    </g>\n",
              "</svg>\n",
              "      </button>\n",
              "    </div>\n",
              "\n",
              "<style>\n",
              "  .colab-df-quickchart {\n",
              "    background-color: #E8F0FE;\n",
              "    border: none;\n",
              "    border-radius: 50%;\n",
              "    cursor: pointer;\n",
              "    display: none;\n",
              "    fill: #1967D2;\n",
              "    height: 32px;\n",
              "    padding: 0 0 0 0;\n",
              "    width: 32px;\n",
              "  }\n",
              "\n",
              "  .colab-df-quickchart:hover {\n",
              "    background-color: #E2EBFA;\n",
              "    box-shadow: 0px 1px 2px rgba(60, 64, 67, 0.3), 0px 1px 3px 1px rgba(60, 64, 67, 0.15);\n",
              "    fill: #174EA6;\n",
              "  }\n",
              "\n",
              "  [theme=dark] .colab-df-quickchart {\n",
              "    background-color: #3B4455;\n",
              "    fill: #D2E3FC;\n",
              "  }\n",
              "\n",
              "  [theme=dark] .colab-df-quickchart:hover {\n",
              "    background-color: #434B5C;\n",
              "    box-shadow: 0px 1px 3px 1px rgba(0, 0, 0, 0.15);\n",
              "    filter: drop-shadow(0px 1px 2px rgba(0, 0, 0, 0.3));\n",
              "    fill: #FFFFFF;\n",
              "  }\n",
              "</style>\n",
              "\n",
              "    <script>\n",
              "      async function quickchart(key) {\n",
              "        const containerElement = document.querySelector('#' + key);\n",
              "        const charts = await google.colab.kernel.invokeFunction(\n",
              "            'suggestCharts', [key], {});\n",
              "      }\n",
              "    </script>\n",
              "\n",
              "      <script>\n",
              "\n",
              "function displayQuickchartButton(domScope) {\n",
              "  let quickchartButtonEl =\n",
              "    domScope.querySelector('#df-9da0c6cf-e401-41d7-ba26-739f0dffff63 button.colab-df-quickchart');\n",
              "  quickchartButtonEl.style.display =\n",
              "    google.colab.kernel.accessAllowed ? 'block' : 'none';\n",
              "}\n",
              "\n",
              "        displayQuickchartButton(document);\n",
              "      </script>\n",
              "      <style>\n",
              "    .colab-df-container {\n",
              "      display:flex;\n",
              "      flex-wrap:wrap;\n",
              "      gap: 12px;\n",
              "    }\n",
              "\n",
              "    .colab-df-convert {\n",
              "      background-color: #E8F0FE;\n",
              "      border: none;\n",
              "      border-radius: 50%;\n",
              "      cursor: pointer;\n",
              "      display: none;\n",
              "      fill: #1967D2;\n",
              "      height: 32px;\n",
              "      padding: 0 0 0 0;\n",
              "      width: 32px;\n",
              "    }\n",
              "\n",
              "    .colab-df-convert:hover {\n",
              "      background-color: #E2EBFA;\n",
              "      box-shadow: 0px 1px 2px rgba(60, 64, 67, 0.3), 0px 1px 3px 1px rgba(60, 64, 67, 0.15);\n",
              "      fill: #174EA6;\n",
              "    }\n",
              "\n",
              "    [theme=dark] .colab-df-convert {\n",
              "      background-color: #3B4455;\n",
              "      fill: #D2E3FC;\n",
              "    }\n",
              "\n",
              "    [theme=dark] .colab-df-convert:hover {\n",
              "      background-color: #434B5C;\n",
              "      box-shadow: 0px 1px 3px 1px rgba(0, 0, 0, 0.15);\n",
              "      filter: drop-shadow(0px 1px 2px rgba(0, 0, 0, 0.3));\n",
              "      fill: #FFFFFF;\n",
              "    }\n",
              "  </style>\n",
              "\n",
              "      <script>\n",
              "        const buttonEl =\n",
              "          document.querySelector('#df-e915432b-58ea-4877-b2c9-53738bba4ce8 button.colab-df-convert');\n",
              "        buttonEl.style.display =\n",
              "          google.colab.kernel.accessAllowed ? 'block' : 'none';\n",
              "\n",
              "        async function convertToInteractive(key) {\n",
              "          const element = document.querySelector('#df-e915432b-58ea-4877-b2c9-53738bba4ce8');\n",
              "          const dataTable =\n",
              "            await google.colab.kernel.invokeFunction('convertToInteractive',\n",
              "                                                     [key], {});\n",
              "          if (!dataTable) return;\n",
              "\n",
              "          const docLinkHtml = 'Like what you see? Visit the ' +\n",
              "            '<a target=\"_blank\" href=https://colab.research.google.com/notebooks/data_table.ipynb>data table notebook</a>'\n",
              "            + ' to learn more about interactive tables.';\n",
              "          element.innerHTML = '';\n",
              "          dataTable['output_type'] = 'display_data';\n",
              "          await google.colab.output.renderOutput(dataTable, element);\n",
              "          const docLink = document.createElement('div');\n",
              "          docLink.innerHTML = docLinkHtml;\n",
              "          element.appendChild(docLink);\n",
              "        }\n",
              "      </script>\n",
              "    </div>\n",
              "  </div>\n"
            ]
          },
          "metadata": {},
          "execution_count": 50
        }
      ]
    },
    {
      "cell_type": "code",
      "source": [
        "# input stopwords\n",
        "stop_file = \"/content/Chinese_stopwords.txt\"\n",
        "\n",
        "stopword_list = []\n",
        "# read the stopwords.txt file\n",
        "with open(stop_file, 'r', encoding='utf-8') as file:\n",
        "    # read stopwords and save into the list\n",
        "    for line in file:\n",
        "        stopword_list.append(line.strip())  # delete empty symbols\n",
        "\n",
        "# create the predicted topics for LDA\n",
        "predict_topic_csv_path = 'topic-distribution.csv'"
      ],
      "metadata": {
        "id": "DGPHV8O7_Woj"
      },
      "execution_count": null,
      "outputs": []
    },
    {
      "cell_type": "code",
      "source": [
        "Chinese_df['摘要'] = Chinese_df['摘要'].astype(str)   # transfer 'Abstract' into strings\n",
        "\n",
        "# define a function to remove stopwords\n",
        "def clean_text(text):\n",
        "  words = jieba.lcut(text)\n",
        "  words = [w for w in words if w not in stopword_list]\n",
        "  return ' '.join(words)\n",
        "\n",
        "Chinese_df[\"Contents\"] = Chinese_df[\"摘要\"].apply(clean_text)\n",
        "\n",
        "Chinese_df[\"Contents\"].head(5)"
      ],
      "metadata": {
        "colab": {
          "base_uri": "https://localhost:8080/"
        },
        "id": "SqarSnNIASfD",
        "outputId": "58cefc26-79fe-48f6-d75c-d0590c57843e"
      },
      "execution_count": null,
      "outputs": [
        {
          "output_type": "execute_result",
          "data": {
            "text/plain": [
              "0    思想 实验室 美誉 联合国教科文组织 向来 积极探索 引领 人类 前瞻性 己任 ， 20 世...\n",
              "1    面对 党和国家 全民 迫切要求 ， 5G + AI 扮演 至关重要 角色 。 AI 5G 网...\n",
              "2    助力 经济 动力 。 欧洲联盟 委员会 2021 年 8 月 发布 《 欧洲 成人教育 培训...\n",
              "3    探明 高等教育 数字化 转型 中 公民 能力 框架 实践 ， 有助于 高等教育 数字化 转型...\n",
              "4    经济 全球化 科学技术 快速 交叠 影响 下 ， 一种 迎接挑战 全球 共识 举措 。 OE...\n",
              "Name: Contents, dtype: object"
            ]
          },
          "metadata": {},
          "execution_count": 52
        }
      ]
    },
    {
      "cell_type": "code",
      "source": [
        "def chinese_word_cut(mytext):\n",
        "    flag_list = ['a','ag','an','b','d','dg','h','i','j','l','n','ng','nr','nrfg','nrt','ns','nt','nz','r','rg','rr','rz','t','tg','vn']\n",
        "\n",
        "    word_list = []\n",
        "\n",
        "    #jieba tokenization\n",
        "    seg_list = psg.cut(mytext)\n",
        "    for seg_word in seg_list:\n",
        "        word = re.sub(u'[^\\u4e00-\\u9fa5]','',seg_word.word)\n",
        "        if seg_word.flag in flag_list:\n",
        "            word_list.append(word)\n",
        "    return (\" \").join(word_list)\n",
        "\n",
        "Chinese_df[\"Chinese_cutted\"] = Chinese_df[\"Contents\"].apply(chinese_word_cut)\n",
        "\n",
        "Chinese_df[\"Chinese_cutted\"]"
      ],
      "metadata": {
        "colab": {
          "base_uri": "https://localhost:8080/"
        },
        "id": "F9yhut6N72P2",
        "outputId": "e17f4164-c114-4025-f0de-6fc5c45db0fe"
      },
      "execution_count": null,
      "outputs": [
        {
          "output_type": "execute_result",
          "data": {
            "text/plain": [
              "0       思想 实验室 美誉 联合国教科文组织 积极探索 人类 前瞻性 己任 世纪 年代 陆续 学会 ...\n",
              "1       党和国家 全民 迫切要求 至关重要 角色 网络 设备 更 驱动 体验 更 完美 时代 技术 ...\n",
              "2       助力 经济 动力 欧洲联盟 委员会 欧洲 成人教育 培训 通往 技能 资格 包容性 途径 报...\n",
              "3       高等教育 数字化 转型 公民 能力 框架 高等教育 数字化 转型 理论 高等教育 现代化 理...\n",
              "4       经济 全球化 科学技术 快速 影响 迎接挑战 全球 共识 全球 参与者 领域 地位 日益 凸...\n",
              "                              ...                        \n",
              "2091    服务 社会主义 现代化 建设 传统 董明传 成人教育 形势 今后任务 成人教育 情况 青壮年...\n",
              "2092    成人教育 传统 学校 新型 制度 上海市 建设 学院 理想 更新 技能 机会 院校 该院 原...\n",
              "2093    概念 联合国教科文组织 富尔 报告 洛比 曾 定义 现行 制度 重组 制度 计划 学员 态度...\n",
              "2094    近 国际 新兴 理论 本世纪 后半期 科学技术 生活 变化 环境 变化 新 课题 新 课题 ...\n",
              "2095    科学技术 在校学生 非 人员 新 变化 现实 个体 扎实 基础知识 智力 结构 不断更新 科...\n",
              "Name: Chinese_cutted, Length: 2096, dtype: object"
            ]
          },
          "metadata": {},
          "execution_count": 53
        }
      ]
    },
    {
      "cell_type": "code",
      "source": [
        "# import the pre-trained word2vec model (here we use the Chinese-Wiki pretrained model)\n",
        "\n",
        "chinese_pretrained_model = KeyedVectors.load_word2vec_format('/content/Chinese-Wiki-Pretrained/sgns.wiki.bigram', unicode_errors='ignore')\n",
        "chinese_pretrained_model"
      ],
      "metadata": {
        "colab": {
          "base_uri": "https://localhost:8080/"
        },
        "id": "lZboFAScEmQ1",
        "outputId": "a8500656-818f-4a01-eab6-3634095abaff"
      },
      "execution_count": null,
      "outputs": [
        {
          "output_type": "execute_result",
          "data": {
            "text/plain": [
              "<gensim.models.keyedvectors.KeyedVectors at 0x7a100c3f8370>"
            ]
          },
          "metadata": {},
          "execution_count": 54
        }
      ]
    },
    {
      "cell_type": "code",
      "source": [
        "topic_model = BERTopic(\n",
        "    language='chinese(simplified)',\n",
        "    embedding_model=chinese_pretrained_model,\n",
        "    calculate_probabilities=True,\n",
        "    nr_topics=20,\n",
        "    verbose=True)"
      ],
      "metadata": {
        "id": "Oj_oQ2hOEmTK"
      },
      "execution_count": null,
      "outputs": []
    },
    {
      "cell_type": "code",
      "source": [
        "# convert dataframe into a list\n",
        "document = Chinese_df[\"Chinese_cutted\"].tolist()\n",
        "\n",
        "# train the model\n",
        "topics, probs = topic_model.fit_transform(document)"
      ],
      "metadata": {
        "colab": {
          "base_uri": "https://localhost:8080/"
        },
        "id": "MaX6ysCSEmVa",
        "outputId": "7f8c4cfa-0838-4a2a-e610-c3fe208004bf"
      },
      "execution_count": null,
      "outputs": [
        {
          "output_type": "stream",
          "name": "stderr",
          "text": [
            "100%|██████████| 2096/2096 [00:00<00:00, 9888.21it/s] \n",
            "2023-08-06 15:43:42,481 - BERTopic - Transformed documents to Embeddings\n",
            "2023-08-06 15:43:54,564 - BERTopic - Reduced dimensionality\n",
            "2023-08-06 15:43:54,865 - BERTopic - Clustered reduced embeddings\n",
            "2023-08-06 15:43:55,215 - BERTopic - Reduced number of topics from 40 to 20\n"
          ]
        }
      ]
    },
    {
      "cell_type": "code",
      "source": [
        "freq = topic_model.get_topic_info(); freq"
      ],
      "metadata": {
        "colab": {
          "base_uri": "https://localhost:8080/",
          "height": 1000
        },
        "id": "Tfx5pCfsEmXm",
        "outputId": "413e7a0e-8d41-4f97-a353-2382cd68ac1b"
      },
      "execution_count": null,
      "outputs": [
        {
          "output_type": "execute_result",
          "data": {
            "text/plain": [
              "    Topic  Count               Name  \\\n",
              "0      -1    795   -1_成人教育_理念_理论_改革   \n",
              "1       0    399     0_建设_思想_平台_学习型   \n",
              "2       1    218    1_教师_成人_高等教育_学生   \n",
              "3       2     93      2_立法_法律_权利_公民   \n",
              "4       3     69      3_生活_学校_生命_过程   \n",
              "5       4     54   4_城市_学习型_建设_小康社会   \n",
              "6       5     53      5_会议_教授_论坛_上海   \n",
              "7       6     52      6_研究_理论_文献_分析   \n",
              "8       7     52     7_社区_居民_建设_学习型   \n",
              "9       8     51      8_资历_框架_制度_韩国   \n",
              "10      9     50      9_世纪_年代_思潮_保罗   \n",
              "11     10     45     10_职业_培训_理念_模式   \n",
              "12     11     38    11_图书馆_公共_服务_职能   \n",
              "13     12     29    12_政策_欧盟_成员国_工具   \n",
              "14     13     23     13_能力_成人_研究_因子   \n",
              "15     14     16     14_学分_银行_建设_成果   \n",
              "16     15     15    15_老年_老年人_乡村_生活   \n",
              "17     16     15  16_现代化_目标_历史使命_全民   \n",
              "18     17     15     17_农村_农民_职业_诸如   \n",
              "19     18     14   18_日本_福祉_社会教育_政策   \n",
              "\n",
              "                                     Representation  \\\n",
              "0       [成人教育, 理念, 理论, 改革, 国家, 影响, 基础, 学习型, 思想, 政策]   \n",
              "1         [建设, 思想, 平台, 学习型, 理念, 技术, 服务, 时代, 全民, 网络]   \n",
              "2        [教师, 成人, 高等教育, 学生, 大学, 课程, 高校, 高职, 自学, 考试]   \n",
              "3          [立法, 法律, 权利, 公民, 国家, 地方, 层面, 法规, 政策, 条例]   \n",
              "4        [生活, 学校, 生命, 过程, 人类, 活动, 学会, 思想, 思潮, 可持续性]   \n",
              "5     [城市, 学习型, 建设, 小康社会, 规划, 改革, 中长期, 纲要, 全民, 十六大]   \n",
              "6       [会议, 教授, 论坛, 上海, 协会, 学院, 专家, 国际, 教育部, 成人教育]   \n",
              "7      [研究, 理论, 文献, 分析, 传播, 领域, 方法, 远程教育, 研究成果, 现状]   \n",
              "8         [社区, 居民, 建设, 学习型, 品牌, 资源, 学院, 学校, 活动, 校区]   \n",
              "9       [资历, 框架, 制度, 韩国, 标准, 学分, 质量保证, 国家, 立交桥, 资格]   \n",
              "10  [世纪, 年代, 思潮, 保罗, 朗格, 国际, 联合国教科文组织, 法国, 教育家, 世界]   \n",
              "11      [职业, 培训, 理念, 模式, 阶段, 人才, 高技能, 高职, 职业规划, 办学]   \n",
              "12        [图书馆, 公共, 服务, 职能, 信息, 读者, 高校, 场所, 图书, 本文]   \n",
              "13    [政策, 欧盟, 成员国, 工具, 源流, 变迁, 国际劳工组织, 历程, 战略, 成效]   \n",
              "14        [能力, 成人, 研究, 因子, 评估, 自我, 学习者, 调查, 兴趣, 关系]   \n",
              "15       [学分, 银行, 建设, 成果, 区域性, 研究, 制度, 上海市, 标准, 框架]   \n",
              "16   [老年, 老年人, 乡村, 生活, 人口老龄化, 老龄化, 学习者, 社区, 老龄, 人群]   \n",
              "17   [现代化, 目标, 历史使命, 全民, 四中全会, 服务, 新格局, 时代, 编辑, 视域]   \n",
              "18   [农村, 农民, 职业, 诸如, 成人教育, 小康社会, 对策, 农业, 建设, 实用技术]   \n",
              "19     [日本, 福祉, 社会教育, 政策, 重构, 教授, 立法, 牧野, 战后, 参考价值]   \n",
              "\n",
              "                                  Representative_Docs  \n",
              "0   [世纪 基础 经济 时代 知识经济 时代 即将 到来 人才 日益 国家 繁荣 民族 决定性 ...  \n",
              "1   [国际性 思潮 理念 最初 理论 形态 形态 建设 学习型 体制 变革 途径 手段 远程教育...  \n",
              "2   [本文 大学 教师 角色定位 时代 大学 教师 职业 素质, 成人 高等教育 组成部分 全民...  \n",
              "3   [理论 研究 立法 化 规范化 立法 立法 意图 文本 创设 该部 法律 调整 对象 立法 ...  \n",
              "4   [世纪 概念 思潮 学校 学校 中心 地位 英才 价值 挑战 人 人 生活 思潮 学校 社会...  \n",
              "5   [教育部 副 部长 鲁昕 国际 学习型 城市 大会 全体会议 主旨 鲁昕 副 部长 建设 学...  \n",
              "6   [上海市 协会 博爱 和谐 主题 和谐社区 建设 专家 论坛 上海 田林 社区 论坛 全国政...  \n",
              "7   [数据库 文献 研究 可视化 软件 传统 文献 研究法 分析 结论 近十年 研究 主题 范式...  \n",
              "8   [社区 越来越 社区 课程 社区 过程 组成部分 社区 对象 居民 建设 课程 湖州 社区 ...  \n",
              "9   [全球 跨国 跨地区 资历 新 阶段 东盟 资历 框架 建构 质量保证 系统 资历 学分 性...  \n",
              "10  [本世纪 年代 国际 联合国教科文组织 传播 思潮 法国 著名 成人教育 专家 保罗 朗格 ...  \n",
              "11  [经济 科学技术 迅猛发展 职业 组成部分 国民经济 基础 职业 指导思想 职业 主体 职业...  \n",
              "12  [新 图书馆 运动 图书馆 藏书楼 近现代 图书馆 转型 图书馆 国民 学校 思想 转型 时...  \n",
              "13  [政策 国际 主导 制度 分析 欧盟 成员国 政策 过程 官僚 合法性 欧盟 并未 全盘 国...  \n",
              "14  [纵观 学界 成人 能力 研究 国家 层面 政策性 工具 角度 微观 层面 架构 理论 基础...  \n",
              "15  [现代化 国家 职业 改革 实施方案 再次 学分 银行 建设 学分 银行 建设 历经 实践经...  \n",
              "16  [背景 老年 价值 时代背景 基础 老年 现状 简要 分析 重点 老年 价值 老年 重要性 ...  \n",
              "17  [新冠 肺炎 网络 网络 特色 大学 历史使命 本文 历史 现实 角度 简要 大学 办学 历...  \n",
              "18  [农村 三农 建设 小康社会 迫切要求 意义 农村 新型农村 劳动者 学习型 农村 目标 农...  \n",
              "19  [日本 世纪 年代 法 经历 较为 艰难曲折 立法 过程 立法 本身 时代 进步性 亚洲地区...  "
            ],
            "text/html": [
              "\n",
              "\n",
              "  <div id=\"df-4631d1c8-d89e-4c3c-93ca-4a635be1f261\">\n",
              "    <div class=\"colab-df-container\">\n",
              "      <div>\n",
              "<style scoped>\n",
              "    .dataframe tbody tr th:only-of-type {\n",
              "        vertical-align: middle;\n",
              "    }\n",
              "\n",
              "    .dataframe tbody tr th {\n",
              "        vertical-align: top;\n",
              "    }\n",
              "\n",
              "    .dataframe thead th {\n",
              "        text-align: right;\n",
              "    }\n",
              "</style>\n",
              "<table border=\"1\" class=\"dataframe\">\n",
              "  <thead>\n",
              "    <tr style=\"text-align: right;\">\n",
              "      <th></th>\n",
              "      <th>Topic</th>\n",
              "      <th>Count</th>\n",
              "      <th>Name</th>\n",
              "      <th>Representation</th>\n",
              "      <th>Representative_Docs</th>\n",
              "    </tr>\n",
              "  </thead>\n",
              "  <tbody>\n",
              "    <tr>\n",
              "      <th>0</th>\n",
              "      <td>-1</td>\n",
              "      <td>795</td>\n",
              "      <td>-1_成人教育_理念_理论_改革</td>\n",
              "      <td>[成人教育, 理念, 理论, 改革, 国家, 影响, 基础, 学习型, 思想, 政策]</td>\n",
              "      <td>[世纪 基础 经济 时代 知识经济 时代 即将 到来 人才 日益 国家 繁荣 民族 决定性 ...</td>\n",
              "    </tr>\n",
              "    <tr>\n",
              "      <th>1</th>\n",
              "      <td>0</td>\n",
              "      <td>399</td>\n",
              "      <td>0_建设_思想_平台_学习型</td>\n",
              "      <td>[建设, 思想, 平台, 学习型, 理念, 技术, 服务, 时代, 全民, 网络]</td>\n",
              "      <td>[国际性 思潮 理念 最初 理论 形态 形态 建设 学习型 体制 变革 途径 手段 远程教育...</td>\n",
              "    </tr>\n",
              "    <tr>\n",
              "      <th>2</th>\n",
              "      <td>1</td>\n",
              "      <td>218</td>\n",
              "      <td>1_教师_成人_高等教育_学生</td>\n",
              "      <td>[教师, 成人, 高等教育, 学生, 大学, 课程, 高校, 高职, 自学, 考试]</td>\n",
              "      <td>[本文 大学 教师 角色定位 时代 大学 教师 职业 素质, 成人 高等教育 组成部分 全民...</td>\n",
              "    </tr>\n",
              "    <tr>\n",
              "      <th>3</th>\n",
              "      <td>2</td>\n",
              "      <td>93</td>\n",
              "      <td>2_立法_法律_权利_公民</td>\n",
              "      <td>[立法, 法律, 权利, 公民, 国家, 地方, 层面, 法规, 政策, 条例]</td>\n",
              "      <td>[理论 研究 立法 化 规范化 立法 立法 意图 文本 创设 该部 法律 调整 对象 立法 ...</td>\n",
              "    </tr>\n",
              "    <tr>\n",
              "      <th>4</th>\n",
              "      <td>3</td>\n",
              "      <td>69</td>\n",
              "      <td>3_生活_学校_生命_过程</td>\n",
              "      <td>[生活, 学校, 生命, 过程, 人类, 活动, 学会, 思想, 思潮, 可持续性]</td>\n",
              "      <td>[世纪 概念 思潮 学校 学校 中心 地位 英才 价值 挑战 人 人 生活 思潮 学校 社会...</td>\n",
              "    </tr>\n",
              "    <tr>\n",
              "      <th>5</th>\n",
              "      <td>4</td>\n",
              "      <td>54</td>\n",
              "      <td>4_城市_学习型_建设_小康社会</td>\n",
              "      <td>[城市, 学习型, 建设, 小康社会, 规划, 改革, 中长期, 纲要, 全民, 十六大]</td>\n",
              "      <td>[教育部 副 部长 鲁昕 国际 学习型 城市 大会 全体会议 主旨 鲁昕 副 部长 建设 学...</td>\n",
              "    </tr>\n",
              "    <tr>\n",
              "      <th>6</th>\n",
              "      <td>5</td>\n",
              "      <td>53</td>\n",
              "      <td>5_会议_教授_论坛_上海</td>\n",
              "      <td>[会议, 教授, 论坛, 上海, 协会, 学院, 专家, 国际, 教育部, 成人教育]</td>\n",
              "      <td>[上海市 协会 博爱 和谐 主题 和谐社区 建设 专家 论坛 上海 田林 社区 论坛 全国政...</td>\n",
              "    </tr>\n",
              "    <tr>\n",
              "      <th>7</th>\n",
              "      <td>6</td>\n",
              "      <td>52</td>\n",
              "      <td>6_研究_理论_文献_分析</td>\n",
              "      <td>[研究, 理论, 文献, 分析, 传播, 领域, 方法, 远程教育, 研究成果, 现状]</td>\n",
              "      <td>[数据库 文献 研究 可视化 软件 传统 文献 研究法 分析 结论 近十年 研究 主题 范式...</td>\n",
              "    </tr>\n",
              "    <tr>\n",
              "      <th>8</th>\n",
              "      <td>7</td>\n",
              "      <td>52</td>\n",
              "      <td>7_社区_居民_建设_学习型</td>\n",
              "      <td>[社区, 居民, 建设, 学习型, 品牌, 资源, 学院, 学校, 活动, 校区]</td>\n",
              "      <td>[社区 越来越 社区 课程 社区 过程 组成部分 社区 对象 居民 建设 课程 湖州 社区 ...</td>\n",
              "    </tr>\n",
              "    <tr>\n",
              "      <th>9</th>\n",
              "      <td>8</td>\n",
              "      <td>51</td>\n",
              "      <td>8_资历_框架_制度_韩国</td>\n",
              "      <td>[资历, 框架, 制度, 韩国, 标准, 学分, 质量保证, 国家, 立交桥, 资格]</td>\n",
              "      <td>[全球 跨国 跨地区 资历 新 阶段 东盟 资历 框架 建构 质量保证 系统 资历 学分 性...</td>\n",
              "    </tr>\n",
              "    <tr>\n",
              "      <th>10</th>\n",
              "      <td>9</td>\n",
              "      <td>50</td>\n",
              "      <td>9_世纪_年代_思潮_保罗</td>\n",
              "      <td>[世纪, 年代, 思潮, 保罗, 朗格, 国际, 联合国教科文组织, 法国, 教育家, 世界]</td>\n",
              "      <td>[本世纪 年代 国际 联合国教科文组织 传播 思潮 法国 著名 成人教育 专家 保罗 朗格 ...</td>\n",
              "    </tr>\n",
              "    <tr>\n",
              "      <th>11</th>\n",
              "      <td>10</td>\n",
              "      <td>45</td>\n",
              "      <td>10_职业_培训_理念_模式</td>\n",
              "      <td>[职业, 培训, 理念, 模式, 阶段, 人才, 高技能, 高职, 职业规划, 办学]</td>\n",
              "      <td>[经济 科学技术 迅猛发展 职业 组成部分 国民经济 基础 职业 指导思想 职业 主体 职业...</td>\n",
              "    </tr>\n",
              "    <tr>\n",
              "      <th>12</th>\n",
              "      <td>11</td>\n",
              "      <td>38</td>\n",
              "      <td>11_图书馆_公共_服务_职能</td>\n",
              "      <td>[图书馆, 公共, 服务, 职能, 信息, 读者, 高校, 场所, 图书, 本文]</td>\n",
              "      <td>[新 图书馆 运动 图书馆 藏书楼 近现代 图书馆 转型 图书馆 国民 学校 思想 转型 时...</td>\n",
              "    </tr>\n",
              "    <tr>\n",
              "      <th>13</th>\n",
              "      <td>12</td>\n",
              "      <td>29</td>\n",
              "      <td>12_政策_欧盟_成员国_工具</td>\n",
              "      <td>[政策, 欧盟, 成员国, 工具, 源流, 变迁, 国际劳工组织, 历程, 战略, 成效]</td>\n",
              "      <td>[政策 国际 主导 制度 分析 欧盟 成员国 政策 过程 官僚 合法性 欧盟 并未 全盘 国...</td>\n",
              "    </tr>\n",
              "    <tr>\n",
              "      <th>14</th>\n",
              "      <td>13</td>\n",
              "      <td>23</td>\n",
              "      <td>13_能力_成人_研究_因子</td>\n",
              "      <td>[能力, 成人, 研究, 因子, 评估, 自我, 学习者, 调查, 兴趣, 关系]</td>\n",
              "      <td>[纵观 学界 成人 能力 研究 国家 层面 政策性 工具 角度 微观 层面 架构 理论 基础...</td>\n",
              "    </tr>\n",
              "    <tr>\n",
              "      <th>15</th>\n",
              "      <td>14</td>\n",
              "      <td>16</td>\n",
              "      <td>14_学分_银行_建设_成果</td>\n",
              "      <td>[学分, 银行, 建设, 成果, 区域性, 研究, 制度, 上海市, 标准, 框架]</td>\n",
              "      <td>[现代化 国家 职业 改革 实施方案 再次 学分 银行 建设 学分 银行 建设 历经 实践经...</td>\n",
              "    </tr>\n",
              "    <tr>\n",
              "      <th>16</th>\n",
              "      <td>15</td>\n",
              "      <td>15</td>\n",
              "      <td>15_老年_老年人_乡村_生活</td>\n",
              "      <td>[老年, 老年人, 乡村, 生活, 人口老龄化, 老龄化, 学习者, 社区, 老龄, 人群]</td>\n",
              "      <td>[背景 老年 价值 时代背景 基础 老年 现状 简要 分析 重点 老年 价值 老年 重要性 ...</td>\n",
              "    </tr>\n",
              "    <tr>\n",
              "      <th>17</th>\n",
              "      <td>16</td>\n",
              "      <td>15</td>\n",
              "      <td>16_现代化_目标_历史使命_全民</td>\n",
              "      <td>[现代化, 目标, 历史使命, 全民, 四中全会, 服务, 新格局, 时代, 编辑, 视域]</td>\n",
              "      <td>[新冠 肺炎 网络 网络 特色 大学 历史使命 本文 历史 现实 角度 简要 大学 办学 历...</td>\n",
              "    </tr>\n",
              "    <tr>\n",
              "      <th>18</th>\n",
              "      <td>17</td>\n",
              "      <td>15</td>\n",
              "      <td>17_农村_农民_职业_诸如</td>\n",
              "      <td>[农村, 农民, 职业, 诸如, 成人教育, 小康社会, 对策, 农业, 建设, 实用技术]</td>\n",
              "      <td>[农村 三农 建设 小康社会 迫切要求 意义 农村 新型农村 劳动者 学习型 农村 目标 农...</td>\n",
              "    </tr>\n",
              "    <tr>\n",
              "      <th>19</th>\n",
              "      <td>18</td>\n",
              "      <td>14</td>\n",
              "      <td>18_日本_福祉_社会教育_政策</td>\n",
              "      <td>[日本, 福祉, 社会教育, 政策, 重构, 教授, 立法, 牧野, 战后, 参考价值]</td>\n",
              "      <td>[日本 世纪 年代 法 经历 较为 艰难曲折 立法 过程 立法 本身 时代 进步性 亚洲地区...</td>\n",
              "    </tr>\n",
              "  </tbody>\n",
              "</table>\n",
              "</div>\n",
              "      <button class=\"colab-df-convert\" onclick=\"convertToInteractive('df-4631d1c8-d89e-4c3c-93ca-4a635be1f261')\"\n",
              "              title=\"Convert this dataframe to an interactive table.\"\n",
              "              style=\"display:none;\">\n",
              "\n",
              "  <svg xmlns=\"http://www.w3.org/2000/svg\" height=\"24px\"viewBox=\"0 0 24 24\"\n",
              "       width=\"24px\">\n",
              "    <path d=\"M0 0h24v24H0V0z\" fill=\"none\"/>\n",
              "    <path d=\"M18.56 5.44l.94 2.06.94-2.06 2.06-.94-2.06-.94-.94-2.06-.94 2.06-2.06.94zm-11 1L8.5 8.5l.94-2.06 2.06-.94-2.06-.94L8.5 2.5l-.94 2.06-2.06.94zm10 10l.94 2.06.94-2.06 2.06-.94-2.06-.94-.94-2.06-.94 2.06-2.06.94z\"/><path d=\"M17.41 7.96l-1.37-1.37c-.4-.4-.92-.59-1.43-.59-.52 0-1.04.2-1.43.59L10.3 9.45l-7.72 7.72c-.78.78-.78 2.05 0 2.83L4 21.41c.39.39.9.59 1.41.59.51 0 1.02-.2 1.41-.59l7.78-7.78 2.81-2.81c.8-.78.8-2.07 0-2.86zM5.41 20L4 18.59l7.72-7.72 1.47 1.35L5.41 20z\"/>\n",
              "  </svg>\n",
              "      </button>\n",
              "\n",
              "\n",
              "\n",
              "    <div id=\"df-f457f0ff-4227-4670-be5a-40e6ca188015\">\n",
              "      <button class=\"colab-df-quickchart\" onclick=\"quickchart('df-f457f0ff-4227-4670-be5a-40e6ca188015')\"\n",
              "              title=\"Suggest charts.\"\n",
              "              style=\"display:none;\">\n",
              "\n",
              "<svg xmlns=\"http://www.w3.org/2000/svg\" height=\"24px\"viewBox=\"0 0 24 24\"\n",
              "     width=\"24px\">\n",
              "    <g>\n",
              "        <path d=\"M19 3H5c-1.1 0-2 .9-2 2v14c0 1.1.9 2 2 2h14c1.1 0 2-.9 2-2V5c0-1.1-.9-2-2-2zM9 17H7v-7h2v7zm4 0h-2V7h2v10zm4 0h-2v-4h2v4z\"/>\n",
              "    </g>\n",
              "</svg>\n",
              "      </button>\n",
              "    </div>\n",
              "\n",
              "<style>\n",
              "  .colab-df-quickchart {\n",
              "    background-color: #E8F0FE;\n",
              "    border: none;\n",
              "    border-radius: 50%;\n",
              "    cursor: pointer;\n",
              "    display: none;\n",
              "    fill: #1967D2;\n",
              "    height: 32px;\n",
              "    padding: 0 0 0 0;\n",
              "    width: 32px;\n",
              "  }\n",
              "\n",
              "  .colab-df-quickchart:hover {\n",
              "    background-color: #E2EBFA;\n",
              "    box-shadow: 0px 1px 2px rgba(60, 64, 67, 0.3), 0px 1px 3px 1px rgba(60, 64, 67, 0.15);\n",
              "    fill: #174EA6;\n",
              "  }\n",
              "\n",
              "  [theme=dark] .colab-df-quickchart {\n",
              "    background-color: #3B4455;\n",
              "    fill: #D2E3FC;\n",
              "  }\n",
              "\n",
              "  [theme=dark] .colab-df-quickchart:hover {\n",
              "    background-color: #434B5C;\n",
              "    box-shadow: 0px 1px 3px 1px rgba(0, 0, 0, 0.15);\n",
              "    filter: drop-shadow(0px 1px 2px rgba(0, 0, 0, 0.3));\n",
              "    fill: #FFFFFF;\n",
              "  }\n",
              "</style>\n",
              "\n",
              "    <script>\n",
              "      async function quickchart(key) {\n",
              "        const containerElement = document.querySelector('#' + key);\n",
              "        const charts = await google.colab.kernel.invokeFunction(\n",
              "            'suggestCharts', [key], {});\n",
              "      }\n",
              "    </script>\n",
              "\n",
              "      <script>\n",
              "\n",
              "function displayQuickchartButton(domScope) {\n",
              "  let quickchartButtonEl =\n",
              "    domScope.querySelector('#df-f457f0ff-4227-4670-be5a-40e6ca188015 button.colab-df-quickchart');\n",
              "  quickchartButtonEl.style.display =\n",
              "    google.colab.kernel.accessAllowed ? 'block' : 'none';\n",
              "}\n",
              "\n",
              "        displayQuickchartButton(document);\n",
              "      </script>\n",
              "      <style>\n",
              "    .colab-df-container {\n",
              "      display:flex;\n",
              "      flex-wrap:wrap;\n",
              "      gap: 12px;\n",
              "    }\n",
              "\n",
              "    .colab-df-convert {\n",
              "      background-color: #E8F0FE;\n",
              "      border: none;\n",
              "      border-radius: 50%;\n",
              "      cursor: pointer;\n",
              "      display: none;\n",
              "      fill: #1967D2;\n",
              "      height: 32px;\n",
              "      padding: 0 0 0 0;\n",
              "      width: 32px;\n",
              "    }\n",
              "\n",
              "    .colab-df-convert:hover {\n",
              "      background-color: #E2EBFA;\n",
              "      box-shadow: 0px 1px 2px rgba(60, 64, 67, 0.3), 0px 1px 3px 1px rgba(60, 64, 67, 0.15);\n",
              "      fill: #174EA6;\n",
              "    }\n",
              "\n",
              "    [theme=dark] .colab-df-convert {\n",
              "      background-color: #3B4455;\n",
              "      fill: #D2E3FC;\n",
              "    }\n",
              "\n",
              "    [theme=dark] .colab-df-convert:hover {\n",
              "      background-color: #434B5C;\n",
              "      box-shadow: 0px 1px 3px 1px rgba(0, 0, 0, 0.15);\n",
              "      filter: drop-shadow(0px 1px 2px rgba(0, 0, 0, 0.3));\n",
              "      fill: #FFFFFF;\n",
              "    }\n",
              "  </style>\n",
              "\n",
              "      <script>\n",
              "        const buttonEl =\n",
              "          document.querySelector('#df-4631d1c8-d89e-4c3c-93ca-4a635be1f261 button.colab-df-convert');\n",
              "        buttonEl.style.display =\n",
              "          google.colab.kernel.accessAllowed ? 'block' : 'none';\n",
              "\n",
              "        async function convertToInteractive(key) {\n",
              "          const element = document.querySelector('#df-4631d1c8-d89e-4c3c-93ca-4a635be1f261');\n",
              "          const dataTable =\n",
              "            await google.colab.kernel.invokeFunction('convertToInteractive',\n",
              "                                                     [key], {});\n",
              "          if (!dataTable) return;\n",
              "\n",
              "          const docLinkHtml = 'Like what you see? Visit the ' +\n",
              "            '<a target=\"_blank\" href=https://colab.research.google.com/notebooks/data_table.ipynb>data table notebook</a>'\n",
              "            + ' to learn more about interactive tables.';\n",
              "          element.innerHTML = '';\n",
              "          dataTable['output_type'] = 'display_data';\n",
              "          await google.colab.output.renderOutput(dataTable, element);\n",
              "          const docLink = document.createElement('div');\n",
              "          docLink.innerHTML = docLinkHtml;\n",
              "          element.appendChild(docLink);\n",
              "        }\n",
              "      </script>\n",
              "    </div>\n",
              "  </div>\n"
            ]
          },
          "metadata": {},
          "execution_count": 57
        }
      ]
    },
    {
      "cell_type": "code",
      "source": [
        "# the default labels for each topic\n",
        "topic_model.topic_labels_"
      ],
      "metadata": {
        "colab": {
          "base_uri": "https://localhost:8080/"
        },
        "id": "kd5m7zY6UnFM",
        "outputId": "734b3d1e-d42e-4371-9ada-90560d79b61c"
      },
      "execution_count": null,
      "outputs": [
        {
          "output_type": "execute_result",
          "data": {
            "text/plain": [
              "{-1: '-1_成人教育_理念_理论_改革',\n",
              " 0: '0_建设_思想_平台_学习型',\n",
              " 1: '1_教师_成人_高等教育_学生',\n",
              " 2: '2_立法_法律_权利_公民',\n",
              " 3: '3_生活_学校_生命_过程',\n",
              " 4: '4_城市_学习型_建设_小康社会',\n",
              " 5: '5_会议_教授_论坛_上海',\n",
              " 6: '6_研究_理论_文献_分析',\n",
              " 7: '7_社区_居民_建设_学习型',\n",
              " 8: '8_资历_框架_制度_韩国',\n",
              " 9: '9_世纪_年代_思潮_保罗',\n",
              " 10: '10_职业_培训_理念_模式',\n",
              " 11: '11_图书馆_公共_服务_职能',\n",
              " 12: '12_政策_欧盟_成员国_工具',\n",
              " 13: '13_能力_成人_研究_因子',\n",
              " 14: '14_学分_银行_建设_成果',\n",
              " 15: '15_老年_老年人_乡村_生活',\n",
              " 16: '16_现代化_目标_历史使命_全民',\n",
              " 17: '17_农村_农民_职业_诸如',\n",
              " 18: '18_日本_福祉_社会教育_政策'}"
            ]
          },
          "metadata": {},
          "execution_count": 58
        }
      ]
    },
    {
      "cell_type": "code",
      "source": [
        "# visualize Topics\n",
        "topic_model.visualize_topics()"
      ],
      "metadata": {
        "colab": {
          "base_uri": "https://localhost:8080/",
          "height": 667
        },
        "id": "q2U3AUtPUuX0",
        "outputId": "ff4e4e05-067f-4e3d-f7a5-f48919807724"
      },
      "execution_count": null,
      "outputs": [
        {
          "output_type": "display_data",
          "data": {
            "text/html": [
              "<html>\n",
              "<head><meta charset=\"utf-8\" /></head>\n",
              "<body>\n",
              "    <div>            <script src=\"https://cdnjs.cloudflare.com/ajax/libs/mathjax/2.7.5/MathJax.js?config=TeX-AMS-MML_SVG\"></script><script type=\"text/javascript\">if (window.MathJax && window.MathJax.Hub && window.MathJax.Hub.Config) {window.MathJax.Hub.Config({SVG: {font: \"STIX-Web\"}});}</script>                <script type=\"text/javascript\">window.PlotlyConfig = {MathJaxConfig: 'local'};</script>\n",
              "        <script src=\"https://cdn.plot.ly/plotly-2.18.2.min.js\"></script>                <div id=\"aca73743-e2b8-49bd-a017-ecc710934d96\" class=\"plotly-graph-div\" style=\"height:650px; width:650px;\"></div>            <script type=\"text/javascript\">                                    window.PLOTLYENV=window.PLOTLYENV || {};                                    if (document.getElementById(\"aca73743-e2b8-49bd-a017-ecc710934d96\")) {                    Plotly.newPlot(                        \"aca73743-e2b8-49bd-a017-ecc710934d96\",                        [{\"customdata\":[[0,\"\\u5efa\\u8bbe | \\u601d\\u60f3 | \\u5e73\\u53f0 | \\u5b66\\u4e60\\u578b | \\u7406\\u5ff5\",399],[1,\"\\u6559\\u5e08 | \\u6210\\u4eba | \\u9ad8\\u7b49\\u6559\\u80b2 | \\u5b66\\u751f | \\u5927\\u5b66\",218],[2,\"\\u7acb\\u6cd5 | \\u6cd5\\u5f8b | \\u6743\\u5229 | \\u516c\\u6c11 | \\u56fd\\u5bb6\",93],[3,\"\\u751f\\u6d3b | \\u5b66\\u6821 | \\u751f\\u547d | \\u8fc7\\u7a0b | \\u4eba\\u7c7b\",69],[4,\"\\u57ce\\u5e02 | \\u5b66\\u4e60\\u578b | \\u5efa\\u8bbe | \\u5c0f\\u5eb7\\u793e\\u4f1a | \\u89c4\\u5212\",54],[5,\"\\u4f1a\\u8bae | \\u6559\\u6388 | \\u8bba\\u575b | \\u4e0a\\u6d77 | \\u534f\\u4f1a\",53],[6,\"\\u7814\\u7a76 | \\u7406\\u8bba | \\u6587\\u732e | \\u5206\\u6790 | \\u4f20\\u64ad\",52],[7,\"\\u793e\\u533a | \\u5c45\\u6c11 | \\u5efa\\u8bbe | \\u5b66\\u4e60\\u578b | \\u54c1\\u724c\",52],[8,\"\\u8d44\\u5386 | \\u6846\\u67b6 | \\u5236\\u5ea6 | \\u97e9\\u56fd | \\u6807\\u51c6\",51],[9,\"\\u4e16\\u7eaa | \\u5e74\\u4ee3 | \\u601d\\u6f6e | \\u4fdd\\u7f57 | \\u6717\\u683c\",50],[10,\"\\u804c\\u4e1a | \\u57f9\\u8bad | \\u7406\\u5ff5 | \\u6a21\\u5f0f | \\u9636\\u6bb5\",45],[11,\"\\u56fe\\u4e66\\u9986 | \\u516c\\u5171 | \\u670d\\u52a1 | \\u804c\\u80fd | \\u4fe1\\u606f\",38],[12,\"\\u653f\\u7b56 | \\u6b27\\u76df | \\u6210\\u5458\\u56fd | \\u5de5\\u5177 | \\u6e90\\u6d41\",29],[13,\"\\u80fd\\u529b | \\u6210\\u4eba | \\u7814\\u7a76 | \\u56e0\\u5b50 | \\u8bc4\\u4f30\",23],[14,\"\\u5b66\\u5206 | \\u94f6\\u884c | \\u5efa\\u8bbe | \\u6210\\u679c | \\u533a\\u57df\\u6027\",16],[15,\"\\u8001\\u5e74 | \\u8001\\u5e74\\u4eba | \\u4e61\\u6751 | \\u751f\\u6d3b | \\u4eba\\u53e3\\u8001\\u9f84\\u5316\",15],[16,\"\\u73b0\\u4ee3\\u5316 | \\u76ee\\u6807 | \\u5386\\u53f2\\u4f7f\\u547d | \\u5168\\u6c11 | \\u56db\\u4e2d\\u5168\\u4f1a\",15],[17,\"\\u519c\\u6751 | \\u519c\\u6c11 | \\u804c\\u4e1a | \\u8bf8\\u5982 | \\u6210\\u4eba\\u6559\\u80b2\",15],[18,\"\\u65e5\\u672c | \\u798f\\u7949 | \\u793e\\u4f1a\\u6559\\u80b2 | \\u653f\\u7b56 | \\u91cd\\u6784\",14]],\"hovertemplate\":\"<b>Topic %{customdata[0]}</b><br>%{customdata[1]}<br>Size: %{customdata[2]}\",\"legendgroup\":\"\",\"marker\":{\"color\":\"#B0BEC5\",\"size\":[399,218,93,69,54,53,52,52,51,50,45,38,29,23,16,15,15,15,14],\"sizemode\":\"area\",\"sizeref\":0.249375,\"symbol\":\"circle\",\"line\":{\"color\":\"DarkSlateGrey\",\"width\":2}},\"mode\":\"markers\",\"name\":\"\",\"orientation\":\"v\",\"showlegend\":false,\"x\":[14.283024787902832,12.30909538269043,16.809907913208008,13.403295516967773,15.630110740661621,15.541341781616211,12.968355178833008,13.675272941589355,16.13005828857422,14.03450870513916,12.085132598876953,13.948089599609375,15.02254867553711,14.468756675720215,16.300182342529297,14.644918441772461,13.82306957244873,16.018024444580078,12.924042701721191],\"xaxis\":\"x\",\"y\":[2.911696195602417,4.736019611358643,1.9746475219726562,3.8610002994537354,0.604187548160553,0.2469448298215866,2.8671445846557617,2.8688461780548096,1.923092007637024,4.080023765563965,4.951686859130859,2.519645929336548,3.730454444885254,3.2339587211608887,1.967582106590271,2.5384438037872314,3.3615360260009766,0.4098127782344818,3.4444527626037598],\"yaxis\":\"y\",\"type\":\"scatter\"}],                        {\"template\":{\"data\":{\"barpolar\":[{\"marker\":{\"line\":{\"color\":\"white\",\"width\":0.5},\"pattern\":{\"fillmode\":\"overlay\",\"size\":10,\"solidity\":0.2}},\"type\":\"barpolar\"}],\"bar\":[{\"error_x\":{\"color\":\"rgb(36,36,36)\"},\"error_y\":{\"color\":\"rgb(36,36,36)\"},\"marker\":{\"line\":{\"color\":\"white\",\"width\":0.5},\"pattern\":{\"fillmode\":\"overlay\",\"size\":10,\"solidity\":0.2}},\"type\":\"bar\"}],\"carpet\":[{\"aaxis\":{\"endlinecolor\":\"rgb(36,36,36)\",\"gridcolor\":\"white\",\"linecolor\":\"white\",\"minorgridcolor\":\"white\",\"startlinecolor\":\"rgb(36,36,36)\"},\"baxis\":{\"endlinecolor\":\"rgb(36,36,36)\",\"gridcolor\":\"white\",\"linecolor\":\"white\",\"minorgridcolor\":\"white\",\"startlinecolor\":\"rgb(36,36,36)\"},\"type\":\"carpet\"}],\"choropleth\":[{\"colorbar\":{\"outlinewidth\":1,\"tickcolor\":\"rgb(36,36,36)\",\"ticks\":\"outside\"},\"type\":\"choropleth\"}],\"contourcarpet\":[{\"colorbar\":{\"outlinewidth\":1,\"tickcolor\":\"rgb(36,36,36)\",\"ticks\":\"outside\"},\"type\":\"contourcarpet\"}],\"contour\":[{\"colorbar\":{\"outlinewidth\":1,\"tickcolor\":\"rgb(36,36,36)\",\"ticks\":\"outside\"},\"colorscale\":[[0.0,\"#440154\"],[0.1111111111111111,\"#482878\"],[0.2222222222222222,\"#3e4989\"],[0.3333333333333333,\"#31688e\"],[0.4444444444444444,\"#26828e\"],[0.5555555555555556,\"#1f9e89\"],[0.6666666666666666,\"#35b779\"],[0.7777777777777778,\"#6ece58\"],[0.8888888888888888,\"#b5de2b\"],[1.0,\"#fde725\"]],\"type\":\"contour\"}],\"heatmapgl\":[{\"colorbar\":{\"outlinewidth\":1,\"tickcolor\":\"rgb(36,36,36)\",\"ticks\":\"outside\"},\"colorscale\":[[0.0,\"#440154\"],[0.1111111111111111,\"#482878\"],[0.2222222222222222,\"#3e4989\"],[0.3333333333333333,\"#31688e\"],[0.4444444444444444,\"#26828e\"],[0.5555555555555556,\"#1f9e89\"],[0.6666666666666666,\"#35b779\"],[0.7777777777777778,\"#6ece58\"],[0.8888888888888888,\"#b5de2b\"],[1.0,\"#fde725\"]],\"type\":\"heatmapgl\"}],\"heatmap\":[{\"colorbar\":{\"outlinewidth\":1,\"tickcolor\":\"rgb(36,36,36)\",\"ticks\":\"outside\"},\"colorscale\":[[0.0,\"#440154\"],[0.1111111111111111,\"#482878\"],[0.2222222222222222,\"#3e4989\"],[0.3333333333333333,\"#31688e\"],[0.4444444444444444,\"#26828e\"],[0.5555555555555556,\"#1f9e89\"],[0.6666666666666666,\"#35b779\"],[0.7777777777777778,\"#6ece58\"],[0.8888888888888888,\"#b5de2b\"],[1.0,\"#fde725\"]],\"type\":\"heatmap\"}],\"histogram2dcontour\":[{\"colorbar\":{\"outlinewidth\":1,\"tickcolor\":\"rgb(36,36,36)\",\"ticks\":\"outside\"},\"colorscale\":[[0.0,\"#440154\"],[0.1111111111111111,\"#482878\"],[0.2222222222222222,\"#3e4989\"],[0.3333333333333333,\"#31688e\"],[0.4444444444444444,\"#26828e\"],[0.5555555555555556,\"#1f9e89\"],[0.6666666666666666,\"#35b779\"],[0.7777777777777778,\"#6ece58\"],[0.8888888888888888,\"#b5de2b\"],[1.0,\"#fde725\"]],\"type\":\"histogram2dcontour\"}],\"histogram2d\":[{\"colorbar\":{\"outlinewidth\":1,\"tickcolor\":\"rgb(36,36,36)\",\"ticks\":\"outside\"},\"colorscale\":[[0.0,\"#440154\"],[0.1111111111111111,\"#482878\"],[0.2222222222222222,\"#3e4989\"],[0.3333333333333333,\"#31688e\"],[0.4444444444444444,\"#26828e\"],[0.5555555555555556,\"#1f9e89\"],[0.6666666666666666,\"#35b779\"],[0.7777777777777778,\"#6ece58\"],[0.8888888888888888,\"#b5de2b\"],[1.0,\"#fde725\"]],\"type\":\"histogram2d\"}],\"histogram\":[{\"marker\":{\"line\":{\"color\":\"white\",\"width\":0.6}},\"type\":\"histogram\"}],\"mesh3d\":[{\"colorbar\":{\"outlinewidth\":1,\"tickcolor\":\"rgb(36,36,36)\",\"ticks\":\"outside\"},\"type\":\"mesh3d\"}],\"parcoords\":[{\"line\":{\"colorbar\":{\"outlinewidth\":1,\"tickcolor\":\"rgb(36,36,36)\",\"ticks\":\"outside\"}},\"type\":\"parcoords\"}],\"pie\":[{\"automargin\":true,\"type\":\"pie\"}],\"scatter3d\":[{\"line\":{\"colorbar\":{\"outlinewidth\":1,\"tickcolor\":\"rgb(36,36,36)\",\"ticks\":\"outside\"}},\"marker\":{\"colorbar\":{\"outlinewidth\":1,\"tickcolor\":\"rgb(36,36,36)\",\"ticks\":\"outside\"}},\"type\":\"scatter3d\"}],\"scattercarpet\":[{\"marker\":{\"colorbar\":{\"outlinewidth\":1,\"tickcolor\":\"rgb(36,36,36)\",\"ticks\":\"outside\"}},\"type\":\"scattercarpet\"}],\"scattergeo\":[{\"marker\":{\"colorbar\":{\"outlinewidth\":1,\"tickcolor\":\"rgb(36,36,36)\",\"ticks\":\"outside\"}},\"type\":\"scattergeo\"}],\"scattergl\":[{\"marker\":{\"colorbar\":{\"outlinewidth\":1,\"tickcolor\":\"rgb(36,36,36)\",\"ticks\":\"outside\"}},\"type\":\"scattergl\"}],\"scattermapbox\":[{\"marker\":{\"colorbar\":{\"outlinewidth\":1,\"tickcolor\":\"rgb(36,36,36)\",\"ticks\":\"outside\"}},\"type\":\"scattermapbox\"}],\"scatterpolargl\":[{\"marker\":{\"colorbar\":{\"outlinewidth\":1,\"tickcolor\":\"rgb(36,36,36)\",\"ticks\":\"outside\"}},\"type\":\"scatterpolargl\"}],\"scatterpolar\":[{\"marker\":{\"colorbar\":{\"outlinewidth\":1,\"tickcolor\":\"rgb(36,36,36)\",\"ticks\":\"outside\"}},\"type\":\"scatterpolar\"}],\"scatter\":[{\"fillpattern\":{\"fillmode\":\"overlay\",\"size\":10,\"solidity\":0.2},\"type\":\"scatter\"}],\"scatterternary\":[{\"marker\":{\"colorbar\":{\"outlinewidth\":1,\"tickcolor\":\"rgb(36,36,36)\",\"ticks\":\"outside\"}},\"type\":\"scatterternary\"}],\"surface\":[{\"colorbar\":{\"outlinewidth\":1,\"tickcolor\":\"rgb(36,36,36)\",\"ticks\":\"outside\"},\"colorscale\":[[0.0,\"#440154\"],[0.1111111111111111,\"#482878\"],[0.2222222222222222,\"#3e4989\"],[0.3333333333333333,\"#31688e\"],[0.4444444444444444,\"#26828e\"],[0.5555555555555556,\"#1f9e89\"],[0.6666666666666666,\"#35b779\"],[0.7777777777777778,\"#6ece58\"],[0.8888888888888888,\"#b5de2b\"],[1.0,\"#fde725\"]],\"type\":\"surface\"}],\"table\":[{\"cells\":{\"fill\":{\"color\":\"rgb(237,237,237)\"},\"line\":{\"color\":\"white\"}},\"header\":{\"fill\":{\"color\":\"rgb(217,217,217)\"},\"line\":{\"color\":\"white\"}},\"type\":\"table\"}]},\"layout\":{\"annotationdefaults\":{\"arrowhead\":0,\"arrowwidth\":1},\"autotypenumbers\":\"strict\",\"coloraxis\":{\"colorbar\":{\"outlinewidth\":1,\"tickcolor\":\"rgb(36,36,36)\",\"ticks\":\"outside\"}},\"colorscale\":{\"diverging\":[[0.0,\"rgb(103,0,31)\"],[0.1,\"rgb(178,24,43)\"],[0.2,\"rgb(214,96,77)\"],[0.3,\"rgb(244,165,130)\"],[0.4,\"rgb(253,219,199)\"],[0.5,\"rgb(247,247,247)\"],[0.6,\"rgb(209,229,240)\"],[0.7,\"rgb(146,197,222)\"],[0.8,\"rgb(67,147,195)\"],[0.9,\"rgb(33,102,172)\"],[1.0,\"rgb(5,48,97)\"]],\"sequential\":[[0.0,\"#440154\"],[0.1111111111111111,\"#482878\"],[0.2222222222222222,\"#3e4989\"],[0.3333333333333333,\"#31688e\"],[0.4444444444444444,\"#26828e\"],[0.5555555555555556,\"#1f9e89\"],[0.6666666666666666,\"#35b779\"],[0.7777777777777778,\"#6ece58\"],[0.8888888888888888,\"#b5de2b\"],[1.0,\"#fde725\"]],\"sequentialminus\":[[0.0,\"#440154\"],[0.1111111111111111,\"#482878\"],[0.2222222222222222,\"#3e4989\"],[0.3333333333333333,\"#31688e\"],[0.4444444444444444,\"#26828e\"],[0.5555555555555556,\"#1f9e89\"],[0.6666666666666666,\"#35b779\"],[0.7777777777777778,\"#6ece58\"],[0.8888888888888888,\"#b5de2b\"],[1.0,\"#fde725\"]]},\"colorway\":[\"#1F77B4\",\"#FF7F0E\",\"#2CA02C\",\"#D62728\",\"#9467BD\",\"#8C564B\",\"#E377C2\",\"#7F7F7F\",\"#BCBD22\",\"#17BECF\"],\"font\":{\"color\":\"rgb(36,36,36)\"},\"geo\":{\"bgcolor\":\"white\",\"lakecolor\":\"white\",\"landcolor\":\"white\",\"showlakes\":true,\"showland\":true,\"subunitcolor\":\"white\"},\"hoverlabel\":{\"align\":\"left\"},\"hovermode\":\"closest\",\"mapbox\":{\"style\":\"light\"},\"paper_bgcolor\":\"white\",\"plot_bgcolor\":\"white\",\"polar\":{\"angularaxis\":{\"gridcolor\":\"rgb(232,232,232)\",\"linecolor\":\"rgb(36,36,36)\",\"showgrid\":false,\"showline\":true,\"ticks\":\"outside\"},\"bgcolor\":\"white\",\"radialaxis\":{\"gridcolor\":\"rgb(232,232,232)\",\"linecolor\":\"rgb(36,36,36)\",\"showgrid\":false,\"showline\":true,\"ticks\":\"outside\"}},\"scene\":{\"xaxis\":{\"backgroundcolor\":\"white\",\"gridcolor\":\"rgb(232,232,232)\",\"gridwidth\":2,\"linecolor\":\"rgb(36,36,36)\",\"showbackground\":true,\"showgrid\":false,\"showline\":true,\"ticks\":\"outside\",\"zeroline\":false,\"zerolinecolor\":\"rgb(36,36,36)\"},\"yaxis\":{\"backgroundcolor\":\"white\",\"gridcolor\":\"rgb(232,232,232)\",\"gridwidth\":2,\"linecolor\":\"rgb(36,36,36)\",\"showbackground\":true,\"showgrid\":false,\"showline\":true,\"ticks\":\"outside\",\"zeroline\":false,\"zerolinecolor\":\"rgb(36,36,36)\"},\"zaxis\":{\"backgroundcolor\":\"white\",\"gridcolor\":\"rgb(232,232,232)\",\"gridwidth\":2,\"linecolor\":\"rgb(36,36,36)\",\"showbackground\":true,\"showgrid\":false,\"showline\":true,\"ticks\":\"outside\",\"zeroline\":false,\"zerolinecolor\":\"rgb(36,36,36)\"}},\"shapedefaults\":{\"fillcolor\":\"black\",\"line\":{\"width\":0},\"opacity\":0.3},\"ternary\":{\"aaxis\":{\"gridcolor\":\"rgb(232,232,232)\",\"linecolor\":\"rgb(36,36,36)\",\"showgrid\":false,\"showline\":true,\"ticks\":\"outside\"},\"baxis\":{\"gridcolor\":\"rgb(232,232,232)\",\"linecolor\":\"rgb(36,36,36)\",\"showgrid\":false,\"showline\":true,\"ticks\":\"outside\"},\"bgcolor\":\"white\",\"caxis\":{\"gridcolor\":\"rgb(232,232,232)\",\"linecolor\":\"rgb(36,36,36)\",\"showgrid\":false,\"showline\":true,\"ticks\":\"outside\"}},\"title\":{\"x\":0.05},\"xaxis\":{\"automargin\":true,\"gridcolor\":\"rgb(232,232,232)\",\"linecolor\":\"rgb(36,36,36)\",\"showgrid\":false,\"showline\":true,\"ticks\":\"outside\",\"title\":{\"standoff\":15},\"zeroline\":false,\"zerolinecolor\":\"rgb(36,36,36)\"},\"yaxis\":{\"automargin\":true,\"gridcolor\":\"rgb(232,232,232)\",\"linecolor\":\"rgb(36,36,36)\",\"showgrid\":false,\"showline\":true,\"ticks\":\"outside\",\"title\":{\"standoff\":15},\"zeroline\":false,\"zerolinecolor\":\"rgb(36,36,36)\"}}},\"xaxis\":{\"anchor\":\"y\",\"domain\":[0.0,1.0],\"title\":{\"text\":\"\"},\"visible\":false,\"range\":[10.27236270904541,19.331394100189208]},\"yaxis\":{\"anchor\":\"x\",\"domain\":[0.0,1.0],\"title\":{\"text\":\"\"},\"visible\":false,\"range\":[0.2099031053483486,5.694439888000488]},\"legend\":{\"tracegroupgap\":0,\"itemsizing\":\"constant\"},\"margin\":{\"t\":60},\"title\":{\"font\":{\"size\":22,\"color\":\"Black\"},\"text\":\"<b>Intertopic Distance Map</b>\",\"y\":0.95,\"x\":0.5,\"xanchor\":\"center\",\"yanchor\":\"top\"},\"hoverlabel\":{\"font\":{\"size\":16,\"family\":\"Rockwell\"},\"bgcolor\":\"white\"},\"width\":650,\"height\":650,\"sliders\":[{\"active\":0,\"pad\":{\"t\":50},\"steps\":[{\"args\":[{\"marker.color\":[[\"red\",\"#B0BEC5\",\"#B0BEC5\",\"#B0BEC5\",\"#B0BEC5\",\"#B0BEC5\",\"#B0BEC5\",\"#B0BEC5\",\"#B0BEC5\",\"#B0BEC5\",\"#B0BEC5\",\"#B0BEC5\",\"#B0BEC5\",\"#B0BEC5\",\"#B0BEC5\",\"#B0BEC5\",\"#B0BEC5\",\"#B0BEC5\",\"#B0BEC5\"]]}],\"label\":\"Topic 0\",\"method\":\"update\"},{\"args\":[{\"marker.color\":[[\"#B0BEC5\",\"red\",\"#B0BEC5\",\"#B0BEC5\",\"#B0BEC5\",\"#B0BEC5\",\"#B0BEC5\",\"#B0BEC5\",\"#B0BEC5\",\"#B0BEC5\",\"#B0BEC5\",\"#B0BEC5\",\"#B0BEC5\",\"#B0BEC5\",\"#B0BEC5\",\"#B0BEC5\",\"#B0BEC5\",\"#B0BEC5\",\"#B0BEC5\"]]}],\"label\":\"Topic 1\",\"method\":\"update\"},{\"args\":[{\"marker.color\":[[\"#B0BEC5\",\"#B0BEC5\",\"red\",\"#B0BEC5\",\"#B0BEC5\",\"#B0BEC5\",\"#B0BEC5\",\"#B0BEC5\",\"#B0BEC5\",\"#B0BEC5\",\"#B0BEC5\",\"#B0BEC5\",\"#B0BEC5\",\"#B0BEC5\",\"#B0BEC5\",\"#B0BEC5\",\"#B0BEC5\",\"#B0BEC5\",\"#B0BEC5\"]]}],\"label\":\"Topic 2\",\"method\":\"update\"},{\"args\":[{\"marker.color\":[[\"#B0BEC5\",\"#B0BEC5\",\"#B0BEC5\",\"red\",\"#B0BEC5\",\"#B0BEC5\",\"#B0BEC5\",\"#B0BEC5\",\"#B0BEC5\",\"#B0BEC5\",\"#B0BEC5\",\"#B0BEC5\",\"#B0BEC5\",\"#B0BEC5\",\"#B0BEC5\",\"#B0BEC5\",\"#B0BEC5\",\"#B0BEC5\",\"#B0BEC5\"]]}],\"label\":\"Topic 3\",\"method\":\"update\"},{\"args\":[{\"marker.color\":[[\"#B0BEC5\",\"#B0BEC5\",\"#B0BEC5\",\"#B0BEC5\",\"red\",\"#B0BEC5\",\"#B0BEC5\",\"#B0BEC5\",\"#B0BEC5\",\"#B0BEC5\",\"#B0BEC5\",\"#B0BEC5\",\"#B0BEC5\",\"#B0BEC5\",\"#B0BEC5\",\"#B0BEC5\",\"#B0BEC5\",\"#B0BEC5\",\"#B0BEC5\"]]}],\"label\":\"Topic 4\",\"method\":\"update\"},{\"args\":[{\"marker.color\":[[\"#B0BEC5\",\"#B0BEC5\",\"#B0BEC5\",\"#B0BEC5\",\"#B0BEC5\",\"red\",\"#B0BEC5\",\"#B0BEC5\",\"#B0BEC5\",\"#B0BEC5\",\"#B0BEC5\",\"#B0BEC5\",\"#B0BEC5\",\"#B0BEC5\",\"#B0BEC5\",\"#B0BEC5\",\"#B0BEC5\",\"#B0BEC5\",\"#B0BEC5\"]]}],\"label\":\"Topic 5\",\"method\":\"update\"},{\"args\":[{\"marker.color\":[[\"#B0BEC5\",\"#B0BEC5\",\"#B0BEC5\",\"#B0BEC5\",\"#B0BEC5\",\"#B0BEC5\",\"red\",\"#B0BEC5\",\"#B0BEC5\",\"#B0BEC5\",\"#B0BEC5\",\"#B0BEC5\",\"#B0BEC5\",\"#B0BEC5\",\"#B0BEC5\",\"#B0BEC5\",\"#B0BEC5\",\"#B0BEC5\",\"#B0BEC5\"]]}],\"label\":\"Topic 6\",\"method\":\"update\"},{\"args\":[{\"marker.color\":[[\"#B0BEC5\",\"#B0BEC5\",\"#B0BEC5\",\"#B0BEC5\",\"#B0BEC5\",\"#B0BEC5\",\"#B0BEC5\",\"red\",\"#B0BEC5\",\"#B0BEC5\",\"#B0BEC5\",\"#B0BEC5\",\"#B0BEC5\",\"#B0BEC5\",\"#B0BEC5\",\"#B0BEC5\",\"#B0BEC5\",\"#B0BEC5\",\"#B0BEC5\"]]}],\"label\":\"Topic 7\",\"method\":\"update\"},{\"args\":[{\"marker.color\":[[\"#B0BEC5\",\"#B0BEC5\",\"#B0BEC5\",\"#B0BEC5\",\"#B0BEC5\",\"#B0BEC5\",\"#B0BEC5\",\"#B0BEC5\",\"red\",\"#B0BEC5\",\"#B0BEC5\",\"#B0BEC5\",\"#B0BEC5\",\"#B0BEC5\",\"#B0BEC5\",\"#B0BEC5\",\"#B0BEC5\",\"#B0BEC5\",\"#B0BEC5\"]]}],\"label\":\"Topic 8\",\"method\":\"update\"},{\"args\":[{\"marker.color\":[[\"#B0BEC5\",\"#B0BEC5\",\"#B0BEC5\",\"#B0BEC5\",\"#B0BEC5\",\"#B0BEC5\",\"#B0BEC5\",\"#B0BEC5\",\"#B0BEC5\",\"red\",\"#B0BEC5\",\"#B0BEC5\",\"#B0BEC5\",\"#B0BEC5\",\"#B0BEC5\",\"#B0BEC5\",\"#B0BEC5\",\"#B0BEC5\",\"#B0BEC5\"]]}],\"label\":\"Topic 9\",\"method\":\"update\"},{\"args\":[{\"marker.color\":[[\"#B0BEC5\",\"#B0BEC5\",\"#B0BEC5\",\"#B0BEC5\",\"#B0BEC5\",\"#B0BEC5\",\"#B0BEC5\",\"#B0BEC5\",\"#B0BEC5\",\"#B0BEC5\",\"red\",\"#B0BEC5\",\"#B0BEC5\",\"#B0BEC5\",\"#B0BEC5\",\"#B0BEC5\",\"#B0BEC5\",\"#B0BEC5\",\"#B0BEC5\"]]}],\"label\":\"Topic 10\",\"method\":\"update\"},{\"args\":[{\"marker.color\":[[\"#B0BEC5\",\"#B0BEC5\",\"#B0BEC5\",\"#B0BEC5\",\"#B0BEC5\",\"#B0BEC5\",\"#B0BEC5\",\"#B0BEC5\",\"#B0BEC5\",\"#B0BEC5\",\"#B0BEC5\",\"red\",\"#B0BEC5\",\"#B0BEC5\",\"#B0BEC5\",\"#B0BEC5\",\"#B0BEC5\",\"#B0BEC5\",\"#B0BEC5\"]]}],\"label\":\"Topic 11\",\"method\":\"update\"},{\"args\":[{\"marker.color\":[[\"#B0BEC5\",\"#B0BEC5\",\"#B0BEC5\",\"#B0BEC5\",\"#B0BEC5\",\"#B0BEC5\",\"#B0BEC5\",\"#B0BEC5\",\"#B0BEC5\",\"#B0BEC5\",\"#B0BEC5\",\"#B0BEC5\",\"red\",\"#B0BEC5\",\"#B0BEC5\",\"#B0BEC5\",\"#B0BEC5\",\"#B0BEC5\",\"#B0BEC5\"]]}],\"label\":\"Topic 12\",\"method\":\"update\"},{\"args\":[{\"marker.color\":[[\"#B0BEC5\",\"#B0BEC5\",\"#B0BEC5\",\"#B0BEC5\",\"#B0BEC5\",\"#B0BEC5\",\"#B0BEC5\",\"#B0BEC5\",\"#B0BEC5\",\"#B0BEC5\",\"#B0BEC5\",\"#B0BEC5\",\"#B0BEC5\",\"red\",\"#B0BEC5\",\"#B0BEC5\",\"#B0BEC5\",\"#B0BEC5\",\"#B0BEC5\"]]}],\"label\":\"Topic 13\",\"method\":\"update\"},{\"args\":[{\"marker.color\":[[\"#B0BEC5\",\"#B0BEC5\",\"#B0BEC5\",\"#B0BEC5\",\"#B0BEC5\",\"#B0BEC5\",\"#B0BEC5\",\"#B0BEC5\",\"#B0BEC5\",\"#B0BEC5\",\"#B0BEC5\",\"#B0BEC5\",\"#B0BEC5\",\"#B0BEC5\",\"red\",\"#B0BEC5\",\"#B0BEC5\",\"#B0BEC5\",\"#B0BEC5\"]]}],\"label\":\"Topic 14\",\"method\":\"update\"},{\"args\":[{\"marker.color\":[[\"#B0BEC5\",\"#B0BEC5\",\"#B0BEC5\",\"#B0BEC5\",\"#B0BEC5\",\"#B0BEC5\",\"#B0BEC5\",\"#B0BEC5\",\"#B0BEC5\",\"#B0BEC5\",\"#B0BEC5\",\"#B0BEC5\",\"#B0BEC5\",\"#B0BEC5\",\"#B0BEC5\",\"red\",\"#B0BEC5\",\"#B0BEC5\",\"#B0BEC5\"]]}],\"label\":\"Topic 15\",\"method\":\"update\"},{\"args\":[{\"marker.color\":[[\"#B0BEC5\",\"#B0BEC5\",\"#B0BEC5\",\"#B0BEC5\",\"#B0BEC5\",\"#B0BEC5\",\"#B0BEC5\",\"#B0BEC5\",\"#B0BEC5\",\"#B0BEC5\",\"#B0BEC5\",\"#B0BEC5\",\"#B0BEC5\",\"#B0BEC5\",\"#B0BEC5\",\"#B0BEC5\",\"red\",\"#B0BEC5\",\"#B0BEC5\"]]}],\"label\":\"Topic 16\",\"method\":\"update\"},{\"args\":[{\"marker.color\":[[\"#B0BEC5\",\"#B0BEC5\",\"#B0BEC5\",\"#B0BEC5\",\"#B0BEC5\",\"#B0BEC5\",\"#B0BEC5\",\"#B0BEC5\",\"#B0BEC5\",\"#B0BEC5\",\"#B0BEC5\",\"#B0BEC5\",\"#B0BEC5\",\"#B0BEC5\",\"#B0BEC5\",\"#B0BEC5\",\"#B0BEC5\",\"red\",\"#B0BEC5\"]]}],\"label\":\"Topic 17\",\"method\":\"update\"},{\"args\":[{\"marker.color\":[[\"#B0BEC5\",\"#B0BEC5\",\"#B0BEC5\",\"#B0BEC5\",\"#B0BEC5\",\"#B0BEC5\",\"#B0BEC5\",\"#B0BEC5\",\"#B0BEC5\",\"#B0BEC5\",\"#B0BEC5\",\"#B0BEC5\",\"#B0BEC5\",\"#B0BEC5\",\"#B0BEC5\",\"#B0BEC5\",\"#B0BEC5\",\"#B0BEC5\",\"red\"]]}],\"label\":\"Topic 18\",\"method\":\"update\"}]}],\"shapes\":[{\"line\":{\"color\":\"#CFD8DC\",\"width\":2},\"type\":\"line\",\"x0\":14.801878404617309,\"x1\":14.801878404617309,\"y0\":0.2099031053483486,\"y1\":5.694439888000488},{\"line\":{\"color\":\"#9E9E9E\",\"width\":2},\"type\":\"line\",\"x0\":10.27236270904541,\"x1\":19.331394100189208,\"y0\":2.9521714966744184,\"y1\":2.9521714966744184}],\"annotations\":[{\"showarrow\":false,\"text\":\"D1\",\"x\":10.27236270904541,\"y\":2.9521714966744184,\"yshift\":10},{\"showarrow\":false,\"text\":\"D2\",\"x\":14.801878404617309,\"xshift\":10,\"y\":5.694439888000488}]},                        {\"responsive\": true}                    ).then(function(){\n",
              "                            \n",
              "var gd = document.getElementById('aca73743-e2b8-49bd-a017-ecc710934d96');\n",
              "var x = new MutationObserver(function (mutations, observer) {{\n",
              "        var display = window.getComputedStyle(gd).display;\n",
              "        if (!display || display === 'none') {{\n",
              "            console.log([gd, 'removed!']);\n",
              "            Plotly.purge(gd);\n",
              "            observer.disconnect();\n",
              "        }}\n",
              "}});\n",
              "\n",
              "// Listen for the removal of the full notebook cells\n",
              "var notebookContainer = gd.closest('#notebook-container');\n",
              "if (notebookContainer) {{\n",
              "    x.observe(notebookContainer, {childList: true});\n",
              "}}\n",
              "\n",
              "// Listen for the clearing of the current output cell\n",
              "var outputEl = gd.closest('.output');\n",
              "if (outputEl) {{\n",
              "    x.observe(outputEl, {childList: true});\n",
              "}}\n",
              "\n",
              "                        })                };                            </script>        </div>\n",
              "</body>\n",
              "</html>"
            ]
          },
          "metadata": {}
        }
      ]
    },
    {
      "cell_type": "code",
      "source": [
        "# visualize topic hierarchy\n",
        "topic_model.visualize_hierarchy(top_n_topics=50)"
      ],
      "metadata": {
        "colab": {
          "base_uri": "https://localhost:8080/",
          "height": 522
        },
        "id": "jozbEZbEWSiz",
        "outputId": "3c360468-bcfe-4b4a-f8c3-645151485d0e"
      },
      "execution_count": null,
      "outputs": [
        {
          "output_type": "display_data",
          "data": {
            "text/html": [
              "<html>\n",
              "<head><meta charset=\"utf-8\" /></head>\n",
              "<body>\n",
              "    <div>            <script src=\"https://cdnjs.cloudflare.com/ajax/libs/mathjax/2.7.5/MathJax.js?config=TeX-AMS-MML_SVG\"></script><script type=\"text/javascript\">if (window.MathJax && window.MathJax.Hub && window.MathJax.Hub.Config) {window.MathJax.Hub.Config({SVG: {font: \"STIX-Web\"}});}</script>                <script type=\"text/javascript\">window.PlotlyConfig = {MathJaxConfig: 'local'};</script>\n",
              "        <script src=\"https://cdn.plot.ly/plotly-2.18.2.min.js\"></script>                <div id=\"a0848020-61eb-42d7-b838-fecb143b1224\" class=\"plotly-graph-div\" style=\"height:485px; width:1000px;\"></div>            <script type=\"text/javascript\">                                    window.PLOTLYENV=window.PLOTLYENV || {};                                    if (document.getElementById(\"a0848020-61eb-42d7-b838-fecb143b1224\")) {                    Plotly.newPlot(                        \"a0848020-61eb-42d7-b838-fecb143b1224\",                        [{\"hoverinfo\":\"text\",\"marker\":{\"color\":\"rgb(61,153,112)\"},\"mode\":\"lines\",\"x\":[0.0,0.7380230486407529,0.7380230486407529,0.0],\"xaxis\":\"x\",\"y\":[-5.0,-5.0,-15.0,-15.0],\"yaxis\":\"y\",\"type\":\"scatter\"},{\"hoverinfo\":\"text\",\"marker\":{\"color\":\"rgb(255,65,54)\"},\"mode\":\"lines\",\"x\":[0.0,0.8105898226067773,0.8105898226067773,0.0],\"xaxis\":\"x\",\"y\":[-25.0,-25.0,-35.0,-35.0],\"yaxis\":\"y\",\"type\":\"scatter\"},{\"hoverinfo\":\"text\",\"marker\":{\"color\":\"rgb(255,65,54)\"},\"mode\":\"lines\",\"x\":[0.8105898226067773,0.9719384437870889,0.9719384437870889,0.0],\"xaxis\":\"x\",\"y\":[-30.0,-30.0,-45.0,-45.0],\"yaxis\":\"y\",\"type\":\"scatter\"},{\"hoverinfo\":\"text\",\"marker\":{\"color\":\"rgb(35,205,205)\"},\"mode\":\"lines\",\"x\":[0.0,0.7135726363968793,0.7135726363968793,0.0],\"xaxis\":\"x\",\"y\":[-55.0,-55.0,-65.0,-65.0],\"yaxis\":\"y\",\"type\":\"scatter\"},{\"hoverinfo\":\"text\",\"marker\":{\"color\":\"rgb(0,116,217)\"},\"mode\":\"lines\",\"x\":[0.9719384437870889,1.0160373761169388,1.0160373761169388,0.7135726363968793],\"xaxis\":\"x\",\"y\":[-37.5,-37.5,-60.0,-60.0],\"yaxis\":\"y\",\"type\":\"scatter\"},{\"hoverinfo\":\"text\",\"marker\":{\"color\":\"rgb(133,20,75)\"},\"mode\":\"lines\",\"x\":[0.0,0.8446098505764678,0.8446098505764678,0.0],\"xaxis\":\"x\",\"y\":[-75.0,-75.0,-85.0,-85.0],\"yaxis\":\"y\",\"type\":\"scatter\"},{\"hoverinfo\":\"text\",\"marker\":{\"color\":\"rgb(133,20,75)\"},\"mode\":\"lines\",\"x\":[0.0,0.7931857935475186,0.7931857935475186,0.0],\"xaxis\":\"x\",\"y\":[-95.0,-95.0,-105.0,-105.0],\"yaxis\":\"y\",\"type\":\"scatter\"},{\"hoverinfo\":\"text\",\"marker\":{\"color\":\"rgb(133,20,75)\"},\"mode\":\"lines\",\"x\":[0.8446098505764678,0.9136450531163282,0.9136450531163282,0.7931857935475186],\"xaxis\":\"x\",\"y\":[-80.0,-80.0,-100.0,-100.0],\"yaxis\":\"y\",\"type\":\"scatter\"},{\"hoverinfo\":\"text\",\"marker\":{\"color\":\"rgb(0,116,217)\"},\"mode\":\"lines\",\"x\":[1.0160373761169388,1.066780243725573,1.066780243725573,0.9136450531163282],\"xaxis\":\"x\",\"y\":[-48.75,-48.75,-90.0,-90.0],\"yaxis\":\"y\",\"type\":\"scatter\"},{\"hoverinfo\":\"text\",\"marker\":{\"color\":\"rgb(255,220,0)\"},\"mode\":\"lines\",\"x\":[0.0,0.7799228130749253,0.7799228130749253,0.0],\"xaxis\":\"x\",\"y\":[-115.0,-115.0,-125.0,-125.0],\"yaxis\":\"y\",\"type\":\"scatter\"},{\"hoverinfo\":\"text\",\"marker\":{\"color\":\"rgb(255,220,0)\"},\"mode\":\"lines\",\"x\":[0.0,0.5715992162665016,0.5715992162665016,0.0],\"xaxis\":\"x\",\"y\":[-145.0,-145.0,-155.0,-155.0],\"yaxis\":\"y\",\"type\":\"scatter\"},{\"hoverinfo\":\"text\",\"marker\":{\"color\":\"rgb(255,220,0)\"},\"mode\":\"lines\",\"x\":[0.5715992162665016,0.7235486561608253,0.7235486561608253,0.0],\"xaxis\":\"x\",\"y\":[-150.0,-150.0,-165.0,-165.0],\"yaxis\":\"y\",\"type\":\"scatter\"},{\"hoverinfo\":\"text\",\"marker\":{\"color\":\"rgb(255,220,0)\"},\"mode\":\"lines\",\"x\":[0.0,0.7892156577825638,0.7892156577825638,0.7235486561608253],\"xaxis\":\"x\",\"y\":[-135.0,-135.0,-157.5,-157.5],\"yaxis\":\"y\",\"type\":\"scatter\"},{\"hoverinfo\":\"text\",\"marker\":{\"color\":\"rgb(255,220,0)\"},\"mode\":\"lines\",\"x\":[0.7892156577825638,0.849395558865952,0.849395558865952,0.0],\"xaxis\":\"x\",\"y\":[-146.25,-146.25,-175.0,-175.0],\"yaxis\":\"y\",\"type\":\"scatter\"},{\"hoverinfo\":\"text\",\"marker\":{\"color\":\"rgb(255,220,0)\"},\"mode\":\"lines\",\"x\":[0.7799228130749253,0.9271783630952388,0.9271783630952388,0.849395558865952],\"xaxis\":\"x\",\"y\":[-120.0,-120.0,-160.625,-160.625],\"yaxis\":\"y\",\"type\":\"scatter\"},{\"hoverinfo\":\"text\",\"marker\":{\"color\":\"rgb(255,220,0)\"},\"mode\":\"lines\",\"x\":[0.9271783630952388,0.992881585689622,0.992881585689622,0.0],\"xaxis\":\"x\",\"y\":[-140.3125,-140.3125,-185.0,-185.0],\"yaxis\":\"y\",\"type\":\"scatter\"},{\"hoverinfo\":\"text\",\"marker\":{\"color\":\"rgb(0,116,217)\"},\"mode\":\"lines\",\"x\":[1.066780243725573,1.071938416504053,1.071938416504053,0.992881585689622],\"xaxis\":\"x\",\"y\":[-69.375,-69.375,-162.65625,-162.65625],\"yaxis\":\"y\",\"type\":\"scatter\"},{\"hoverinfo\":\"text\",\"marker\":{\"color\":\"rgb(0,116,217)\"},\"mode\":\"lines\",\"x\":[0.7380230486407529,1.1093298490621333,1.1093298490621333,1.071938416504053],\"xaxis\":\"x\",\"y\":[-10.0,-10.0,-116.015625,-116.015625],\"yaxis\":\"y\",\"type\":\"scatter\"}],                        {\"autosize\":false,\"height\":485,\"hovermode\":\"closest\",\"showlegend\":false,\"width\":1000,\"xaxis\":{\"mirror\":\"allticks\",\"rangemode\":\"tozero\",\"showgrid\":false,\"showline\":true,\"showticklabels\":true,\"ticks\":\"outside\",\"type\":\"linear\",\"zeroline\":false},\"yaxis\":{\"mirror\":\"allticks\",\"rangemode\":\"tozero\",\"showgrid\":false,\"showline\":true,\"showticklabels\":true,\"tickmode\":\"array\",\"ticks\":\"outside\",\"ticktext\":[\"14_\\u5b66\\u5206_\\u94f6\\u884c_\\u5efa\\u8bbe\",\"8_\\u8d44\\u5386_\\u6846\\u67b6_\\u5236\\u5ea6\",\"15_\\u8001\\u5e74_\\u8001\\u5e74\\u4eba_\\u4e61\\u6751\",\"7_\\u793e\\u533a_\\u5c45\\u6c11_\\u5efa\\u8bbe\",\"17_\\u519c\\u6751_\\u519c\\u6c11_\\u804c\\u4e1a\",\"4_\\u57ce\\u5e02_\\u5b66\\u4e60\\u578b_\\u5efa\\u8bbe\",\"5_\\u4f1a\\u8bae_\\u6559\\u6388_\\u8bba\\u575b\",\"9_\\u4e16\\u7eaa_\\u5e74\\u4ee3_\\u601d\\u6f6e\",\"18_\\u65e5\\u672c_\\u798f\\u7949_\\u793e\\u4f1a\\u6559\\u80b2\",\"2_\\u7acb\\u6cd5_\\u6cd5\\u5f8b_\\u6743\\u5229\",\"12_\\u653f\\u7b56_\\u6b27\\u76df_\\u6210\\u5458\\u56fd\",\"13_\\u80fd\\u529b_\\u6210\\u4eba_\\u7814\\u7a76\",\"6_\\u7814\\u7a76_\\u7406\\u8bba_\\u6587\\u732e\",\"16_\\u73b0\\u4ee3\\u5316_\\u76ee\\u6807_\\u5386\\u53f2\\u4f7f\\u547d\",\"1_\\u6559\\u5e08_\\u6210\\u4eba_\\u9ad8\\u7b49\\u6559\\u80b2\",\"0_\\u5efa\\u8bbe_\\u601d\\u60f3_\\u5e73\\u53f0\",\"3_\\u751f\\u6d3b_\\u5b66\\u6821_\\u751f\\u547d\",\"10_\\u804c\\u4e1a_\\u57f9\\u8bad_\\u7406\\u5ff5\",\"11_\\u56fe\\u4e66\\u9986_\\u516c\\u5171_\\u670d\\u52a1\"],\"tickvals\":[-5.0,-15.0,-25.0,-35.0,-45.0,-55.0,-65.0,-75.0,-85.0,-95.0,-105.0,-115.0,-125.0,-135.0,-145.0,-155.0,-165.0,-175.0,-185.0],\"type\":\"linear\",\"zeroline\":false,\"range\":[-190.0,0.0]},\"template\":{\"data\":{\"barpolar\":[{\"marker\":{\"line\":{\"color\":\"white\",\"width\":0.5},\"pattern\":{\"fillmode\":\"overlay\",\"size\":10,\"solidity\":0.2}},\"type\":\"barpolar\"}],\"bar\":[{\"error_x\":{\"color\":\"#2a3f5f\"},\"error_y\":{\"color\":\"#2a3f5f\"},\"marker\":{\"line\":{\"color\":\"white\",\"width\":0.5},\"pattern\":{\"fillmode\":\"overlay\",\"size\":10,\"solidity\":0.2}},\"type\":\"bar\"}],\"carpet\":[{\"aaxis\":{\"endlinecolor\":\"#2a3f5f\",\"gridcolor\":\"#C8D4E3\",\"linecolor\":\"#C8D4E3\",\"minorgridcolor\":\"#C8D4E3\",\"startlinecolor\":\"#2a3f5f\"},\"baxis\":{\"endlinecolor\":\"#2a3f5f\",\"gridcolor\":\"#C8D4E3\",\"linecolor\":\"#C8D4E3\",\"minorgridcolor\":\"#C8D4E3\",\"startlinecolor\":\"#2a3f5f\"},\"type\":\"carpet\"}],\"choropleth\":[{\"colorbar\":{\"outlinewidth\":0,\"ticks\":\"\"},\"type\":\"choropleth\"}],\"contourcarpet\":[{\"colorbar\":{\"outlinewidth\":0,\"ticks\":\"\"},\"type\":\"contourcarpet\"}],\"contour\":[{\"colorbar\":{\"outlinewidth\":0,\"ticks\":\"\"},\"colorscale\":[[0.0,\"#0d0887\"],[0.1111111111111111,\"#46039f\"],[0.2222222222222222,\"#7201a8\"],[0.3333333333333333,\"#9c179e\"],[0.4444444444444444,\"#bd3786\"],[0.5555555555555556,\"#d8576b\"],[0.6666666666666666,\"#ed7953\"],[0.7777777777777778,\"#fb9f3a\"],[0.8888888888888888,\"#fdca26\"],[1.0,\"#f0f921\"]],\"type\":\"contour\"}],\"heatmapgl\":[{\"colorbar\":{\"outlinewidth\":0,\"ticks\":\"\"},\"colorscale\":[[0.0,\"#0d0887\"],[0.1111111111111111,\"#46039f\"],[0.2222222222222222,\"#7201a8\"],[0.3333333333333333,\"#9c179e\"],[0.4444444444444444,\"#bd3786\"],[0.5555555555555556,\"#d8576b\"],[0.6666666666666666,\"#ed7953\"],[0.7777777777777778,\"#fb9f3a\"],[0.8888888888888888,\"#fdca26\"],[1.0,\"#f0f921\"]],\"type\":\"heatmapgl\"}],\"heatmap\":[{\"colorbar\":{\"outlinewidth\":0,\"ticks\":\"\"},\"colorscale\":[[0.0,\"#0d0887\"],[0.1111111111111111,\"#46039f\"],[0.2222222222222222,\"#7201a8\"],[0.3333333333333333,\"#9c179e\"],[0.4444444444444444,\"#bd3786\"],[0.5555555555555556,\"#d8576b\"],[0.6666666666666666,\"#ed7953\"],[0.7777777777777778,\"#fb9f3a\"],[0.8888888888888888,\"#fdca26\"],[1.0,\"#f0f921\"]],\"type\":\"heatmap\"}],\"histogram2dcontour\":[{\"colorbar\":{\"outlinewidth\":0,\"ticks\":\"\"},\"colorscale\":[[0.0,\"#0d0887\"],[0.1111111111111111,\"#46039f\"],[0.2222222222222222,\"#7201a8\"],[0.3333333333333333,\"#9c179e\"],[0.4444444444444444,\"#bd3786\"],[0.5555555555555556,\"#d8576b\"],[0.6666666666666666,\"#ed7953\"],[0.7777777777777778,\"#fb9f3a\"],[0.8888888888888888,\"#fdca26\"],[1.0,\"#f0f921\"]],\"type\":\"histogram2dcontour\"}],\"histogram2d\":[{\"colorbar\":{\"outlinewidth\":0,\"ticks\":\"\"},\"colorscale\":[[0.0,\"#0d0887\"],[0.1111111111111111,\"#46039f\"],[0.2222222222222222,\"#7201a8\"],[0.3333333333333333,\"#9c179e\"],[0.4444444444444444,\"#bd3786\"],[0.5555555555555556,\"#d8576b\"],[0.6666666666666666,\"#ed7953\"],[0.7777777777777778,\"#fb9f3a\"],[0.8888888888888888,\"#fdca26\"],[1.0,\"#f0f921\"]],\"type\":\"histogram2d\"}],\"histogram\":[{\"marker\":{\"pattern\":{\"fillmode\":\"overlay\",\"size\":10,\"solidity\":0.2}},\"type\":\"histogram\"}],\"mesh3d\":[{\"colorbar\":{\"outlinewidth\":0,\"ticks\":\"\"},\"type\":\"mesh3d\"}],\"parcoords\":[{\"line\":{\"colorbar\":{\"outlinewidth\":0,\"ticks\":\"\"}},\"type\":\"parcoords\"}],\"pie\":[{\"automargin\":true,\"type\":\"pie\"}],\"scatter3d\":[{\"line\":{\"colorbar\":{\"outlinewidth\":0,\"ticks\":\"\"}},\"marker\":{\"colorbar\":{\"outlinewidth\":0,\"ticks\":\"\"}},\"type\":\"scatter3d\"}],\"scattercarpet\":[{\"marker\":{\"colorbar\":{\"outlinewidth\":0,\"ticks\":\"\"}},\"type\":\"scattercarpet\"}],\"scattergeo\":[{\"marker\":{\"colorbar\":{\"outlinewidth\":0,\"ticks\":\"\"}},\"type\":\"scattergeo\"}],\"scattergl\":[{\"marker\":{\"colorbar\":{\"outlinewidth\":0,\"ticks\":\"\"}},\"type\":\"scattergl\"}],\"scattermapbox\":[{\"marker\":{\"colorbar\":{\"outlinewidth\":0,\"ticks\":\"\"}},\"type\":\"scattermapbox\"}],\"scatterpolargl\":[{\"marker\":{\"colorbar\":{\"outlinewidth\":0,\"ticks\":\"\"}},\"type\":\"scatterpolargl\"}],\"scatterpolar\":[{\"marker\":{\"colorbar\":{\"outlinewidth\":0,\"ticks\":\"\"}},\"type\":\"scatterpolar\"}],\"scatter\":[{\"fillpattern\":{\"fillmode\":\"overlay\",\"size\":10,\"solidity\":0.2},\"type\":\"scatter\"}],\"scatterternary\":[{\"marker\":{\"colorbar\":{\"outlinewidth\":0,\"ticks\":\"\"}},\"type\":\"scatterternary\"}],\"surface\":[{\"colorbar\":{\"outlinewidth\":0,\"ticks\":\"\"},\"colorscale\":[[0.0,\"#0d0887\"],[0.1111111111111111,\"#46039f\"],[0.2222222222222222,\"#7201a8\"],[0.3333333333333333,\"#9c179e\"],[0.4444444444444444,\"#bd3786\"],[0.5555555555555556,\"#d8576b\"],[0.6666666666666666,\"#ed7953\"],[0.7777777777777778,\"#fb9f3a\"],[0.8888888888888888,\"#fdca26\"],[1.0,\"#f0f921\"]],\"type\":\"surface\"}],\"table\":[{\"cells\":{\"fill\":{\"color\":\"#EBF0F8\"},\"line\":{\"color\":\"white\"}},\"header\":{\"fill\":{\"color\":\"#C8D4E3\"},\"line\":{\"color\":\"white\"}},\"type\":\"table\"}]},\"layout\":{\"annotationdefaults\":{\"arrowcolor\":\"#2a3f5f\",\"arrowhead\":0,\"arrowwidth\":1},\"autotypenumbers\":\"strict\",\"coloraxis\":{\"colorbar\":{\"outlinewidth\":0,\"ticks\":\"\"}},\"colorscale\":{\"diverging\":[[0,\"#8e0152\"],[0.1,\"#c51b7d\"],[0.2,\"#de77ae\"],[0.3,\"#f1b6da\"],[0.4,\"#fde0ef\"],[0.5,\"#f7f7f7\"],[0.6,\"#e6f5d0\"],[0.7,\"#b8e186\"],[0.8,\"#7fbc41\"],[0.9,\"#4d9221\"],[1,\"#276419\"]],\"sequential\":[[0.0,\"#0d0887\"],[0.1111111111111111,\"#46039f\"],[0.2222222222222222,\"#7201a8\"],[0.3333333333333333,\"#9c179e\"],[0.4444444444444444,\"#bd3786\"],[0.5555555555555556,\"#d8576b\"],[0.6666666666666666,\"#ed7953\"],[0.7777777777777778,\"#fb9f3a\"],[0.8888888888888888,\"#fdca26\"],[1.0,\"#f0f921\"]],\"sequentialminus\":[[0.0,\"#0d0887\"],[0.1111111111111111,\"#46039f\"],[0.2222222222222222,\"#7201a8\"],[0.3333333333333333,\"#9c179e\"],[0.4444444444444444,\"#bd3786\"],[0.5555555555555556,\"#d8576b\"],[0.6666666666666666,\"#ed7953\"],[0.7777777777777778,\"#fb9f3a\"],[0.8888888888888888,\"#fdca26\"],[1.0,\"#f0f921\"]]},\"colorway\":[\"#636efa\",\"#EF553B\",\"#00cc96\",\"#ab63fa\",\"#FFA15A\",\"#19d3f3\",\"#FF6692\",\"#B6E880\",\"#FF97FF\",\"#FECB52\"],\"font\":{\"color\":\"#2a3f5f\"},\"geo\":{\"bgcolor\":\"white\",\"lakecolor\":\"white\",\"landcolor\":\"white\",\"showlakes\":true,\"showland\":true,\"subunitcolor\":\"#C8D4E3\"},\"hoverlabel\":{\"align\":\"left\"},\"hovermode\":\"closest\",\"mapbox\":{\"style\":\"light\"},\"paper_bgcolor\":\"white\",\"plot_bgcolor\":\"white\",\"polar\":{\"angularaxis\":{\"gridcolor\":\"#EBF0F8\",\"linecolor\":\"#EBF0F8\",\"ticks\":\"\"},\"bgcolor\":\"white\",\"radialaxis\":{\"gridcolor\":\"#EBF0F8\",\"linecolor\":\"#EBF0F8\",\"ticks\":\"\"}},\"scene\":{\"xaxis\":{\"backgroundcolor\":\"white\",\"gridcolor\":\"#DFE8F3\",\"gridwidth\":2,\"linecolor\":\"#EBF0F8\",\"showbackground\":true,\"ticks\":\"\",\"zerolinecolor\":\"#EBF0F8\"},\"yaxis\":{\"backgroundcolor\":\"white\",\"gridcolor\":\"#DFE8F3\",\"gridwidth\":2,\"linecolor\":\"#EBF0F8\",\"showbackground\":true,\"ticks\":\"\",\"zerolinecolor\":\"#EBF0F8\"},\"zaxis\":{\"backgroundcolor\":\"white\",\"gridcolor\":\"#DFE8F3\",\"gridwidth\":2,\"linecolor\":\"#EBF0F8\",\"showbackground\":true,\"ticks\":\"\",\"zerolinecolor\":\"#EBF0F8\"}},\"shapedefaults\":{\"line\":{\"color\":\"#2a3f5f\"}},\"ternary\":{\"aaxis\":{\"gridcolor\":\"#DFE8F3\",\"linecolor\":\"#A2B1C6\",\"ticks\":\"\"},\"baxis\":{\"gridcolor\":\"#DFE8F3\",\"linecolor\":\"#A2B1C6\",\"ticks\":\"\"},\"bgcolor\":\"white\",\"caxis\":{\"gridcolor\":\"#DFE8F3\",\"linecolor\":\"#A2B1C6\",\"ticks\":\"\"}},\"title\":{\"x\":0.05},\"xaxis\":{\"automargin\":true,\"gridcolor\":\"#EBF0F8\",\"linecolor\":\"#EBF0F8\",\"ticks\":\"\",\"title\":{\"standoff\":15},\"zerolinecolor\":\"#EBF0F8\",\"zerolinewidth\":2},\"yaxis\":{\"automargin\":true,\"gridcolor\":\"#EBF0F8\",\"linecolor\":\"#EBF0F8\",\"ticks\":\"\",\"title\":{\"standoff\":15},\"zerolinecolor\":\"#EBF0F8\",\"zerolinewidth\":2}}},\"title\":{\"font\":{\"size\":22,\"color\":\"Black\"},\"text\":\"<b>Hierarchical Clustering</b>\",\"x\":0.5,\"xanchor\":\"center\",\"yanchor\":\"top\"},\"hoverlabel\":{\"font\":{\"size\":16,\"family\":\"Rockwell\"},\"bgcolor\":\"white\"},\"plot_bgcolor\":\"#ECEFF1\"},                        {\"responsive\": true}                    ).then(function(){\n",
              "                            \n",
              "var gd = document.getElementById('a0848020-61eb-42d7-b838-fecb143b1224');\n",
              "var x = new MutationObserver(function (mutations, observer) {{\n",
              "        var display = window.getComputedStyle(gd).display;\n",
              "        if (!display || display === 'none') {{\n",
              "            console.log([gd, 'removed!']);\n",
              "            Plotly.purge(gd);\n",
              "            observer.disconnect();\n",
              "        }}\n",
              "}});\n",
              "\n",
              "// Listen for the removal of the full notebook cells\n",
              "var notebookContainer = gd.closest('#notebook-container');\n",
              "if (notebookContainer) {{\n",
              "    x.observe(notebookContainer, {childList: true});\n",
              "}}\n",
              "\n",
              "// Listen for the clearing of the current output cell\n",
              "var outputEl = gd.closest('.output');\n",
              "if (outputEl) {{\n",
              "    x.observe(outputEl, {childList: true});\n",
              "}}\n",
              "\n",
              "                        })                };                            </script>        </div>\n",
              "</body>\n",
              "</html>"
            ]
          },
          "metadata": {}
        }
      ]
    },
    {
      "cell_type": "code",
      "source": [
        "topic_model.visualize_barchart(top_n_topics=50)"
      ],
      "metadata": {
        "colab": {
          "base_uri": "https://localhost:8080/",
          "height": 1000
        },
        "id": "tL_4e0inWWZN",
        "outputId": "b705d8e8-489e-4a70-c5ab-a27e17a3723e"
      },
      "execution_count": null,
      "outputs": [
        {
          "output_type": "display_data",
          "data": {
            "text/html": [
              "<html>\n",
              "<head><meta charset=\"utf-8\" /></head>\n",
              "<body>\n",
              "    <div>            <script src=\"https://cdnjs.cloudflare.com/ajax/libs/mathjax/2.7.5/MathJax.js?config=TeX-AMS-MML_SVG\"></script><script type=\"text/javascript\">if (window.MathJax && window.MathJax.Hub && window.MathJax.Hub.Config) {window.MathJax.Hub.Config({SVG: {font: \"STIX-Web\"}});}</script>                <script type=\"text/javascript\">window.PlotlyConfig = {MathJaxConfig: 'local'};</script>\n",
              "        <script src=\"https://cdn.plot.ly/plotly-2.18.2.min.js\"></script>                <div id=\"6c824951-8923-44d5-844e-4efdbba933f7\" class=\"plotly-graph-div\" style=\"height:1250px; width:1000px;\"></div>            <script type=\"text/javascript\">                                    window.PLOTLYENV=window.PLOTLYENV || {};                                    if (document.getElementById(\"6c824951-8923-44d5-844e-4efdbba933f7\")) {                    Plotly.newPlot(                        \"6c824951-8923-44d5-844e-4efdbba933f7\",                        [{\"marker\":{\"color\":\"#D55E00\"},\"orientation\":\"h\",\"x\":[0.022091077546915545,0.02218738049448061,0.023028532015576877,0.02581455510115606,0.03517454452688443],\"y\":[\"\\u7406\\u5ff5  \",\"\\u5b66\\u4e60\\u578b  \",\"\\u5e73\\u53f0  \",\"\\u601d\\u60f3  \",\"\\u5efa\\u8bbe  \"],\"type\":\"bar\",\"xaxis\":\"x\",\"yaxis\":\"y\"},{\"marker\":{\"color\":\"#0072B2\"},\"orientation\":\"h\",\"x\":[0.048353779502681396,0.049048303988145685,0.051765896737038394,0.06132789308520982,0.10133158621872262],\"y\":[\"\\u5927\\u5b66  \",\"\\u5b66\\u751f  \",\"\\u9ad8\\u7b49\\u6559\\u80b2  \",\"\\u6210\\u4eba  \",\"\\u6559\\u5e08  \"],\"type\":\"bar\",\"xaxis\":\"x2\",\"yaxis\":\"y2\"},{\"marker\":{\"color\":\"#CC79A7\"},\"orientation\":\"h\",\"x\":[0.04674597867510261,0.05689774665008278,0.06578682590183381,0.07174416817258479,0.20954615736661855],\"y\":[\"\\u56fd\\u5bb6  \",\"\\u516c\\u6c11  \",\"\\u6743\\u5229  \",\"\\u6cd5\\u5f8b  \",\"\\u7acb\\u6cd5  \"],\"type\":\"bar\",\"xaxis\":\"x3\",\"yaxis\":\"y3\"},{\"marker\":{\"color\":\"#E69F00\"},\"orientation\":\"h\",\"x\":[0.04794865628575469,0.0506412797503196,0.06523712564949306,0.06555403210787365,0.06777177067956912],\"y\":[\"\\u4eba\\u7c7b  \",\"\\u8fc7\\u7a0b  \",\"\\u751f\\u547d  \",\"\\u5b66\\u6821  \",\"\\u751f\\u6d3b  \"],\"type\":\"bar\",\"xaxis\":\"x4\",\"yaxis\":\"y4\"},{\"marker\":{\"color\":\"#56B4E9\"},\"orientation\":\"h\",\"x\":[0.043448857928872986,0.0651156859027619,0.09545994867047972,0.1004198791681731,0.16106172358760593],\"y\":[\"\\u89c4\\u5212  \",\"\\u5c0f\\u5eb7\\u793e\\u4f1a  \",\"\\u5efa\\u8bbe  \",\"\\u5b66\\u4e60\\u578b  \",\"\\u57ce\\u5e02  \"],\"type\":\"bar\",\"xaxis\":\"x5\",\"yaxis\":\"y5\"},{\"marker\":{\"color\":\"#009E73\"},\"orientation\":\"h\",\"x\":[0.04555954071046303,0.06990714545892615,0.07201013435530841,0.07531154553383416,0.07590704566973044],\"y\":[\"\\u534f\\u4f1a  \",\"\\u4e0a\\u6d77  \",\"\\u8bba\\u575b  \",\"\\u6559\\u6388  \",\"\\u4f1a\\u8bae  \"],\"type\":\"bar\",\"xaxis\":\"x6\",\"yaxis\":\"y6\"},{\"marker\":{\"color\":\"#F0E442\"},\"orientation\":\"h\",\"x\":[0.041142346113493676,0.050412107844284904,0.053318730126070496,0.053586024947089424,0.2118235265943688],\"y\":[\"\\u4f20\\u64ad  \",\"\\u5206\\u6790  \",\"\\u6587\\u732e  \",\"\\u7406\\u8bba  \",\"\\u7814\\u7a76  \"],\"type\":\"bar\",\"xaxis\":\"x7\",\"yaxis\":\"y7\"},{\"marker\":{\"color\":\"#D55E00\"},\"orientation\":\"h\",\"x\":[0.03600498159139727,0.03649408678740535,0.04356384414033106,0.06438643420000764,0.37003504577931334],\"y\":[\"\\u54c1\\u724c  \",\"\\u5b66\\u4e60\\u578b  \",\"\\u5efa\\u8bbe  \",\"\\u5c45\\u6c11  \",\"\\u793e\\u533a  \"],\"type\":\"bar\",\"xaxis\":\"x8\",\"yaxis\":\"y8\"},{\"marker\":{\"color\":\"#0072B2\"},\"orientation\":\"h\",\"x\":[0.055476238512053196,0.06869539324134645,0.07314968244798592,0.1755665439140766,0.22189399855460862],\"y\":[\"\\u6807\\u51c6  \",\"\\u97e9\\u56fd  \",\"\\u5236\\u5ea6  \",\"\\u6846\\u67b6  \",\"\\u8d44\\u5386  \"],\"type\":\"bar\",\"xaxis\":\"x9\",\"yaxis\":\"y9\"},{\"marker\":{\"color\":\"#CC79A7\"},\"orientation\":\"h\",\"x\":[0.07536809324328143,0.07627324268348172,0.07655446826950879,0.12096915169850021,0.16048362820076986],\"y\":[\"\\u6717\\u683c  \",\"\\u4fdd\\u7f57  \",\"\\u601d\\u6f6e  \",\"\\u5e74\\u4ee3  \",\"\\u4e16\\u7eaa  \"],\"type\":\"bar\",\"xaxis\":\"x10\",\"yaxis\":\"y10\"},{\"marker\":{\"color\":\"#E69F00\"},\"orientation\":\"h\",\"x\":[0.032067673203337727,0.036061673478355136,0.04388573357432279,0.053017931612644786,0.3111403556429191],\"y\":[\"\\u9636\\u6bb5  \",\"\\u6a21\\u5f0f  \",\"\\u7406\\u5ff5  \",\"\\u57f9\\u8bad  \",\"\\u804c\\u4e1a  \"],\"type\":\"bar\",\"xaxis\":\"x11\",\"yaxis\":\"y11\"},{\"marker\":{\"color\":\"#56B4E9\"},\"orientation\":\"h\",\"x\":[0.06644053007278547,0.08568347001216388,0.08934911197461992,0.09735866498392959,0.49926174345993535],\"y\":[\"\\u4fe1\\u606f  \",\"\\u804c\\u80fd  \",\"\\u670d\\u52a1  \",\"\\u516c\\u5171  \",\"\\u56fe\\u4e66\\u9986  \"],\"type\":\"bar\",\"xaxis\":\"x12\",\"yaxis\":\"y12\"},{\"marker\":{\"color\":\"#009E73\"},\"orientation\":\"h\",\"x\":[0.0348372929043958,0.0449555895776457,0.053255926972903676,0.12975023724109022,0.3295154112981911],\"y\":[\"\\u6e90\\u6d41  \",\"\\u5de5\\u5177  \",\"\\u6210\\u5458\\u56fd  \",\"\\u6b27\\u76df  \",\"\\u653f\\u7b56  \"],\"type\":\"bar\",\"xaxis\":\"x13\",\"yaxis\":\"y13\"},{\"marker\":{\"color\":\"#F0E442\"},\"orientation\":\"h\",\"x\":[0.04341930801672138,0.05668011687970326,0.06653172153687634,0.08424530333465374,0.3922952190962052],\"y\":[\"\\u8bc4\\u4f30  \",\"\\u56e0\\u5b50  \",\"\\u7814\\u7a76  \",\"\\u6210\\u4eba  \",\"\\u80fd\\u529b  \"],\"type\":\"bar\",\"xaxis\":\"x14\",\"yaxis\":\"y14\"},{\"marker\":{\"color\":\"#D55E00\"},\"orientation\":\"h\",\"x\":[0.06314648066757124,0.06584972386531873,0.07099347924725825,0.38196288586412586,0.38523312056390974],\"y\":[\"\\u533a\\u57df\\u6027  \",\"\\u6210\\u679c  \",\"\\u5efa\\u8bbe  \",\"\\u94f6\\u884c  \",\"\\u5b66\\u5206  \"],\"type\":\"bar\",\"xaxis\":\"x15\",\"yaxis\":\"y15\"},{\"marker\":{\"color\":\"#0072B2\"},\"orientation\":\"h\",\"x\":[0.07928518012695505,0.09468781672705685,0.1170247180437761,0.23282722062746428,0.2900726774623085],\"y\":[\"\\u4eba\\u53e3\\u8001\\u9f84\\u5316  \",\"\\u751f\\u6d3b  \",\"\\u4e61\\u6751  \",\"\\u8001\\u5e74\\u4eba  \",\"\\u8001\\u5e74  \"],\"type\":\"bar\",\"xaxis\":\"x16\",\"yaxis\":\"y16\"},{\"marker\":{\"color\":\"#CC79A7\"},\"orientation\":\"h\",\"x\":[0.06564303731648119,0.06709957202159587,0.06821482139457583,0.07180902124059481,0.10707383278049316],\"y\":[\"\\u56db\\u4e2d\\u5168\\u4f1a  \",\"\\u5168\\u6c11  \",\"\\u5386\\u53f2\\u4f7f\\u547d  \",\"\\u76ee\\u6807  \",\"\\u73b0\\u4ee3\\u5316  \"],\"type\":\"bar\",\"xaxis\":\"x17\",\"yaxis\":\"y17\"},{\"marker\":{\"color\":\"#E69F00\"},\"orientation\":\"h\",\"x\":[0.053325262044491485,0.05334120194857131,0.05791661153889586,0.23360695755478655,0.6553508281952508],\"y\":[\"\\u6210\\u4eba\\u6559\\u80b2  \",\"\\u8bf8\\u5982  \",\"\\u804c\\u4e1a  \",\"\\u519c\\u6c11  \",\"\\u519c\\u6751  \"],\"type\":\"bar\",\"xaxis\":\"x18\",\"yaxis\":\"y18\"},{\"marker\":{\"color\":\"#56B4E9\"},\"orientation\":\"h\",\"x\":[0.05287585108496765,0.060500404160254824,0.07268657414721987,0.0930463071584101,0.39987093428753034],\"y\":[\"\\u91cd\\u6784  \",\"\\u653f\\u7b56  \",\"\\u793e\\u4f1a\\u6559\\u80b2  \",\"\\u798f\\u7949  \",\"\\u65e5\\u672c  \"],\"type\":\"bar\",\"xaxis\":\"x19\",\"yaxis\":\"y19\"}],                        {\"template\":{\"data\":{\"barpolar\":[{\"marker\":{\"line\":{\"color\":\"white\",\"width\":0.5},\"pattern\":{\"fillmode\":\"overlay\",\"size\":10,\"solidity\":0.2}},\"type\":\"barpolar\"}],\"bar\":[{\"error_x\":{\"color\":\"#2a3f5f\"},\"error_y\":{\"color\":\"#2a3f5f\"},\"marker\":{\"line\":{\"color\":\"white\",\"width\":0.5},\"pattern\":{\"fillmode\":\"overlay\",\"size\":10,\"solidity\":0.2}},\"type\":\"bar\"}],\"carpet\":[{\"aaxis\":{\"endlinecolor\":\"#2a3f5f\",\"gridcolor\":\"#C8D4E3\",\"linecolor\":\"#C8D4E3\",\"minorgridcolor\":\"#C8D4E3\",\"startlinecolor\":\"#2a3f5f\"},\"baxis\":{\"endlinecolor\":\"#2a3f5f\",\"gridcolor\":\"#C8D4E3\",\"linecolor\":\"#C8D4E3\",\"minorgridcolor\":\"#C8D4E3\",\"startlinecolor\":\"#2a3f5f\"},\"type\":\"carpet\"}],\"choropleth\":[{\"colorbar\":{\"outlinewidth\":0,\"ticks\":\"\"},\"type\":\"choropleth\"}],\"contourcarpet\":[{\"colorbar\":{\"outlinewidth\":0,\"ticks\":\"\"},\"type\":\"contourcarpet\"}],\"contour\":[{\"colorbar\":{\"outlinewidth\":0,\"ticks\":\"\"},\"colorscale\":[[0.0,\"#0d0887\"],[0.1111111111111111,\"#46039f\"],[0.2222222222222222,\"#7201a8\"],[0.3333333333333333,\"#9c179e\"],[0.4444444444444444,\"#bd3786\"],[0.5555555555555556,\"#d8576b\"],[0.6666666666666666,\"#ed7953\"],[0.7777777777777778,\"#fb9f3a\"],[0.8888888888888888,\"#fdca26\"],[1.0,\"#f0f921\"]],\"type\":\"contour\"}],\"heatmapgl\":[{\"colorbar\":{\"outlinewidth\":0,\"ticks\":\"\"},\"colorscale\":[[0.0,\"#0d0887\"],[0.1111111111111111,\"#46039f\"],[0.2222222222222222,\"#7201a8\"],[0.3333333333333333,\"#9c179e\"],[0.4444444444444444,\"#bd3786\"],[0.5555555555555556,\"#d8576b\"],[0.6666666666666666,\"#ed7953\"],[0.7777777777777778,\"#fb9f3a\"],[0.8888888888888888,\"#fdca26\"],[1.0,\"#f0f921\"]],\"type\":\"heatmapgl\"}],\"heatmap\":[{\"colorbar\":{\"outlinewidth\":0,\"ticks\":\"\"},\"colorscale\":[[0.0,\"#0d0887\"],[0.1111111111111111,\"#46039f\"],[0.2222222222222222,\"#7201a8\"],[0.3333333333333333,\"#9c179e\"],[0.4444444444444444,\"#bd3786\"],[0.5555555555555556,\"#d8576b\"],[0.6666666666666666,\"#ed7953\"],[0.7777777777777778,\"#fb9f3a\"],[0.8888888888888888,\"#fdca26\"],[1.0,\"#f0f921\"]],\"type\":\"heatmap\"}],\"histogram2dcontour\":[{\"colorbar\":{\"outlinewidth\":0,\"ticks\":\"\"},\"colorscale\":[[0.0,\"#0d0887\"],[0.1111111111111111,\"#46039f\"],[0.2222222222222222,\"#7201a8\"],[0.3333333333333333,\"#9c179e\"],[0.4444444444444444,\"#bd3786\"],[0.5555555555555556,\"#d8576b\"],[0.6666666666666666,\"#ed7953\"],[0.7777777777777778,\"#fb9f3a\"],[0.8888888888888888,\"#fdca26\"],[1.0,\"#f0f921\"]],\"type\":\"histogram2dcontour\"}],\"histogram2d\":[{\"colorbar\":{\"outlinewidth\":0,\"ticks\":\"\"},\"colorscale\":[[0.0,\"#0d0887\"],[0.1111111111111111,\"#46039f\"],[0.2222222222222222,\"#7201a8\"],[0.3333333333333333,\"#9c179e\"],[0.4444444444444444,\"#bd3786\"],[0.5555555555555556,\"#d8576b\"],[0.6666666666666666,\"#ed7953\"],[0.7777777777777778,\"#fb9f3a\"],[0.8888888888888888,\"#fdca26\"],[1.0,\"#f0f921\"]],\"type\":\"histogram2d\"}],\"histogram\":[{\"marker\":{\"pattern\":{\"fillmode\":\"overlay\",\"size\":10,\"solidity\":0.2}},\"type\":\"histogram\"}],\"mesh3d\":[{\"colorbar\":{\"outlinewidth\":0,\"ticks\":\"\"},\"type\":\"mesh3d\"}],\"parcoords\":[{\"line\":{\"colorbar\":{\"outlinewidth\":0,\"ticks\":\"\"}},\"type\":\"parcoords\"}],\"pie\":[{\"automargin\":true,\"type\":\"pie\"}],\"scatter3d\":[{\"line\":{\"colorbar\":{\"outlinewidth\":0,\"ticks\":\"\"}},\"marker\":{\"colorbar\":{\"outlinewidth\":0,\"ticks\":\"\"}},\"type\":\"scatter3d\"}],\"scattercarpet\":[{\"marker\":{\"colorbar\":{\"outlinewidth\":0,\"ticks\":\"\"}},\"type\":\"scattercarpet\"}],\"scattergeo\":[{\"marker\":{\"colorbar\":{\"outlinewidth\":0,\"ticks\":\"\"}},\"type\":\"scattergeo\"}],\"scattergl\":[{\"marker\":{\"colorbar\":{\"outlinewidth\":0,\"ticks\":\"\"}},\"type\":\"scattergl\"}],\"scattermapbox\":[{\"marker\":{\"colorbar\":{\"outlinewidth\":0,\"ticks\":\"\"}},\"type\":\"scattermapbox\"}],\"scatterpolargl\":[{\"marker\":{\"colorbar\":{\"outlinewidth\":0,\"ticks\":\"\"}},\"type\":\"scatterpolargl\"}],\"scatterpolar\":[{\"marker\":{\"colorbar\":{\"outlinewidth\":0,\"ticks\":\"\"}},\"type\":\"scatterpolar\"}],\"scatter\":[{\"fillpattern\":{\"fillmode\":\"overlay\",\"size\":10,\"solidity\":0.2},\"type\":\"scatter\"}],\"scatterternary\":[{\"marker\":{\"colorbar\":{\"outlinewidth\":0,\"ticks\":\"\"}},\"type\":\"scatterternary\"}],\"surface\":[{\"colorbar\":{\"outlinewidth\":0,\"ticks\":\"\"},\"colorscale\":[[0.0,\"#0d0887\"],[0.1111111111111111,\"#46039f\"],[0.2222222222222222,\"#7201a8\"],[0.3333333333333333,\"#9c179e\"],[0.4444444444444444,\"#bd3786\"],[0.5555555555555556,\"#d8576b\"],[0.6666666666666666,\"#ed7953\"],[0.7777777777777778,\"#fb9f3a\"],[0.8888888888888888,\"#fdca26\"],[1.0,\"#f0f921\"]],\"type\":\"surface\"}],\"table\":[{\"cells\":{\"fill\":{\"color\":\"#EBF0F8\"},\"line\":{\"color\":\"white\"}},\"header\":{\"fill\":{\"color\":\"#C8D4E3\"},\"line\":{\"color\":\"white\"}},\"type\":\"table\"}]},\"layout\":{\"annotationdefaults\":{\"arrowcolor\":\"#2a3f5f\",\"arrowhead\":0,\"arrowwidth\":1},\"autotypenumbers\":\"strict\",\"coloraxis\":{\"colorbar\":{\"outlinewidth\":0,\"ticks\":\"\"}},\"colorscale\":{\"diverging\":[[0,\"#8e0152\"],[0.1,\"#c51b7d\"],[0.2,\"#de77ae\"],[0.3,\"#f1b6da\"],[0.4,\"#fde0ef\"],[0.5,\"#f7f7f7\"],[0.6,\"#e6f5d0\"],[0.7,\"#b8e186\"],[0.8,\"#7fbc41\"],[0.9,\"#4d9221\"],[1,\"#276419\"]],\"sequential\":[[0.0,\"#0d0887\"],[0.1111111111111111,\"#46039f\"],[0.2222222222222222,\"#7201a8\"],[0.3333333333333333,\"#9c179e\"],[0.4444444444444444,\"#bd3786\"],[0.5555555555555556,\"#d8576b\"],[0.6666666666666666,\"#ed7953\"],[0.7777777777777778,\"#fb9f3a\"],[0.8888888888888888,\"#fdca26\"],[1.0,\"#f0f921\"]],\"sequentialminus\":[[0.0,\"#0d0887\"],[0.1111111111111111,\"#46039f\"],[0.2222222222222222,\"#7201a8\"],[0.3333333333333333,\"#9c179e\"],[0.4444444444444444,\"#bd3786\"],[0.5555555555555556,\"#d8576b\"],[0.6666666666666666,\"#ed7953\"],[0.7777777777777778,\"#fb9f3a\"],[0.8888888888888888,\"#fdca26\"],[1.0,\"#f0f921\"]]},\"colorway\":[\"#636efa\",\"#EF553B\",\"#00cc96\",\"#ab63fa\",\"#FFA15A\",\"#19d3f3\",\"#FF6692\",\"#B6E880\",\"#FF97FF\",\"#FECB52\"],\"font\":{\"color\":\"#2a3f5f\"},\"geo\":{\"bgcolor\":\"white\",\"lakecolor\":\"white\",\"landcolor\":\"white\",\"showlakes\":true,\"showland\":true,\"subunitcolor\":\"#C8D4E3\"},\"hoverlabel\":{\"align\":\"left\"},\"hovermode\":\"closest\",\"mapbox\":{\"style\":\"light\"},\"paper_bgcolor\":\"white\",\"plot_bgcolor\":\"white\",\"polar\":{\"angularaxis\":{\"gridcolor\":\"#EBF0F8\",\"linecolor\":\"#EBF0F8\",\"ticks\":\"\"},\"bgcolor\":\"white\",\"radialaxis\":{\"gridcolor\":\"#EBF0F8\",\"linecolor\":\"#EBF0F8\",\"ticks\":\"\"}},\"scene\":{\"xaxis\":{\"backgroundcolor\":\"white\",\"gridcolor\":\"#DFE8F3\",\"gridwidth\":2,\"linecolor\":\"#EBF0F8\",\"showbackground\":true,\"ticks\":\"\",\"zerolinecolor\":\"#EBF0F8\"},\"yaxis\":{\"backgroundcolor\":\"white\",\"gridcolor\":\"#DFE8F3\",\"gridwidth\":2,\"linecolor\":\"#EBF0F8\",\"showbackground\":true,\"ticks\":\"\",\"zerolinecolor\":\"#EBF0F8\"},\"zaxis\":{\"backgroundcolor\":\"white\",\"gridcolor\":\"#DFE8F3\",\"gridwidth\":2,\"linecolor\":\"#EBF0F8\",\"showbackground\":true,\"ticks\":\"\",\"zerolinecolor\":\"#EBF0F8\"}},\"shapedefaults\":{\"line\":{\"color\":\"#2a3f5f\"}},\"ternary\":{\"aaxis\":{\"gridcolor\":\"#DFE8F3\",\"linecolor\":\"#A2B1C6\",\"ticks\":\"\"},\"baxis\":{\"gridcolor\":\"#DFE8F3\",\"linecolor\":\"#A2B1C6\",\"ticks\":\"\"},\"bgcolor\":\"white\",\"caxis\":{\"gridcolor\":\"#DFE8F3\",\"linecolor\":\"#A2B1C6\",\"ticks\":\"\"}},\"title\":{\"x\":0.05},\"xaxis\":{\"automargin\":true,\"gridcolor\":\"#EBF0F8\",\"linecolor\":\"#EBF0F8\",\"ticks\":\"\",\"title\":{\"standoff\":15},\"zerolinecolor\":\"#EBF0F8\",\"zerolinewidth\":2},\"yaxis\":{\"automargin\":true,\"gridcolor\":\"#EBF0F8\",\"linecolor\":\"#EBF0F8\",\"ticks\":\"\",\"title\":{\"standoff\":15},\"zerolinecolor\":\"#EBF0F8\",\"zerolinewidth\":2}}},\"xaxis\":{\"anchor\":\"y\",\"domain\":[0.0,0.175],\"showgrid\":true},\"yaxis\":{\"anchor\":\"x\",\"domain\":[0.8639999999999999,0.9999999999999999],\"showgrid\":true},\"xaxis2\":{\"anchor\":\"y2\",\"domain\":[0.275,0.45],\"showgrid\":true},\"yaxis2\":{\"anchor\":\"x2\",\"domain\":[0.8639999999999999,0.9999999999999999],\"showgrid\":true},\"xaxis3\":{\"anchor\":\"y3\",\"domain\":[0.55,0.7250000000000001],\"showgrid\":true},\"yaxis3\":{\"anchor\":\"x3\",\"domain\":[0.8639999999999999,0.9999999999999999],\"showgrid\":true},\"xaxis4\":{\"anchor\":\"y4\",\"domain\":[0.825,1.0],\"showgrid\":true},\"yaxis4\":{\"anchor\":\"x4\",\"domain\":[0.8639999999999999,0.9999999999999999],\"showgrid\":true},\"xaxis5\":{\"anchor\":\"y5\",\"domain\":[0.0,0.175],\"showgrid\":true},\"yaxis5\":{\"anchor\":\"x5\",\"domain\":[0.6479999999999999,0.7839999999999999],\"showgrid\":true},\"xaxis6\":{\"anchor\":\"y6\",\"domain\":[0.275,0.45],\"showgrid\":true},\"yaxis6\":{\"anchor\":\"x6\",\"domain\":[0.6479999999999999,0.7839999999999999],\"showgrid\":true},\"xaxis7\":{\"anchor\":\"y7\",\"domain\":[0.55,0.7250000000000001],\"showgrid\":true},\"yaxis7\":{\"anchor\":\"x7\",\"domain\":[0.6479999999999999,0.7839999999999999],\"showgrid\":true},\"xaxis8\":{\"anchor\":\"y8\",\"domain\":[0.825,1.0],\"showgrid\":true},\"yaxis8\":{\"anchor\":\"x8\",\"domain\":[0.6479999999999999,0.7839999999999999],\"showgrid\":true},\"xaxis9\":{\"anchor\":\"y9\",\"domain\":[0.0,0.175],\"showgrid\":true},\"yaxis9\":{\"anchor\":\"x9\",\"domain\":[0.43199999999999994,0.568],\"showgrid\":true},\"xaxis10\":{\"anchor\":\"y10\",\"domain\":[0.275,0.45],\"showgrid\":true},\"yaxis10\":{\"anchor\":\"x10\",\"domain\":[0.43199999999999994,0.568],\"showgrid\":true},\"xaxis11\":{\"anchor\":\"y11\",\"domain\":[0.55,0.7250000000000001],\"showgrid\":true},\"yaxis11\":{\"anchor\":\"x11\",\"domain\":[0.43199999999999994,0.568],\"showgrid\":true},\"xaxis12\":{\"anchor\":\"y12\",\"domain\":[0.825,1.0],\"showgrid\":true},\"yaxis12\":{\"anchor\":\"x12\",\"domain\":[0.43199999999999994,0.568],\"showgrid\":true},\"xaxis13\":{\"anchor\":\"y13\",\"domain\":[0.0,0.175],\"showgrid\":true},\"yaxis13\":{\"anchor\":\"x13\",\"domain\":[0.21599999999999997,0.352],\"showgrid\":true},\"xaxis14\":{\"anchor\":\"y14\",\"domain\":[0.275,0.45],\"showgrid\":true},\"yaxis14\":{\"anchor\":\"x14\",\"domain\":[0.21599999999999997,0.352],\"showgrid\":true},\"xaxis15\":{\"anchor\":\"y15\",\"domain\":[0.55,0.7250000000000001],\"showgrid\":true},\"yaxis15\":{\"anchor\":\"x15\",\"domain\":[0.21599999999999997,0.352],\"showgrid\":true},\"xaxis16\":{\"anchor\":\"y16\",\"domain\":[0.825,1.0],\"showgrid\":true},\"yaxis16\":{\"anchor\":\"x16\",\"domain\":[0.21599999999999997,0.352],\"showgrid\":true},\"xaxis17\":{\"anchor\":\"y17\",\"domain\":[0.0,0.175],\"showgrid\":true},\"yaxis17\":{\"anchor\":\"x17\",\"domain\":[0.0,0.13599999999999998],\"showgrid\":true},\"xaxis18\":{\"anchor\":\"y18\",\"domain\":[0.275,0.45],\"showgrid\":true},\"yaxis18\":{\"anchor\":\"x18\",\"domain\":[0.0,0.13599999999999998],\"showgrid\":true},\"xaxis19\":{\"anchor\":\"y19\",\"domain\":[0.55,0.7250000000000001],\"showgrid\":true},\"yaxis19\":{\"anchor\":\"x19\",\"domain\":[0.0,0.13599999999999998],\"showgrid\":true},\"xaxis20\":{\"anchor\":\"y20\",\"domain\":[0.825,1.0],\"showgrid\":true},\"yaxis20\":{\"anchor\":\"x20\",\"domain\":[0.0,0.13599999999999998],\"showgrid\":true},\"annotations\":[{\"font\":{\"size\":16},\"showarrow\":false,\"text\":\"Topic 0\",\"x\":0.0875,\"xanchor\":\"center\",\"xref\":\"paper\",\"y\":0.9999999999999999,\"yanchor\":\"bottom\",\"yref\":\"paper\"},{\"font\":{\"size\":16},\"showarrow\":false,\"text\":\"Topic 1\",\"x\":0.36250000000000004,\"xanchor\":\"center\",\"xref\":\"paper\",\"y\":0.9999999999999999,\"yanchor\":\"bottom\",\"yref\":\"paper\"},{\"font\":{\"size\":16},\"showarrow\":false,\"text\":\"Topic 2\",\"x\":0.6375000000000001,\"xanchor\":\"center\",\"xref\":\"paper\",\"y\":0.9999999999999999,\"yanchor\":\"bottom\",\"yref\":\"paper\"},{\"font\":{\"size\":16},\"showarrow\":false,\"text\":\"Topic 3\",\"x\":0.9125,\"xanchor\":\"center\",\"xref\":\"paper\",\"y\":0.9999999999999999,\"yanchor\":\"bottom\",\"yref\":\"paper\"},{\"font\":{\"size\":16},\"showarrow\":false,\"text\":\"Topic 4\",\"x\":0.0875,\"xanchor\":\"center\",\"xref\":\"paper\",\"y\":0.7839999999999999,\"yanchor\":\"bottom\",\"yref\":\"paper\"},{\"font\":{\"size\":16},\"showarrow\":false,\"text\":\"Topic 5\",\"x\":0.36250000000000004,\"xanchor\":\"center\",\"xref\":\"paper\",\"y\":0.7839999999999999,\"yanchor\":\"bottom\",\"yref\":\"paper\"},{\"font\":{\"size\":16},\"showarrow\":false,\"text\":\"Topic 6\",\"x\":0.6375000000000001,\"xanchor\":\"center\",\"xref\":\"paper\",\"y\":0.7839999999999999,\"yanchor\":\"bottom\",\"yref\":\"paper\"},{\"font\":{\"size\":16},\"showarrow\":false,\"text\":\"Topic 7\",\"x\":0.9125,\"xanchor\":\"center\",\"xref\":\"paper\",\"y\":0.7839999999999999,\"yanchor\":\"bottom\",\"yref\":\"paper\"},{\"font\":{\"size\":16},\"showarrow\":false,\"text\":\"Topic 8\",\"x\":0.0875,\"xanchor\":\"center\",\"xref\":\"paper\",\"y\":0.568,\"yanchor\":\"bottom\",\"yref\":\"paper\"},{\"font\":{\"size\":16},\"showarrow\":false,\"text\":\"Topic 9\",\"x\":0.36250000000000004,\"xanchor\":\"center\",\"xref\":\"paper\",\"y\":0.568,\"yanchor\":\"bottom\",\"yref\":\"paper\"},{\"font\":{\"size\":16},\"showarrow\":false,\"text\":\"Topic 10\",\"x\":0.6375000000000001,\"xanchor\":\"center\",\"xref\":\"paper\",\"y\":0.568,\"yanchor\":\"bottom\",\"yref\":\"paper\"},{\"font\":{\"size\":16},\"showarrow\":false,\"text\":\"Topic 11\",\"x\":0.9125,\"xanchor\":\"center\",\"xref\":\"paper\",\"y\":0.568,\"yanchor\":\"bottom\",\"yref\":\"paper\"},{\"font\":{\"size\":16},\"showarrow\":false,\"text\":\"Topic 12\",\"x\":0.0875,\"xanchor\":\"center\",\"xref\":\"paper\",\"y\":0.352,\"yanchor\":\"bottom\",\"yref\":\"paper\"},{\"font\":{\"size\":16},\"showarrow\":false,\"text\":\"Topic 13\",\"x\":0.36250000000000004,\"xanchor\":\"center\",\"xref\":\"paper\",\"y\":0.352,\"yanchor\":\"bottom\",\"yref\":\"paper\"},{\"font\":{\"size\":16},\"showarrow\":false,\"text\":\"Topic 14\",\"x\":0.6375000000000001,\"xanchor\":\"center\",\"xref\":\"paper\",\"y\":0.352,\"yanchor\":\"bottom\",\"yref\":\"paper\"},{\"font\":{\"size\":16},\"showarrow\":false,\"text\":\"Topic 15\",\"x\":0.9125,\"xanchor\":\"center\",\"xref\":\"paper\",\"y\":0.352,\"yanchor\":\"bottom\",\"yref\":\"paper\"},{\"font\":{\"size\":16},\"showarrow\":false,\"text\":\"Topic 16\",\"x\":0.0875,\"xanchor\":\"center\",\"xref\":\"paper\",\"y\":0.13599999999999998,\"yanchor\":\"bottom\",\"yref\":\"paper\"},{\"font\":{\"size\":16},\"showarrow\":false,\"text\":\"Topic 17\",\"x\":0.36250000000000004,\"xanchor\":\"center\",\"xref\":\"paper\",\"y\":0.13599999999999998,\"yanchor\":\"bottom\",\"yref\":\"paper\"},{\"font\":{\"size\":16},\"showarrow\":false,\"text\":\"Topic 18\",\"x\":0.6375000000000001,\"xanchor\":\"center\",\"xref\":\"paper\",\"y\":0.13599999999999998,\"yanchor\":\"bottom\",\"yref\":\"paper\"}],\"title\":{\"font\":{\"size\":22,\"color\":\"Black\"},\"text\":\"Topic Word Scores\",\"x\":0.5,\"xanchor\":\"center\",\"yanchor\":\"top\"},\"hoverlabel\":{\"font\":{\"size\":16,\"family\":\"Rockwell\"},\"bgcolor\":\"white\"},\"showlegend\":false,\"width\":1000,\"height\":1250},                        {\"responsive\": true}                    ).then(function(){\n",
              "                            \n",
              "var gd = document.getElementById('6c824951-8923-44d5-844e-4efdbba933f7');\n",
              "var x = new MutationObserver(function (mutations, observer) {{\n",
              "        var display = window.getComputedStyle(gd).display;\n",
              "        if (!display || display === 'none') {{\n",
              "            console.log([gd, 'removed!']);\n",
              "            Plotly.purge(gd);\n",
              "            observer.disconnect();\n",
              "        }}\n",
              "}});\n",
              "\n",
              "// Listen for the removal of the full notebook cells\n",
              "var notebookContainer = gd.closest('#notebook-container');\n",
              "if (notebookContainer) {{\n",
              "    x.observe(notebookContainer, {childList: true});\n",
              "}}\n",
              "\n",
              "// Listen for the clearing of the current output cell\n",
              "var outputEl = gd.closest('.output');\n",
              "if (outputEl) {{\n",
              "    x.observe(outputEl, {childList: true});\n",
              "}}\n",
              "\n",
              "                        })                };                            </script>        </div>\n",
              "</body>\n",
              "</html>"
            ]
          },
          "metadata": {}
        }
      ]
    },
    {
      "cell_type": "code",
      "source": [
        "for i in range(19):\n",
        "  print(i)\n",
        "  print(topic_model.get_topic(i))"
      ],
      "metadata": {
        "colab": {
          "base_uri": "https://localhost:8080/"
        },
        "id": "3VRcTlllWX1B",
        "outputId": "f099c88e-5a48-4d21-c458-bdf45a323f38"
      },
      "execution_count": null,
      "outputs": [
        {
          "output_type": "stream",
          "name": "stdout",
          "text": [
            "0\n",
            "[('建设', 0.03517454452688443), ('思想', 0.02581455510115606), ('平台', 0.023028532015576877), ('学习型', 0.02218738049448061), ('理念', 0.022091077546915545), ('技术', 0.021833099623763123), ('服务', 0.021501363419790823), ('时代', 0.02141960524252338), ('全民', 0.020908407342009567), ('网络', 0.020838546620999727)]\n",
            "1\n",
            "[('教师', 0.10133158621872262), ('成人', 0.06132789308520982), ('高等教育', 0.051765896737038394), ('学生', 0.049048303988145685), ('大学', 0.048353779502681396), ('课程', 0.0391012284090615), ('高校', 0.03848669132719175), ('高职', 0.034848775268917), ('自学', 0.033241358540455845), ('考试', 0.03115453924474094)]\n",
            "2\n",
            "[('立法', 0.20954615736661855), ('法律', 0.07174416817258479), ('权利', 0.06578682590183381), ('公民', 0.05689774665008278), ('国家', 0.04674597867510261), ('地方', 0.046613440059346326), ('层面', 0.03597989218308507), ('法规', 0.032101830113486086), ('政策', 0.03150516714476449), ('条例', 0.030139738048802725)]\n",
            "3\n",
            "[('生活', 0.06777177067956912), ('学校', 0.06555403210787365), ('生命', 0.06523712564949306), ('过程', 0.0506412797503196), ('人类', 0.04794865628575469), ('活动', 0.04673236962093874), ('学会', 0.03319833440797611), ('思想', 0.03288667217341776), ('思潮', 0.02743816097924617), ('可持续性', 0.027141878401136504)]\n",
            "4\n",
            "[('城市', 0.16106172358760593), ('学习型', 0.1004198791681731), ('建设', 0.09545994867047972), ('小康社会', 0.0651156859027619), ('规划', 0.043448857928872986), ('改革', 0.04263759884575386), ('中长期', 0.04013732319825359), ('纲要', 0.03800973340686276), ('全民', 0.036302717074379424), ('十六大', 0.03377072137624653)]\n",
            "5\n",
            "[('会议', 0.07590704566973044), ('教授', 0.07531154553383416), ('论坛', 0.07201013435530841), ('上海', 0.06990714545892615), ('协会', 0.04555954071046303), ('学院', 0.04485416335029527), ('专家', 0.04298359505577096), ('国际', 0.04125063910747933), ('教育部', 0.03981153272802728), ('成人教育', 0.035112944543960335)]\n",
            "6\n",
            "[('研究', 0.2118235265943688), ('理论', 0.053586024947089424), ('文献', 0.053318730126070496), ('分析', 0.050412107844284904), ('传播', 0.041142346113493676), ('领域', 0.03664525587618477), ('方法', 0.03304028058123595), ('远程教育', 0.032681348182446196), ('研究成果', 0.03223460952601505), ('现状', 0.03208344515341389)]\n",
            "7\n",
            "[('社区', 0.37003504577931334), ('居民', 0.06438643420000764), ('建设', 0.04356384414033106), ('学习型', 0.03649408678740535), ('品牌', 0.03600498159139727), ('资源', 0.027670161812950223), ('学院', 0.025782052465586465), ('学校', 0.025030742679750213), ('活动', 0.023617054177102265), ('校区', 0.023266469742927096)]\n",
            "8\n",
            "[('资历', 0.22189399855460862), ('框架', 0.1755665439140766), ('制度', 0.07314968244798592), ('韩国', 0.06869539324134645), ('标准', 0.055476238512053196), ('学分', 0.050666577793084144), ('质量保证', 0.05010733635777399), ('国家', 0.04057402227157859), ('立交桥', 0.038927637124012704), ('资格', 0.03758407828117234)]\n",
            "9\n",
            "[('世纪', 0.16048362820076986), ('年代', 0.12096915169850021), ('思潮', 0.07655446826950879), ('保罗', 0.07627324268348172), ('朗格', 0.07536809324328143), ('国际', 0.06382014861915347), ('联合国教科文组织', 0.06317321514803875), ('法国', 0.05120044857576653), ('教育家', 0.048060123694156416), ('世界', 0.04446816403793659)]\n",
            "10\n",
            "[('职业', 0.3111403556429191), ('培训', 0.053017931612644786), ('理念', 0.04388573357432279), ('模式', 0.036061673478355136), ('阶段', 0.032067673203337727), ('人才', 0.03024944443088048), ('高技能', 0.028729782951291187), ('高职', 0.028572409225630063), ('职业规划', 0.025873804259573016), ('办学', 0.025313149653057972)]\n",
            "11\n",
            "[('图书馆', 0.49926174345993535), ('公共', 0.09735866498392959), ('服务', 0.08934911197461992), ('职能', 0.08568347001216388), ('信息', 0.06644053007278547), ('读者', 0.0641500407472406), ('高校', 0.06244969206584778), ('场所', 0.04540917918996645), ('图书', 0.042671648892025654), ('本文', 0.03926145478376147)]\n",
            "12\n",
            "[('政策', 0.3295154112981911), ('欧盟', 0.12975023724109022), ('成员国', 0.053255926972903676), ('工具', 0.0449555895776457), ('源流', 0.0348372929043958), ('变迁', 0.0348372929043958), ('国际劳工组织', 0.03188254242183581), ('历程', 0.030559075043256882), ('战略', 0.02922788271961307), ('成效', 0.02910199148532203)]\n",
            "13\n",
            "[('能力', 0.3922952190962052), ('成人', 0.08424530333465374), ('研究', 0.06653172153687634), ('因子', 0.05668011687970326), ('评估', 0.04341930801672138), ('自我', 0.03504765521090062), ('学习者', 0.032601042659981025), ('调查', 0.03229565194014439), ('兴趣', 0.03181782583066462), ('关系', 0.031586149255042745)]\n",
            "14\n",
            "[('学分', 0.38523312056390974), ('银行', 0.38196288586412586), ('建设', 0.07099347924725825), ('成果', 0.06584972386531873), ('区域性', 0.06314648066757124), ('研究', 0.04766374113227781), ('制度', 0.04268916834122732), ('上海市', 0.037208208160045345), ('标准', 0.0370002111603827), ('框架', 0.029273790778497292)]\n",
            "15\n",
            "[('老年', 0.2900726774623085), ('老年人', 0.23282722062746428), ('乡村', 0.1170247180437761), ('生活', 0.09468781672705685), ('人口老龄化', 0.07928518012695505), ('老龄化', 0.0759102778174838), ('学习者', 0.07543420604612457), ('社区', 0.07309102268900179), ('老龄', 0.07282375417653374), ('人群', 0.06795872582310433)]\n",
            "16\n",
            "[('现代化', 0.10707383278049316), ('目标', 0.07180902124059481), ('历史使命', 0.06821482139457583), ('全民', 0.06709957202159587), ('四中全会', 0.06564303731648119), ('服务', 0.06520419298725876), ('新格局', 0.055227385477630175), ('时代', 0.05394462431241176), ('编辑', 0.047657383801665336), ('视域', 0.047657383801665336)]\n",
            "17\n",
            "[('农村', 0.6553508281952508), ('农民', 0.23360695755478655), ('职业', 0.05791661153889586), ('诸如', 0.05334120194857131), ('成人教育', 0.053325262044491485), ('小康社会', 0.04786555345780472), ('对策', 0.046922666448135995), ('农业', 0.04439556548840238), ('建设', 0.04234466609342524), ('实用技术', 0.04186678685384255)]\n",
            "18\n",
            "[('日本', 0.39987093428753034), ('福祉', 0.0930463071584101), ('社会教育', 0.07268657414721987), ('政策', 0.060500404160254824), ('重构', 0.05287585108496765), ('教授', 0.05115629048856932), ('立法', 0.050478796317439505), ('牧野', 0.04789141698060161), ('战后', 0.04652315357920505), ('参考价值', 0.04536670040099569)]\n"
          ]
        }
      ]
    },
    {
      "cell_type": "code",
      "source": [
        "# similarity heatmap\n",
        "topic_similar_heatmap = topic_model.visualize_heatmap(n_clusters=18)\n",
        "topic_similar_heatmap.write_html('topic_similar_heatmap.html')\n",
        "topic_similar_heatmap"
      ],
      "metadata": {
        "colab": {
          "base_uri": "https://localhost:8080/",
          "height": 817
        },
        "id": "0MvehGa2XpNT",
        "outputId": "112b0217-4caf-4be0-fb85-42bcb7eab463"
      },
      "execution_count": null,
      "outputs": [
        {
          "output_type": "display_data",
          "data": {
            "text/html": [
              "<html>\n",
              "<head><meta charset=\"utf-8\" /></head>\n",
              "<body>\n",
              "    <div>            <script src=\"https://cdnjs.cloudflare.com/ajax/libs/mathjax/2.7.5/MathJax.js?config=TeX-AMS-MML_SVG\"></script><script type=\"text/javascript\">if (window.MathJax && window.MathJax.Hub && window.MathJax.Hub.Config) {window.MathJax.Hub.Config({SVG: {font: \"STIX-Web\"}});}</script>                <script type=\"text/javascript\">window.PlotlyConfig = {MathJaxConfig: 'local'};</script>\n",
              "        <script src=\"https://cdn.plot.ly/plotly-2.18.2.min.js\"></script>                <div id=\"d6bd1f89-f690-4b0c-af27-0f0c61a37066\" class=\"plotly-graph-div\" style=\"height:800px; width:800px;\"></div>            <script type=\"text/javascript\">                                    window.PLOTLYENV=window.PLOTLYENV || {};                                    if (document.getElementById(\"d6bd1f89-f690-4b0c-af27-0f0c61a37066\")) {                    Plotly.newPlot(                        \"d6bd1f89-f690-4b0c-af27-0f0c61a37066\",                        [{\"coloraxis\":\"coloraxis\",\"name\":\"0\",\"x\":[\"0_\\u5efa\\u8bbe_\\u601d\\u60f3_\\u5e73\\u53f0\",\"1_\\u6559\\u5e08_\\u6210\\u4eba_\\u9ad8\\u7b49\\u6559\\u80b2\",\"2_\\u7acb\\u6cd5_\\u6cd5\\u5f8b_\\u6743\\u5229\",\"8_\\u8d44\\u5386_\\u6846\\u67b6_\\u5236\\u5ea6\",\"3_\\u751f\\u6d3b_\\u5b66\\u6821_\\u751f\\u547d\",\"4_\\u57ce\\u5e02_\\u5b66\\u4e60\\u578b_\\u5efa\\u8bbe\",\"5_\\u4f1a\\u8bae_\\u6559\\u6388_\\u8bba\\u575b\",\"6_\\u7814\\u7a76_\\u7406\\u8bba_\\u6587\\u732e\",\"7_\\u793e\\u533a_\\u5c45\\u6c11_\\u5efa\\u8bbe\",\"9_\\u4e16\\u7eaa_\\u5e74\\u4ee3_\\u601d\\u6f6e\",\"10_\\u804c\\u4e1a_\\u57f9\\u8bad_\\u7406\\u5ff5\",\"11_\\u56fe\\u4e66\\u9986_\\u516c\\u5171_\\u670d\\u52a1\",\"12_\\u653f\\u7b56_\\u6b27\\u76df_\\u6210\\u5458\\u56fd\",\"13_\\u80fd\\u529b_\\u6210\\u4eba_\\u7814\\u7a76\",\"14_\\u5b66\\u5206_\\u94f6\\u884c_\\u5efa\\u8bbe\",\"15_\\u8001\\u5e74_\\u8001\\u5e74\\u4eba_\\u4e61\\u6751\",\"16_\\u73b0\\u4ee3\\u5316_\\u76ee\\u6807_\\u5386\\u53f2\\u4f7f\\u547d\",\"17_\\u519c\\u6751_\\u519c\\u6c11_\\u804c\\u4e1a\",\"18_\\u65e5\\u672c_\\u798f\\u7949_\\u793e\\u4f1a\\u6559\\u80b2\"],\"y\":[\"0_\\u5efa\\u8bbe_\\u601d\\u60f3_\\u5e73\\u53f0\",\"1_\\u6559\\u5e08_\\u6210\\u4eba_\\u9ad8\\u7b49\\u6559\\u80b2\",\"2_\\u7acb\\u6cd5_\\u6cd5\\u5f8b_\\u6743\\u5229\",\"8_\\u8d44\\u5386_\\u6846\\u67b6_\\u5236\\u5ea6\",\"3_\\u751f\\u6d3b_\\u5b66\\u6821_\\u751f\\u547d\",\"4_\\u57ce\\u5e02_\\u5b66\\u4e60\\u578b_\\u5efa\\u8bbe\",\"5_\\u4f1a\\u8bae_\\u6559\\u6388_\\u8bba\\u575b\",\"6_\\u7814\\u7a76_\\u7406\\u8bba_\\u6587\\u732e\",\"7_\\u793e\\u533a_\\u5c45\\u6c11_\\u5efa\\u8bbe\",\"9_\\u4e16\\u7eaa_\\u5e74\\u4ee3_\\u601d\\u6f6e\",\"10_\\u804c\\u4e1a_\\u57f9\\u8bad_\\u7406\\u5ff5\",\"11_\\u56fe\\u4e66\\u9986_\\u516c\\u5171_\\u670d\\u52a1\",\"12_\\u653f\\u7b56_\\u6b27\\u76df_\\u6210\\u5458\\u56fd\",\"13_\\u80fd\\u529b_\\u6210\\u4eba_\\u7814\\u7a76\",\"14_\\u5b66\\u5206_\\u94f6\\u884c_\\u5efa\\u8bbe\",\"15_\\u8001\\u5e74_\\u8001\\u5e74\\u4eba_\\u4e61\\u6751\",\"16_\\u73b0\\u4ee3\\u5316_\\u76ee\\u6807_\\u5386\\u53f2\\u4f7f\\u547d\",\"17_\\u519c\\u6751_\\u519c\\u6c11_\\u804c\\u4e1a\",\"18_\\u65e5\\u672c_\\u798f\\u7949_\\u793e\\u4f1a\\u6559\\u80b2\"],\"z\":[[0.9999999999999999,0.9413423597478663,0.9302579075902146,0.9516493386430026,0.8632652528176233,0.9427443100788211,0.8597866991042351,0.9207673224573752,0.8628305997622432,0.9078215692156396,0.9055303116502682,0.8832623441162888,0.9168449472814179,0.9153652094933804,0.8959289448437062,0.9047869813428289,0.8854362025911932,0.8442669402143769,0.8829167153042576],[0.9413423597478663,0.9999999999999994,0.8776734529817487,0.9247475558385573,0.8307711680697598,0.9068634769682573,0.8742600870226984,0.8731845813159985,0.8319077124083019,0.8485462500723269,0.9063083481610428,0.8822687704020371,0.8536182096963427,0.8987117009292593,0.8882943699547783,0.8809389239385222,0.8302289165442452,0.8243450982925962,0.8373734773497665],[0.9302579075902146,0.8776734529817487,1.0000000000000004,0.9325646944293717,0.806325363738676,0.9088871339756855,0.8341330271419121,0.8652650128607107,0.7979194653296573,0.849102420246119,0.84192280934985,0.822738727601321,0.916178056124404,0.8355608186830263,0.8660944526391772,0.8432850761675879,0.8163669507180387,0.8121228885008165,0.8621878038595402],[0.9516493386430026,0.9247475558385573,0.9325646944293717,1.0,0.8083809226825025,0.9161793848350434,0.867827540409724,0.8790539898661778,0.817800256004249,0.8721727379487391,0.8884961382677579,0.8397043221978384,0.90688008938292,0.8695057404462949,0.9137192357691528,0.8573883389160437,0.8294076446931085,0.8109817227603431,0.8725928510589115],[0.8632652528176233,0.8307711680697598,0.806325363738676,0.8083809226825025,1.0,0.8174188305398848,0.7545757708802563,0.7836506907941854,0.7572949518936524,0.824172181842972,0.7933463648490178,0.7607306838315162,0.7750445497918066,0.8160962970722465,0.7539280696127229,0.8401414789717606,0.7759139627925256,0.7381913754458849,0.7821466603664486],[0.9427443100788211,0.9068634769682573,0.9088871339756855,0.9161793848350434,0.8174188305398848,1.0000000000000002,0.901784313322209,0.8398355416155283,0.8458477083107547,0.8710185754425422,0.8711699860665181,0.8436234594895728,0.8878149415456984,0.8268517044766464,0.8811012661565856,0.8687842753122508,0.8422061919355135,0.8698724886382514,0.8562538248303053],[0.8597866991042351,0.8742600870226984,0.8341330271419121,0.867827540409724,0.7545757708802563,0.901784313322209,1.0000000000000007,0.8126360308976623,0.7907698195737936,0.8514513604132405,0.8066347655956038,0.8127971623273776,0.79600961674215,0.7597416191062142,0.8353294720267126,0.8053932946806339,0.7808792225547974,0.7587981943298097,0.8236480813912903],[0.9207673224573752,0.8731845813159985,0.8652650128607107,0.8790539898661778,0.7836506907941854,0.8398355416155283,0.8126360308976623,1.0000000000000004,0.7723966401715038,0.8501682414168299,0.8158951239521197,0.8231272810368351,0.8633992727782007,0.8814704621756608,0.8396127610938504,0.8210168911402977,0.7952826204099046,0.7440723679711203,0.8115148997378621],[0.8628305997622432,0.8319077124083019,0.7979194653296573,0.817800256004249,0.7572949518936524,0.8458477083107547,0.7907698195737936,0.7723966401715038,1.0000000000000004,0.7899503912694545,0.7964290494601658,0.8010536554168914,0.7753149302217999,0.7451463195855687,0.7956552763217886,0.8433396021788215,0.7899627221229844,0.7969580291066347,0.7506180797866211],[0.9078215692156396,0.8485462500723269,0.849102420246119,0.8721727379487391,0.824172181842972,0.8710185754425422,0.8514513604132405,0.8501682414168299,0.7899503912694545,0.9999999999999994,0.8194309239258262,0.7983780721290941,0.8404438519857915,0.8059405607842276,0.7880218760251276,0.8473776110622175,0.8210959925562835,0.7593951945708979,0.8574058702092251],[0.9055303116502682,0.9063083481610428,0.84192280934985,0.8884961382677579,0.7933463648490178,0.8711699860665181,0.8066347655956038,0.8158951239521197,0.7964290494601658,0.8194309239258262,1.0000000000000007,0.8039050232878706,0.8155003003306092,0.8397197566571909,0.825675102603352,0.8369134416564691,0.7950652411775809,0.8078588072427288,0.8045563191004039],[0.8832623441162888,0.8822687704020371,0.822738727601321,0.8397043221978384,0.7607306838315162,0.8436234594895728,0.8127971623273776,0.8231272810368351,0.8010536554168914,0.7983780721290941,0.8039050232878706,1.0000000000000002,0.7882638290493906,0.8081713671317711,0.8383444560058628,0.8081949951106115,0.7772180092719246,0.7389774406382736,0.7684438290948743],[0.9168449472814179,0.8536182096963427,0.916178056124404,0.90688008938292,0.7750445497918066,0.8878149415456984,0.79600961674215,0.8633992727782007,0.7753149302217999,0.8404438519857915,0.8155003003306092,0.7882638290493906,1.0,0.83117602801117,0.8341285275471679,0.8262221701722203,0.8104707425389099,0.8069317720914244,0.8490819613961069],[0.9153652094933804,0.8987117009292593,0.8355608186830263,0.8695057404462949,0.8160962970722465,0.8268517044766464,0.7597416191062142,0.8814704621756608,0.7451463195855687,0.8059405607842276,0.8397197566571909,0.8081713671317711,0.83117602801117,1.0000000000000004,0.8115304148885247,0.8392761215775778,0.7791859519885372,0.7313515983850669,0.781767253888939],[0.8959289448437062,0.8882943699547783,0.8660944526391772,0.9137192357691528,0.7539280696127229,0.8811012661565856,0.8353294720267126,0.8396127610938504,0.7956552763217886,0.7880218760251276,0.825675102603352,0.8383444560058628,0.8341285275471679,0.8115304148885247,1.0000000000000007,0.8099568406604262,0.7804262198733165,0.7840909211805511,0.7912285994055903],[0.9047869813428289,0.8809389239385222,0.8432850761675879,0.8573883389160437,0.8401414789717606,0.8687842753122508,0.8053932946806339,0.8210168911402977,0.8433396021788215,0.8473776110622175,0.8369134416564691,0.8081949951106115,0.8262221701722203,0.8392761215775778,0.8099568406604262,1.0000000000000007,0.8077041516393946,0.8459987292150681,0.8095640423918155],[0.8854362025911932,0.8302289165442452,0.8163669507180387,0.8294076446931085,0.7759139627925256,0.8422061919355135,0.7808792225547974,0.7952826204099046,0.7899627221229844,0.8210959925562835,0.7950652411775809,0.7772180092719246,0.8104707425389099,0.7791859519885372,0.7804262198733165,0.8077041516393946,1.0000000000000004,0.7485610062360684,0.7915490778046768],[0.8442669402143769,0.8243450982925962,0.8121228885008165,0.8109817227603431,0.7381913754458849,0.8698724886382514,0.7587981943298097,0.7440723679711203,0.7969580291066347,0.7593951945708979,0.8078588072427288,0.7389774406382736,0.8069317720914244,0.7313515983850669,0.7840909211805511,0.8459987292150681,0.7485610062360684,1.0,0.7530308536312134],[0.8829167153042576,0.8373734773497665,0.8621878038595402,0.8725928510589115,0.7821466603664486,0.8562538248303053,0.8236480813912903,0.8115148997378621,0.7506180797866211,0.8574058702092251,0.8045563191004039,0.7684438290948743,0.8490819613961069,0.781767253888939,0.7912285994055903,0.8095640423918155,0.7915490778046768,0.7530308536312134,1.0000000000000004]],\"type\":\"heatmap\",\"xaxis\":\"x\",\"yaxis\":\"y\",\"hovertemplate\":\"x: %{x}<br>y: %{y}<br>Similarity Score: %{z}<extra></extra>\"}],                        {\"template\":{\"data\":{\"histogram2dcontour\":[{\"type\":\"histogram2dcontour\",\"colorbar\":{\"outlinewidth\":0,\"ticks\":\"\"},\"colorscale\":[[0.0,\"#0d0887\"],[0.1111111111111111,\"#46039f\"],[0.2222222222222222,\"#7201a8\"],[0.3333333333333333,\"#9c179e\"],[0.4444444444444444,\"#bd3786\"],[0.5555555555555556,\"#d8576b\"],[0.6666666666666666,\"#ed7953\"],[0.7777777777777778,\"#fb9f3a\"],[0.8888888888888888,\"#fdca26\"],[1.0,\"#f0f921\"]]}],\"choropleth\":[{\"type\":\"choropleth\",\"colorbar\":{\"outlinewidth\":0,\"ticks\":\"\"}}],\"histogram2d\":[{\"type\":\"histogram2d\",\"colorbar\":{\"outlinewidth\":0,\"ticks\":\"\"},\"colorscale\":[[0.0,\"#0d0887\"],[0.1111111111111111,\"#46039f\"],[0.2222222222222222,\"#7201a8\"],[0.3333333333333333,\"#9c179e\"],[0.4444444444444444,\"#bd3786\"],[0.5555555555555556,\"#d8576b\"],[0.6666666666666666,\"#ed7953\"],[0.7777777777777778,\"#fb9f3a\"],[0.8888888888888888,\"#fdca26\"],[1.0,\"#f0f921\"]]}],\"heatmap\":[{\"type\":\"heatmap\",\"colorbar\":{\"outlinewidth\":0,\"ticks\":\"\"},\"colorscale\":[[0.0,\"#0d0887\"],[0.1111111111111111,\"#46039f\"],[0.2222222222222222,\"#7201a8\"],[0.3333333333333333,\"#9c179e\"],[0.4444444444444444,\"#bd3786\"],[0.5555555555555556,\"#d8576b\"],[0.6666666666666666,\"#ed7953\"],[0.7777777777777778,\"#fb9f3a\"],[0.8888888888888888,\"#fdca26\"],[1.0,\"#f0f921\"]]}],\"heatmapgl\":[{\"type\":\"heatmapgl\",\"colorbar\":{\"outlinewidth\":0,\"ticks\":\"\"},\"colorscale\":[[0.0,\"#0d0887\"],[0.1111111111111111,\"#46039f\"],[0.2222222222222222,\"#7201a8\"],[0.3333333333333333,\"#9c179e\"],[0.4444444444444444,\"#bd3786\"],[0.5555555555555556,\"#d8576b\"],[0.6666666666666666,\"#ed7953\"],[0.7777777777777778,\"#fb9f3a\"],[0.8888888888888888,\"#fdca26\"],[1.0,\"#f0f921\"]]}],\"contourcarpet\":[{\"type\":\"contourcarpet\",\"colorbar\":{\"outlinewidth\":0,\"ticks\":\"\"}}],\"contour\":[{\"type\":\"contour\",\"colorbar\":{\"outlinewidth\":0,\"ticks\":\"\"},\"colorscale\":[[0.0,\"#0d0887\"],[0.1111111111111111,\"#46039f\"],[0.2222222222222222,\"#7201a8\"],[0.3333333333333333,\"#9c179e\"],[0.4444444444444444,\"#bd3786\"],[0.5555555555555556,\"#d8576b\"],[0.6666666666666666,\"#ed7953\"],[0.7777777777777778,\"#fb9f3a\"],[0.8888888888888888,\"#fdca26\"],[1.0,\"#f0f921\"]]}],\"surface\":[{\"type\":\"surface\",\"colorbar\":{\"outlinewidth\":0,\"ticks\":\"\"},\"colorscale\":[[0.0,\"#0d0887\"],[0.1111111111111111,\"#46039f\"],[0.2222222222222222,\"#7201a8\"],[0.3333333333333333,\"#9c179e\"],[0.4444444444444444,\"#bd3786\"],[0.5555555555555556,\"#d8576b\"],[0.6666666666666666,\"#ed7953\"],[0.7777777777777778,\"#fb9f3a\"],[0.8888888888888888,\"#fdca26\"],[1.0,\"#f0f921\"]]}],\"mesh3d\":[{\"type\":\"mesh3d\",\"colorbar\":{\"outlinewidth\":0,\"ticks\":\"\"}}],\"scatter\":[{\"fillpattern\":{\"fillmode\":\"overlay\",\"size\":10,\"solidity\":0.2},\"type\":\"scatter\"}],\"parcoords\":[{\"type\":\"parcoords\",\"line\":{\"colorbar\":{\"outlinewidth\":0,\"ticks\":\"\"}}}],\"scatterpolargl\":[{\"type\":\"scatterpolargl\",\"marker\":{\"colorbar\":{\"outlinewidth\":0,\"ticks\":\"\"}}}],\"bar\":[{\"error_x\":{\"color\":\"#2a3f5f\"},\"error_y\":{\"color\":\"#2a3f5f\"},\"marker\":{\"line\":{\"color\":\"#E5ECF6\",\"width\":0.5},\"pattern\":{\"fillmode\":\"overlay\",\"size\":10,\"solidity\":0.2}},\"type\":\"bar\"}],\"scattergeo\":[{\"type\":\"scattergeo\",\"marker\":{\"colorbar\":{\"outlinewidth\":0,\"ticks\":\"\"}}}],\"scatterpolar\":[{\"type\":\"scatterpolar\",\"marker\":{\"colorbar\":{\"outlinewidth\":0,\"ticks\":\"\"}}}],\"histogram\":[{\"marker\":{\"pattern\":{\"fillmode\":\"overlay\",\"size\":10,\"solidity\":0.2}},\"type\":\"histogram\"}],\"scattergl\":[{\"type\":\"scattergl\",\"marker\":{\"colorbar\":{\"outlinewidth\":0,\"ticks\":\"\"}}}],\"scatter3d\":[{\"type\":\"scatter3d\",\"line\":{\"colorbar\":{\"outlinewidth\":0,\"ticks\":\"\"}},\"marker\":{\"colorbar\":{\"outlinewidth\":0,\"ticks\":\"\"}}}],\"scattermapbox\":[{\"type\":\"scattermapbox\",\"marker\":{\"colorbar\":{\"outlinewidth\":0,\"ticks\":\"\"}}}],\"scatterternary\":[{\"type\":\"scatterternary\",\"marker\":{\"colorbar\":{\"outlinewidth\":0,\"ticks\":\"\"}}}],\"scattercarpet\":[{\"type\":\"scattercarpet\",\"marker\":{\"colorbar\":{\"outlinewidth\":0,\"ticks\":\"\"}}}],\"carpet\":[{\"aaxis\":{\"endlinecolor\":\"#2a3f5f\",\"gridcolor\":\"white\",\"linecolor\":\"white\",\"minorgridcolor\":\"white\",\"startlinecolor\":\"#2a3f5f\"},\"baxis\":{\"endlinecolor\":\"#2a3f5f\",\"gridcolor\":\"white\",\"linecolor\":\"white\",\"minorgridcolor\":\"white\",\"startlinecolor\":\"#2a3f5f\"},\"type\":\"carpet\"}],\"table\":[{\"cells\":{\"fill\":{\"color\":\"#EBF0F8\"},\"line\":{\"color\":\"white\"}},\"header\":{\"fill\":{\"color\":\"#C8D4E3\"},\"line\":{\"color\":\"white\"}},\"type\":\"table\"}],\"barpolar\":[{\"marker\":{\"line\":{\"color\":\"#E5ECF6\",\"width\":0.5},\"pattern\":{\"fillmode\":\"overlay\",\"size\":10,\"solidity\":0.2}},\"type\":\"barpolar\"}],\"pie\":[{\"automargin\":true,\"type\":\"pie\"}]},\"layout\":{\"autotypenumbers\":\"strict\",\"colorway\":[\"#636efa\",\"#EF553B\",\"#00cc96\",\"#ab63fa\",\"#FFA15A\",\"#19d3f3\",\"#FF6692\",\"#B6E880\",\"#FF97FF\",\"#FECB52\"],\"font\":{\"color\":\"#2a3f5f\"},\"hovermode\":\"closest\",\"hoverlabel\":{\"align\":\"left\"},\"paper_bgcolor\":\"white\",\"plot_bgcolor\":\"#E5ECF6\",\"polar\":{\"bgcolor\":\"#E5ECF6\",\"angularaxis\":{\"gridcolor\":\"white\",\"linecolor\":\"white\",\"ticks\":\"\"},\"radialaxis\":{\"gridcolor\":\"white\",\"linecolor\":\"white\",\"ticks\":\"\"}},\"ternary\":{\"bgcolor\":\"#E5ECF6\",\"aaxis\":{\"gridcolor\":\"white\",\"linecolor\":\"white\",\"ticks\":\"\"},\"baxis\":{\"gridcolor\":\"white\",\"linecolor\":\"white\",\"ticks\":\"\"},\"caxis\":{\"gridcolor\":\"white\",\"linecolor\":\"white\",\"ticks\":\"\"}},\"coloraxis\":{\"colorbar\":{\"outlinewidth\":0,\"ticks\":\"\"}},\"colorscale\":{\"sequential\":[[0.0,\"#0d0887\"],[0.1111111111111111,\"#46039f\"],[0.2222222222222222,\"#7201a8\"],[0.3333333333333333,\"#9c179e\"],[0.4444444444444444,\"#bd3786\"],[0.5555555555555556,\"#d8576b\"],[0.6666666666666666,\"#ed7953\"],[0.7777777777777778,\"#fb9f3a\"],[0.8888888888888888,\"#fdca26\"],[1.0,\"#f0f921\"]],\"sequentialminus\":[[0.0,\"#0d0887\"],[0.1111111111111111,\"#46039f\"],[0.2222222222222222,\"#7201a8\"],[0.3333333333333333,\"#9c179e\"],[0.4444444444444444,\"#bd3786\"],[0.5555555555555556,\"#d8576b\"],[0.6666666666666666,\"#ed7953\"],[0.7777777777777778,\"#fb9f3a\"],[0.8888888888888888,\"#fdca26\"],[1.0,\"#f0f921\"]],\"diverging\":[[0,\"#8e0152\"],[0.1,\"#c51b7d\"],[0.2,\"#de77ae\"],[0.3,\"#f1b6da\"],[0.4,\"#fde0ef\"],[0.5,\"#f7f7f7\"],[0.6,\"#e6f5d0\"],[0.7,\"#b8e186\"],[0.8,\"#7fbc41\"],[0.9,\"#4d9221\"],[1,\"#276419\"]]},\"xaxis\":{\"gridcolor\":\"white\",\"linecolor\":\"white\",\"ticks\":\"\",\"title\":{\"standoff\":15},\"zerolinecolor\":\"white\",\"automargin\":true,\"zerolinewidth\":2},\"yaxis\":{\"gridcolor\":\"white\",\"linecolor\":\"white\",\"ticks\":\"\",\"title\":{\"standoff\":15},\"zerolinecolor\":\"white\",\"automargin\":true,\"zerolinewidth\":2},\"scene\":{\"xaxis\":{\"backgroundcolor\":\"#E5ECF6\",\"gridcolor\":\"white\",\"linecolor\":\"white\",\"showbackground\":true,\"ticks\":\"\",\"zerolinecolor\":\"white\",\"gridwidth\":2},\"yaxis\":{\"backgroundcolor\":\"#E5ECF6\",\"gridcolor\":\"white\",\"linecolor\":\"white\",\"showbackground\":true,\"ticks\":\"\",\"zerolinecolor\":\"white\",\"gridwidth\":2},\"zaxis\":{\"backgroundcolor\":\"#E5ECF6\",\"gridcolor\":\"white\",\"linecolor\":\"white\",\"showbackground\":true,\"ticks\":\"\",\"zerolinecolor\":\"white\",\"gridwidth\":2}},\"shapedefaults\":{\"line\":{\"color\":\"#2a3f5f\"}},\"annotationdefaults\":{\"arrowcolor\":\"#2a3f5f\",\"arrowhead\":0,\"arrowwidth\":1},\"geo\":{\"bgcolor\":\"white\",\"landcolor\":\"#E5ECF6\",\"subunitcolor\":\"white\",\"showland\":true,\"showlakes\":true,\"lakecolor\":\"white\"},\"title\":{\"x\":0.05},\"mapbox\":{\"style\":\"light\"}}},\"xaxis\":{\"anchor\":\"y\",\"domain\":[0.0,1.0],\"scaleanchor\":\"y\",\"constrain\":\"domain\"},\"yaxis\":{\"anchor\":\"x\",\"domain\":[0.0,1.0],\"autorange\":\"reversed\",\"constrain\":\"domain\"},\"coloraxis\":{\"colorbar\":{\"title\":{\"text\":\"Similarity Score\"}},\"colorscale\":[[0.0,\"rgb(247,252,240)\"],[0.125,\"rgb(224,243,219)\"],[0.25,\"rgb(204,235,197)\"],[0.375,\"rgb(168,221,181)\"],[0.5,\"rgb(123,204,196)\"],[0.625,\"rgb(78,179,211)\"],[0.75,\"rgb(43,140,190)\"],[0.875,\"rgb(8,104,172)\"],[1.0,\"rgb(8,64,129)\"]]},\"margin\":{\"t\":60},\"title\":{\"font\":{\"size\":22,\"color\":\"Black\"},\"text\":\"<b>Similarity Matrix</b>\",\"y\":0.95,\"x\":0.55,\"xanchor\":\"center\",\"yanchor\":\"top\"},\"hoverlabel\":{\"font\":{\"size\":16,\"family\":\"Rockwell\"},\"bgcolor\":\"white\"},\"width\":800,\"height\":800,\"showlegend\":true,\"legend\":{\"title\":{\"text\":\"Trend\"}}},                        {\"responsive\": true}                    ).then(function(){\n",
              "                            \n",
              "var gd = document.getElementById('d6bd1f89-f690-4b0c-af27-0f0c61a37066');\n",
              "var x = new MutationObserver(function (mutations, observer) {{\n",
              "        var display = window.getComputedStyle(gd).display;\n",
              "        if (!display || display === 'none') {{\n",
              "            console.log([gd, 'removed!']);\n",
              "            Plotly.purge(gd);\n",
              "            observer.disconnect();\n",
              "        }}\n",
              "}});\n",
              "\n",
              "// Listen for the removal of the full notebook cells\n",
              "var notebookContainer = gd.closest('#notebook-container');\n",
              "if (notebookContainer) {{\n",
              "    x.observe(notebookContainer, {childList: true});\n",
              "}}\n",
              "\n",
              "// Listen for the clearing of the current output cell\n",
              "var outputEl = gd.closest('.output');\n",
              "if (outputEl) {{\n",
              "    x.observe(outputEl, {childList: true});\n",
              "}}\n",
              "\n",
              "                        })                };                            </script>        </div>\n",
              "</body>\n",
              "</html>"
            ]
          },
          "metadata": {}
        }
      ]
    },
    {
      "cell_type": "markdown",
      "source": [
        "## **LDA analysis for Chinese**"
      ],
      "metadata": {
        "id": "SxsHR8wZVpFK"
      }
    },
    {
      "cell_type": "code",
      "source": [
        "from sklearn.feature_extraction.text import TfidfVectorizer, CountVectorizer\n",
        "from sklearn.decomposition import LatentDirichletAllocation"
      ],
      "metadata": {
        "id": "lDd7QUxMVnkB"
      },
      "execution_count": 1,
      "outputs": []
    },
    {
      "cell_type": "code",
      "source": [
        "def print_top_words(model, feature_names, n_top_words):\n",
        "    tword = []\n",
        "    for topic_idx, topic in enumerate(model.components_):\n",
        "        print(\"Topic #%d:\" % topic_idx)\n",
        "        topic_w = \" \".join([feature_names[i] for i in topic.argsort()[:-n_top_words - 1:-1]])\n",
        "        tword.append(topic_w)\n",
        "        print(topic_w)\n",
        "    return tword"
      ],
      "metadata": {
        "id": "m16pj1n1n-FB"
      },
      "execution_count": null,
      "outputs": []
    },
    {
      "cell_type": "code",
      "source": [
        "n_features = 1500     # extract 1500 features\n",
        "tf_vectorizer = CountVectorizer(strip_accents = 'unicode',\n",
        "                    max_features=n_features,\n",
        "                    stop_words='english',\n",
        "                    max_df = 0.5,\n",
        "                    min_df = 10)\n",
        "tf = tf_vectorizer.fit_transform(Chinese_df.Chinese_cutted)"
      ],
      "metadata": {
        "id": "Dc6bqu68XpQ4"
      },
      "execution_count": null,
      "outputs": []
    },
    {
      "cell_type": "code",
      "source": [
        "# perplexity curve\n",
        "\n",
        "plexs = []\n",
        "scores = []\n",
        "n_max_topics = 20\n",
        "for i in range(1, n_max_topics):\n",
        "    print('This is the epoch: ',i)\n",
        "    lda = LatentDirichletAllocation(n_components=i, max_iter=50,\n",
        "                                    learning_method='batch',\n",
        "                                    learning_offset=50,random_state=0)\n",
        "    lda.fit(tf)\n",
        "    plexs.append(lda.perplexity(tf))\n",
        "    scores.append(lda.score(tf))\n"
      ],
      "metadata": {
        "colab": {
          "base_uri": "https://localhost:8080/"
        },
        "id": "FO8E0ZX5Y-iY",
        "outputId": "d2177aa8-f168-4c62-eaa8-ad2f02ce5ca0"
      },
      "execution_count": null,
      "outputs": [
        {
          "output_type": "stream",
          "name": "stdout",
          "text": [
            "This is the epoch:  1\n",
            "This is the epoch:  2\n",
            "This is the epoch:  3\n",
            "This is the epoch:  4\n",
            "This is the epoch:  5\n",
            "This is the epoch:  6\n",
            "This is the epoch:  7\n",
            "This is the epoch:  8\n",
            "This is the epoch:  9\n",
            "This is the epoch:  10\n",
            "This is the epoch:  11\n",
            "This is the epoch:  12\n",
            "This is the epoch:  13\n",
            "This is the epoch:  14\n",
            "This is the epoch:  15\n",
            "This is the epoch:  16\n",
            "This is the epoch:  17\n",
            "This is the epoch:  18\n",
            "This is the epoch:  19\n"
          ]
        }
      ]
    },
    {
      "cell_type": "code",
      "source": [
        "n_t = 19         # set the range in x-axis\n",
        "x = list(range(1,n_t))\n",
        "plt.plot(x, plexs[1: n_t])\n",
        "plt.xlabel(\"topic number\")\n",
        "plt.ylabel(\"perplexity\")\n",
        "plt.savefig(\"/content/perplexity.png\", format=\"png\", bbox_inches=\"tight\")\n",
        "\n",
        "# display the figure\n",
        "plt.show()"
      ],
      "metadata": {
        "colab": {
          "base_uri": "https://localhost:8080/",
          "height": 449
        },
        "id": "0oonm8X1buxf",
        "outputId": "a9e0e243-6b49-414d-ace3-a053ed485658"
      },
      "execution_count": null,
      "outputs": [
        {
          "output_type": "display_data",
          "data": {
            "text/plain": [
              "<Figure size 640x480 with 1 Axes>"
            ],
            "image/png": "[encoded data removed]"
          },
          "metadata": {}
        }
      ]
    },
    {
      "cell_type": "code",
      "source": [
        "n_topics = 8\n",
        "lda = LatentDirichletAllocation(n_components=n_topics, max_iter=50,\n",
        "                    learning_method='batch',\n",
        "                    learning_offset=50,\n",
        "                    doc_topic_prior=0.1,\n",
        "                    topic_word_prior=0.01,\n",
        "                    random_state=0)\n",
        "lda.fit(tf)"
      ],
      "metadata": {
        "id": "CZiEY2nnYOWd"
      },
      "execution_count": 2,
      "outputs": []
    },
    {
      "cell_type": "code",
      "source": [
        "n_top_words = 25\n",
        "tf_feature_names = tf_vectorizer.get_feature_names_out()\n",
        "topic_word = print_top_words(lda, tf_feature_names, n_top_words)"
      ],
      "metadata": {
        "colab": {
          "base_uri": "https://localhost:8080/"
        },
        "id": "FD_mQN8XYRHg",
        "outputId": "bef60a2b-9081-4a51-d354-2688581f7e5c"
      },
      "execution_count": null,
      "outputs": [
        {
          "output_type": "stream",
          "name": "stdout",
          "text": [
            "Topic #0:\n",
            "研究 社区 学习型 城市 能力 理论 信息 建设 分析 计划 活动 素养 国际 远程教育 上海 领域 方法 本文 教授 模型 视角 影响 特征 创业 意义\n",
            "Topic #1:\n",
            "高等教育 成人 模式 大学 资源 平台 社区 建设 学习者 理念 技术 课程 服务 数字化 管理 办学 系统 考试 改革 自学 环境 个性化 设计 主体 基础\n",
            "Topic #2:\n",
            "建设 全民 学习型 服务 高校 图书馆 老年 高职 改革 理念 现代化 目标 国家 规划 功能 院校 分析 事业 基础 特色 未来 公共 本文 高质量 老年人\n",
            "Topic #3:\n",
            "职业 培训 远程教育 网络 农村 信息技术 时代 人才 学校 素质 技术 企业 新型 农民 理念 技能 分析 体育 影响 群体 内容 能力 学习型 教学 建设\n",
            "Topic #4:\n",
            "立法 政策 法律 理念 国家 过程 日本 公民 文化 制度 价值 层面 韩国 地方 目标 学习型 权利 历史 理论 内容 建设 经验 分析 科学 基础\n",
            "Topic #5:\n",
            "成人教育 思想 世纪 理念 改革 世界 生活 经济 各国 人类 年代 国际 时代 知识经济 观念 影响 传统 思潮 理论 概念 联合国教科文组织 国家 变革 本文 关系\n",
            "Topic #6:\n",
            "教师 学生 学校 能力 自我 专业 过程 会议 理念 成人教育 理论 学院 学会 大学 教学 阶段 学习者 改革 代表 论坛 课程 职业 意识 个体 大会\n",
            "Topic #7:\n",
            "框架 政策 学分 资历 国家 银行 成果 建设 欧盟 制度 标准 立交桥 欧洲 分析 资格 技能 评价 国际 战略 地区 培训 各类 职业 本文 质量保证\n"
          ]
        }
      ]
    },
    {
      "cell_type": "code",
      "source": [
        "topics=lda.transform(tf)\n",
        "topic = []\n",
        "for t in topics:\n",
        "    topic.append(\"Topic #\"+str(list(t).index(np.max(t))))\n",
        "Chinese_df['topic No. with the highest probabilty']=topic\n",
        "Chinese_df['probability of each topic']=list(topics)\n",
        "Chinese_df.to_excel(\"document-distribution.xlsx\",index=False)"
      ],
      "metadata": {
        "id": "tMqhAgNUYWw1"
      },
      "execution_count": null,
      "outputs": []
    },
    {
      "cell_type": "code",
      "source": [
        "def predict_to_data_frame(model: LatentDirichletAllocation, X: np.ndarray) -> pd.DataFrame:\n",
        "    matrix = model.transform(X)\n",
        "    columns = [f'P(topic {i+1})' for i in range(len(model.components_))]\n",
        "    df = pd.DataFrame(matrix, columns=columns)\n",
        "    return df\n",
        "\n",
        "X = tf.toarray()\n",
        "\n",
        "predict_df = predict_to_data_frame(lda, X)\n",
        "\n",
        "predict_df.to_csv(predict_topic_csv_path, encoding='gbk', index=None)"
      ],
      "metadata": {
        "id": "sZPpW_RwYWy_"
      },
      "execution_count": null,
      "outputs": []
    },
    {
      "cell_type": "code",
      "source": [],
      "metadata": {
        "id": "awqucTJZYW1T"
      },
      "execution_count": null,
      "outputs": []
    }
  ]
}